{
 "cells": [
  {
   "cell_type": "code",
   "execution_count": 759,
   "metadata": {},
   "outputs": [],
   "source": [
    "import pandas as pd\n",
    "import numpy as np\n",
    "import matplotlib.pyplot as plt\n",
    "%matplotlib inline\n",
    "import seaborn as sns\n",
    "sns.set(style=\"darkgrid\")\n",
    "import datetime as dt\n",
    "## Display all the columns of the dataframe\n",
    "\n",
    "pd.pandas.set_option('display.max_columns',None)"
   ]
  },
  {
   "cell_type": "code",
   "execution_count": 760,
   "metadata": {},
   "outputs": [],
   "source": [
    "df = pd.read_csv(\"D:\\\\Assignement 1\\\\dataset.csv\")"
   ]
  },
  {
   "cell_type": "code",
   "execution_count": 761,
   "metadata": {},
   "outputs": [
    {
     "data": {
      "text/html": [
       "<div>\n",
       "<style scoped>\n",
       "    .dataframe tbody tr th:only-of-type {\n",
       "        vertical-align: middle;\n",
       "    }\n",
       "\n",
       "    .dataframe tbody tr th {\n",
       "        vertical-align: top;\n",
       "    }\n",
       "\n",
       "    .dataframe thead th {\n",
       "        text-align: right;\n",
       "    }\n",
       "</style>\n",
       "<table border=\"1\" class=\"dataframe\">\n",
       "  <thead>\n",
       "    <tr style=\"text-align: right;\">\n",
       "      <th></th>\n",
       "      <th>Date</th>\n",
       "      <th>Price</th>\n",
       "      <th>Open</th>\n",
       "      <th>High</th>\n",
       "      <th>Low</th>\n",
       "      <th>Vol.</th>\n",
       "      <th>Change %</th>\n",
       "    </tr>\n",
       "  </thead>\n",
       "  <tbody>\n",
       "    <tr>\n",
       "      <th>0</th>\n",
       "      <td>16-Feb-22</td>\n",
       "      <td>3,069.74</td>\n",
       "      <td>3,182.32</td>\n",
       "      <td>3,184.15</td>\n",
       "      <td>3,045.92</td>\n",
       "      <td>401.88K</td>\n",
       "      <td>-3.54%</td>\n",
       "    </tr>\n",
       "    <tr>\n",
       "      <th>1</th>\n",
       "      <td>15-Feb-22</td>\n",
       "      <td>3,182.27</td>\n",
       "      <td>2,929.29</td>\n",
       "      <td>3,193.18</td>\n",
       "      <td>2,912.61</td>\n",
       "      <td>540.04K</td>\n",
       "      <td>8.64%</td>\n",
       "    </tr>\n",
       "    <tr>\n",
       "      <th>2</th>\n",
       "      <td>14-Feb-22</td>\n",
       "      <td>2,929.31</td>\n",
       "      <td>2,871.06</td>\n",
       "      <td>NaN</td>\n",
       "      <td>2,834.13</td>\n",
       "      <td>477.24K</td>\n",
       "      <td>2.06%</td>\n",
       "    </tr>\n",
       "    <tr>\n",
       "      <th>3</th>\n",
       "      <td>13-Feb-22</td>\n",
       "      <td>2,870.25</td>\n",
       "      <td>2,917.16</td>\n",
       "      <td>2,952.94</td>\n",
       "      <td>2,838.29</td>\n",
       "      <td>303.12K</td>\n",
       "      <td>-1.61%</td>\n",
       "    </tr>\n",
       "    <tr>\n",
       "      <th>4</th>\n",
       "      <td>12-Feb-22</td>\n",
       "      <td>NaN</td>\n",
       "      <td>2,927.64</td>\n",
       "      <td>2,984.72</td>\n",
       "      <td>2,858.85</td>\n",
       "      <td>433.29K</td>\n",
       "      <td>-0.36%</td>\n",
       "    </tr>\n",
       "    <tr>\n",
       "      <th>5</th>\n",
       "      <td>11-Feb-22</td>\n",
       "      <td>2,927.63</td>\n",
       "      <td>3,071.80</td>\n",
       "      <td>3,136.33</td>\n",
       "      <td>2,880.60</td>\n",
       "      <td>607.93K</td>\n",
       "      <td>-4.69%</td>\n",
       "    </tr>\n",
       "    <tr>\n",
       "      <th>6</th>\n",
       "      <td>10-Feb-22</td>\n",
       "      <td>3,071.83</td>\n",
       "      <td>3,243.73</td>\n",
       "      <td>3,277.36</td>\n",
       "      <td>3,058.59</td>\n",
       "      <td>742.54K</td>\n",
       "      <td>-5.30%</td>\n",
       "    </tr>\n",
       "    <tr>\n",
       "      <th>7</th>\n",
       "      <td>09-Feb-22</td>\n",
       "      <td>3,243.62</td>\n",
       "      <td>3,115.91</td>\n",
       "      <td>3,266.41</td>\n",
       "      <td>3,055.95</td>\n",
       "      <td>477.82K</td>\n",
       "      <td>4.10%</td>\n",
       "    </tr>\n",
       "    <tr>\n",
       "      <th>8</th>\n",
       "      <td>08-Feb-22</td>\n",
       "      <td>3,115.88</td>\n",
       "      <td>3,139.65</td>\n",
       "      <td>3,228.86</td>\n",
       "      <td>3,029.70</td>\n",
       "      <td>NaN</td>\n",
       "      <td>-0.77%</td>\n",
       "    </tr>\n",
       "    <tr>\n",
       "      <th>9</th>\n",
       "      <td>07-Feb-22</td>\n",
       "      <td>3,140.18</td>\n",
       "      <td>3,056.29</td>\n",
       "      <td>3,185.77</td>\n",
       "      <td>2,995.59</td>\n",
       "      <td>568.42K</td>\n",
       "      <td>2.75%</td>\n",
       "    </tr>\n",
       "    <tr>\n",
       "      <th>10</th>\n",
       "      <td>06-Feb-22</td>\n",
       "      <td>3,056.20</td>\n",
       "      <td>3,013.75</td>\n",
       "      <td>3,073.23</td>\n",
       "      <td>2,957.16</td>\n",
       "      <td>316.58K</td>\n",
       "      <td>1.41%</td>\n",
       "    </tr>\n",
       "    <tr>\n",
       "      <th>11</th>\n",
       "      <td>05-Feb-22</td>\n",
       "      <td>3,013.81</td>\n",
       "      <td>2,994.74</td>\n",
       "      <td>3,058.88</td>\n",
       "      <td>2,963.11</td>\n",
       "      <td>473.62K</td>\n",
       "      <td>0.63%</td>\n",
       "    </tr>\n",
       "    <tr>\n",
       "      <th>12</th>\n",
       "      <td>NaN</td>\n",
       "      <td>2,994.99</td>\n",
       "      <td>2,692.80</td>\n",
       "      <td>2,994.99</td>\n",
       "      <td>2,671.72</td>\n",
       "      <td>908.75K</td>\n",
       "      <td>11.22%</td>\n",
       "    </tr>\n",
       "    <tr>\n",
       "      <th>13</th>\n",
       "      <td>03-Feb-22</td>\n",
       "      <td>2,692.80</td>\n",
       "      <td>2,680.66</td>\n",
       "      <td>2,723.97</td>\n",
       "      <td>2,579.80</td>\n",
       "      <td>549.27K</td>\n",
       "      <td>0.44%</td>\n",
       "    </tr>\n",
       "    <tr>\n",
       "      <th>14</th>\n",
       "      <td>02-Feb-22</td>\n",
       "      <td>2,681.00</td>\n",
       "      <td>2,787.16</td>\n",
       "      <td>2,809.57</td>\n",
       "      <td>2,618.07</td>\n",
       "      <td>602.40K</td>\n",
       "      <td>NaN</td>\n",
       "    </tr>\n",
       "    <tr>\n",
       "      <th>15</th>\n",
       "      <td>01-Feb-22</td>\n",
       "      <td>2,787.16</td>\n",
       "      <td>2,686.82</td>\n",
       "      <td>2,808.60</td>\n",
       "      <td>2,676.32</td>\n",
       "      <td>521.74K</td>\n",
       "      <td>3.73%</td>\n",
       "    </tr>\n",
       "    <tr>\n",
       "      <th>16</th>\n",
       "      <td>31-Jan-22</td>\n",
       "      <td>2,686.82</td>\n",
       "      <td>2,602.71</td>\n",
       "      <td>2,704.64</td>\n",
       "      <td>2,478.85</td>\n",
       "      <td>601.73K</td>\n",
       "      <td>3.23%</td>\n",
       "    </tr>\n",
       "    <tr>\n",
       "      <th>17</th>\n",
       "      <td>30-Jan-22</td>\n",
       "      <td>2,602.77</td>\n",
       "      <td>2,600.12</td>\n",
       "      <td>2,636.04</td>\n",
       "      <td>2,543.99</td>\n",
       "      <td>381.84K</td>\n",
       "      <td>0.11%</td>\n",
       "    </tr>\n",
       "    <tr>\n",
       "      <th>18</th>\n",
       "      <td>29-Jan-22</td>\n",
       "      <td>2,600.02</td>\n",
       "      <td>2,545.95</td>\n",
       "      <td>2,632.51</td>\n",
       "      <td>2,520.14</td>\n",
       "      <td>484.18K</td>\n",
       "      <td>2.12%</td>\n",
       "    </tr>\n",
       "    <tr>\n",
       "      <th>19</th>\n",
       "      <td>28-Jan-22</td>\n",
       "      <td>2,545.95</td>\n",
       "      <td>2,424.66</td>\n",
       "      <td>2,556.34</td>\n",
       "      <td>2,362.53</td>\n",
       "      <td>634.50K</td>\n",
       "      <td>5.00%</td>\n",
       "    </tr>\n",
       "  </tbody>\n",
       "</table>\n",
       "</div>"
      ],
      "text/plain": [
       "         Date     Price      Open      High       Low     Vol. Change %\n",
       "0   16-Feb-22  3,069.74  3,182.32  3,184.15  3,045.92  401.88K   -3.54%\n",
       "1   15-Feb-22  3,182.27  2,929.29  3,193.18  2,912.61  540.04K    8.64%\n",
       "2   14-Feb-22  2,929.31  2,871.06       NaN  2,834.13  477.24K    2.06%\n",
       "3   13-Feb-22  2,870.25  2,917.16  2,952.94  2,838.29  303.12K   -1.61%\n",
       "4   12-Feb-22       NaN  2,927.64  2,984.72  2,858.85  433.29K   -0.36%\n",
       "5   11-Feb-22  2,927.63  3,071.80  3,136.33  2,880.60  607.93K   -4.69%\n",
       "6   10-Feb-22  3,071.83  3,243.73  3,277.36  3,058.59  742.54K   -5.30%\n",
       "7   09-Feb-22  3,243.62  3,115.91  3,266.41  3,055.95  477.82K    4.10%\n",
       "8   08-Feb-22  3,115.88  3,139.65  3,228.86  3,029.70      NaN   -0.77%\n",
       "9   07-Feb-22  3,140.18  3,056.29  3,185.77  2,995.59  568.42K    2.75%\n",
       "10  06-Feb-22  3,056.20  3,013.75  3,073.23  2,957.16  316.58K    1.41%\n",
       "11  05-Feb-22  3,013.81  2,994.74  3,058.88  2,963.11  473.62K    0.63%\n",
       "12        NaN  2,994.99  2,692.80  2,994.99  2,671.72  908.75K   11.22%\n",
       "13  03-Feb-22  2,692.80  2,680.66  2,723.97  2,579.80  549.27K    0.44%\n",
       "14  02-Feb-22  2,681.00  2,787.16  2,809.57  2,618.07  602.40K      NaN\n",
       "15  01-Feb-22  2,787.16  2,686.82  2,808.60  2,676.32  521.74K    3.73%\n",
       "16  31-Jan-22  2,686.82  2,602.71  2,704.64  2,478.85  601.73K    3.23%\n",
       "17  30-Jan-22  2,602.77  2,600.12  2,636.04  2,543.99  381.84K    0.11%\n",
       "18  29-Jan-22  2,600.02  2,545.95  2,632.51  2,520.14  484.18K    2.12%\n",
       "19  28-Jan-22  2,545.95  2,424.66  2,556.34  2,362.53  634.50K    5.00%"
      ]
     },
     "execution_count": 761,
     "metadata": {},
     "output_type": "execute_result"
    }
   ],
   "source": [
    "df.head(20)"
   ]
  },
  {
   "cell_type": "code",
   "execution_count": 762,
   "metadata": {},
   "outputs": [
    {
     "data": {
      "text/plain": [
       "(1128, 7)"
      ]
     },
     "execution_count": 762,
     "metadata": {},
     "output_type": "execute_result"
    }
   ],
   "source": [
    "df.shape"
   ]
  },
  {
   "cell_type": "code",
   "execution_count": 763,
   "metadata": {},
   "outputs": [
    {
     "data": {
      "text/plain": [
       "Date        object\n",
       "Price       object\n",
       "Open        object\n",
       "High        object\n",
       "Low         object\n",
       "Vol.        object\n",
       "Change %    object\n",
       "dtype: object"
      ]
     },
     "execution_count": 763,
     "metadata": {},
     "output_type": "execute_result"
    }
   ],
   "source": [
    "df.dtypes"
   ]
  },
  {
   "cell_type": "code",
   "execution_count": 764,
   "metadata": {},
   "outputs": [
    {
     "name": "stdout",
     "output_type": "stream",
     "text": [
      "<class 'pandas.core.frame.DataFrame'>\n",
      "RangeIndex: 1128 entries, 0 to 1127\n",
      "Data columns (total 7 columns):\n",
      " #   Column    Non-Null Count  Dtype \n",
      "---  ------    --------------  ----- \n",
      " 0   Date      1115 non-null   object\n",
      " 1   Price     1112 non-null   object\n",
      " 2   Open      1114 non-null   object\n",
      " 3   High      1119 non-null   object\n",
      " 4   Low       1124 non-null   object\n",
      " 5   Vol.      1121 non-null   object\n",
      " 6   Change %  1120 non-null   object\n",
      "dtypes: object(7)\n",
      "memory usage: 61.8+ KB\n"
     ]
    }
   ],
   "source": [
    "df.info()"
   ]
  },
  {
   "cell_type": "markdown",
   "metadata": {},
   "source": [
    "## Data Preparation\n"
   ]
  },
  {
   "cell_type": "code",
   "execution_count": 765,
   "metadata": {},
   "outputs": [
    {
     "data": {
      "text/plain": [
       "Date        1.15\n",
       "Price       1.42\n",
       "Open        1.24\n",
       "High        0.80\n",
       "Low         0.35\n",
       "Vol.        0.62\n",
       "Change %    0.71\n",
       "dtype: float64"
      ]
     },
     "execution_count": 765,
     "metadata": {},
     "output_type": "execute_result"
    }
   ],
   "source": [
    "# Find out how many percetange of values are NULL or NAN.\n",
    "((df.isnull() | df.isna()).sum() * 100 / df.index.size).round(2)"
   ]
  },
  {
   "cell_type": "markdown",
   "metadata": {},
   "source": [
    "### * Fill-Out Missing Data"
   ]
  },
  {
   "cell_type": "markdown",
   "metadata": {},
   "source": [
    "#### 1) Date"
   ]
  },
  {
   "cell_type": "code",
   "execution_count": 766,
   "metadata": {},
   "outputs": [
    {
     "data": {
      "text/plain": [
       "Index(['Date', 'Price', 'Open', 'High', 'Low', 'Vol.', 'Change %'], dtype='object')"
      ]
     },
     "execution_count": 766,
     "metadata": {},
     "output_type": "execute_result"
    }
   ],
   "source": [
    "df.columns"
   ]
  },
  {
   "cell_type": "code",
   "execution_count": 767,
   "metadata": {},
   "outputs": [
    {
     "name": "stdout",
     "output_type": "stream",
     "text": [
      "Total number of null valus in Date column is:- 13\n"
     ]
    }
   ],
   "source": [
    "print(f'''Total number of null valus in Date column is:- {df[\"Date\"].isnull().sum()}''')"
   ]
  },
  {
   "cell_type": "code",
   "execution_count": 768,
   "metadata": {},
   "outputs": [
    {
     "data": {
      "text/html": [
       "<div>\n",
       "<style scoped>\n",
       "    .dataframe tbody tr th:only-of-type {\n",
       "        vertical-align: middle;\n",
       "    }\n",
       "\n",
       "    .dataframe tbody tr th {\n",
       "        vertical-align: top;\n",
       "    }\n",
       "\n",
       "    .dataframe thead th {\n",
       "        text-align: right;\n",
       "    }\n",
       "</style>\n",
       "<table border=\"1\" class=\"dataframe\">\n",
       "  <thead>\n",
       "    <tr style=\"text-align: right;\">\n",
       "      <th></th>\n",
       "      <th>Date</th>\n",
       "      <th>Price</th>\n",
       "      <th>Open</th>\n",
       "      <th>High</th>\n",
       "      <th>Low</th>\n",
       "      <th>Vol.</th>\n",
       "      <th>Change %</th>\n",
       "    </tr>\n",
       "  </thead>\n",
       "  <tbody>\n",
       "    <tr>\n",
       "      <th>12</th>\n",
       "      <td>NaN</td>\n",
       "      <td>2,994.99</td>\n",
       "      <td>2,692.80</td>\n",
       "      <td>2,994.99</td>\n",
       "      <td>2,671.72</td>\n",
       "      <td>908.75K</td>\n",
       "      <td>11.22%</td>\n",
       "    </tr>\n",
       "    <tr>\n",
       "      <th>42</th>\n",
       "      <td>NaN</td>\n",
       "      <td>3,535.86</td>\n",
       "      <td>3,784.47</td>\n",
       "      <td>3,846.44</td>\n",
       "      <td>3,418.46</td>\n",
       "      <td>582.71K</td>\n",
       "      <td>-6.69%</td>\n",
       "    </tr>\n",
       "    <tr>\n",
       "      <th>88</th>\n",
       "      <td>NaN</td>\n",
       "      <td>4,408.85</td>\n",
       "      <td>4,295.27</td>\n",
       "      <td>4,434.27</td>\n",
       "      <td>4,206.75</td>\n",
       "      <td>462.99K</td>\n",
       "      <td>2.64%</td>\n",
       "    </tr>\n",
       "    <tr>\n",
       "      <th>139</th>\n",
       "      <td>NaN</td>\n",
       "      <td>3,000.59</td>\n",
       "      <td>2,851.06</td>\n",
       "      <td>3,047.08</td>\n",
       "      <td>2,837.68</td>\n",
       "      <td>968.23K</td>\n",
       "      <td>5.23%</td>\n",
       "    </tr>\n",
       "    <tr>\n",
       "      <th>201</th>\n",
       "      <td>NaN</td>\n",
       "      <td>2,460.95</td>\n",
       "      <td>2,380.59</td>\n",
       "      <td>2,467.40</td>\n",
       "      <td>2,320.80</td>\n",
       "      <td>1.03M</td>\n",
       "      <td>3.36%</td>\n",
       "    </tr>\n",
       "    <tr>\n",
       "      <th>280</th>\n",
       "      <td>NaN</td>\n",
       "      <td>3,811.77</td>\n",
       "      <td>4,173.61</td>\n",
       "      <td>4,366.10</td>\n",
       "      <td>3,794.15</td>\n",
       "      <td>2.78M</td>\n",
       "      <td>-8.54%</td>\n",
       "    </tr>\n",
       "    <tr>\n",
       "      <th>391</th>\n",
       "      <td>NaN</td>\n",
       "      <td>1,117.33</td>\n",
       "      <td>1,377.63</td>\n",
       "      <td>1,387.39</td>\n",
       "      <td>1,095.26</td>\n",
       "      <td>NaN</td>\n",
       "      <td>-18.89%</td>\n",
       "    </tr>\n",
       "    <tr>\n",
       "      <th>494</th>\n",
       "      <td>NaN</td>\n",
       "      <td>370.16</td>\n",
       "      <td>365.25</td>\n",
       "      <td>377.97</td>\n",
       "      <td>364.57</td>\n",
       "      <td>7.17M</td>\n",
       "      <td>1.34%</td>\n",
       "    </tr>\n",
       "    <tr>\n",
       "      <th>619</th>\n",
       "      <td>NaN</td>\n",
       "      <td>244.56</td>\n",
       "      <td>242</td>\n",
       "      <td>244.94</td>\n",
       "      <td>235.44</td>\n",
       "      <td>8.10M</td>\n",
       "      <td>1.06%</td>\n",
       "    </tr>\n",
       "    <tr>\n",
       "      <th>722</th>\n",
       "      <td>NaN</td>\n",
       "      <td>246.96</td>\n",
       "      <td>265.63</td>\n",
       "      <td>266.17</td>\n",
       "      <td>245.75</td>\n",
       "      <td>NaN</td>\n",
       "      <td>-7.04%</td>\n",
       "    </tr>\n",
       "    <tr>\n",
       "      <th>847</th>\n",
       "      <td>NaN</td>\n",
       "      <td>162.28</td>\n",
       "      <td>171.44</td>\n",
       "      <td>171.61</td>\n",
       "      <td>154.42</td>\n",
       "      <td>16.00M</td>\n",
       "      <td>-5.34%</td>\n",
       "    </tr>\n",
       "    <tr>\n",
       "      <th>976</th>\n",
       "      <td>NaN</td>\n",
       "      <td>267.98</td>\n",
       "      <td>267.74</td>\n",
       "      <td>282.75</td>\n",
       "      <td>263.96</td>\n",
       "      <td>8.66M</td>\n",
       "      <td>0.09%</td>\n",
       "    </tr>\n",
       "    <tr>\n",
       "      <th>1059</th>\n",
       "      <td>NaN</td>\n",
       "      <td>134.25</td>\n",
       "      <td>136.44</td>\n",
       "      <td>137.05</td>\n",
       "      <td>132.36</td>\n",
       "      <td>11.49M</td>\n",
       "      <td>-1.60%</td>\n",
       "    </tr>\n",
       "  </tbody>\n",
       "</table>\n",
       "</div>"
      ],
      "text/plain": [
       "     Date     Price      Open      High       Low     Vol. Change %\n",
       "12    NaN  2,994.99  2,692.80  2,994.99  2,671.72  908.75K   11.22%\n",
       "42    NaN  3,535.86  3,784.47  3,846.44  3,418.46  582.71K   -6.69%\n",
       "88    NaN  4,408.85  4,295.27  4,434.27  4,206.75  462.99K    2.64%\n",
       "139   NaN  3,000.59  2,851.06  3,047.08  2,837.68  968.23K    5.23%\n",
       "201   NaN  2,460.95  2,380.59  2,467.40  2,320.80    1.03M    3.36%\n",
       "280   NaN  3,811.77  4,173.61  4,366.10  3,794.15    2.78M   -8.54%\n",
       "391   NaN  1,117.33  1,377.63  1,387.39  1,095.26      NaN  -18.89%\n",
       "494   NaN    370.16    365.25    377.97    364.57    7.17M    1.34%\n",
       "619   NaN    244.56       242    244.94    235.44    8.10M    1.06%\n",
       "722   NaN    246.96    265.63    266.17    245.75      NaN   -7.04%\n",
       "847   NaN    162.28    171.44    171.61    154.42   16.00M   -5.34%\n",
       "976   NaN    267.98    267.74    282.75    263.96    8.66M    0.09%\n",
       "1059  NaN    134.25    136.44    137.05    132.36   11.49M   -1.60%"
      ]
     },
     "execution_count": 768,
     "metadata": {},
     "output_type": "execute_result"
    }
   ],
   "source": [
    "# Function to print all rows which have null values column wise.\n",
    "def missing_rows(dataframe_name,column_name):\n",
    "    return dataframe_name[dataframe_name[column_name].isnull()]\n",
    "missing_rows(dataframe_name=df,column_name=\"Date\")"
   ]
  },
  {
   "cell_type": "code",
   "execution_count": 769,
   "metadata": {},
   "outputs": [],
   "source": [
    "df[\"Date\"] = pd.to_datetime(df.Date)"
   ]
  },
  {
   "cell_type": "code",
   "execution_count": 770,
   "metadata": {},
   "outputs": [
    {
     "data": {
      "text/plain": [
       "dtype('<M8[ns]')"
      ]
     },
     "execution_count": 770,
     "metadata": {},
     "output_type": "execute_result"
    }
   ],
   "source": [
    "df[\"Date\"].dtype"
   ]
  },
  {
   "cell_type": "code",
   "execution_count": 771,
   "metadata": {},
   "outputs": [
    {
     "data": {
      "text/plain": [
       "0    2022-02-16\n",
       "1    2022-02-15\n",
       "2    2022-02-14\n",
       "3    2022-02-13\n",
       "4    2022-02-12\n",
       "5    2022-02-11\n",
       "6    2022-02-10\n",
       "7    2022-02-09\n",
       "8    2022-02-08\n",
       "9    2022-02-07\n",
       "10   2022-02-06\n",
       "11   2022-02-05\n",
       "12          NaT\n",
       "13   2022-02-03\n",
       "Name: Date, dtype: datetime64[ns]"
      ]
     },
     "execution_count": 771,
     "metadata": {},
     "output_type": "execute_result"
    }
   ],
   "source": [
    "df[\"Date\"].head(14)"
   ]
  },
  {
   "cell_type": "markdown",
   "metadata": {},
   "source": [
    "Lets just deconstruct date and make new columns in order to \n",
    "store day, month and year."
   ]
  },
  {
   "cell_type": "code",
   "execution_count": 772,
   "metadata": {},
   "outputs": [],
   "source": [
    "def make_new_columns_day_month_year(dataframe_name,date_column_name):\n",
    "    dataframe_name[\"Day\"] = dataframe_name[date_column_name].dt.day\n",
    "    dataframe_name[\"Month\"] = dataframe_name[date_column_name].dt.month\n",
    "    dataframe_name[\"Year\"] = dataframe_name[date_column_name].dt.year"
   ]
  },
  {
   "cell_type": "code",
   "execution_count": 773,
   "metadata": {},
   "outputs": [],
   "source": [
    "make_new_columns_day_month_year(df,\"Date\")"
   ]
  },
  {
   "cell_type": "code",
   "execution_count": 774,
   "metadata": {},
   "outputs": [
    {
     "name": "stdout",
     "output_type": "stream",
     "text": [
      "<class 'pandas.core.frame.DataFrame'>\n",
      "RangeIndex: 1128 entries, 0 to 1127\n",
      "Data columns (total 10 columns):\n",
      " #   Column    Non-Null Count  Dtype         \n",
      "---  ------    --------------  -----         \n",
      " 0   Date      1115 non-null   datetime64[ns]\n",
      " 1   Price     1112 non-null   object        \n",
      " 2   Open      1114 non-null   object        \n",
      " 3   High      1119 non-null   object        \n",
      " 4   Low       1124 non-null   object        \n",
      " 5   Vol.      1121 non-null   object        \n",
      " 6   Change %  1120 non-null   object        \n",
      " 7   Day       1115 non-null   float64       \n",
      " 8   Month     1115 non-null   float64       \n",
      " 9   Year      1115 non-null   float64       \n",
      "dtypes: datetime64[ns](1), float64(3), object(6)\n",
      "memory usage: 88.2+ KB\n"
     ]
    }
   ],
   "source": [
    "# we have made new columns day, month and year and its in float format.\n",
    "df.info()"
   ]
  },
  {
   "cell_type": "code",
   "execution_count": 775,
   "metadata": {},
   "outputs": [],
   "source": [
    "# Let's drop Date column now, we don't need anymore.\n",
    "\n",
    "def drop_columns_from_dataframe(dataframe_name,list_of_columns_name):\n",
    "    dataframe_name.drop(list_of_columns_name,axis=1,inplace=True)"
   ]
  },
  {
   "cell_type": "code",
   "execution_count": 776,
   "metadata": {},
   "outputs": [],
   "source": [
    "drop_columns_from_dataframe(df,[\"Date\"])"
   ]
  },
  {
   "cell_type": "code",
   "execution_count": 777,
   "metadata": {},
   "outputs": [
    {
     "data": {
      "text/html": [
       "<div>\n",
       "<style scoped>\n",
       "    .dataframe tbody tr th:only-of-type {\n",
       "        vertical-align: middle;\n",
       "    }\n",
       "\n",
       "    .dataframe tbody tr th {\n",
       "        vertical-align: top;\n",
       "    }\n",
       "\n",
       "    .dataframe thead th {\n",
       "        text-align: right;\n",
       "    }\n",
       "</style>\n",
       "<table border=\"1\" class=\"dataframe\">\n",
       "  <thead>\n",
       "    <tr style=\"text-align: right;\">\n",
       "      <th></th>\n",
       "      <th>Price</th>\n",
       "      <th>Open</th>\n",
       "      <th>High</th>\n",
       "      <th>Low</th>\n",
       "      <th>Vol.</th>\n",
       "      <th>Change %</th>\n",
       "      <th>Day</th>\n",
       "      <th>Month</th>\n",
       "      <th>Year</th>\n",
       "    </tr>\n",
       "  </thead>\n",
       "  <tbody>\n",
       "    <tr>\n",
       "      <th>0</th>\n",
       "      <td>3,069.74</td>\n",
       "      <td>3,182.32</td>\n",
       "      <td>3,184.15</td>\n",
       "      <td>3,045.92</td>\n",
       "      <td>401.88K</td>\n",
       "      <td>-3.54%</td>\n",
       "      <td>16.0</td>\n",
       "      <td>2.0</td>\n",
       "      <td>2022.0</td>\n",
       "    </tr>\n",
       "    <tr>\n",
       "      <th>1</th>\n",
       "      <td>3,182.27</td>\n",
       "      <td>2,929.29</td>\n",
       "      <td>3,193.18</td>\n",
       "      <td>2,912.61</td>\n",
       "      <td>540.04K</td>\n",
       "      <td>8.64%</td>\n",
       "      <td>15.0</td>\n",
       "      <td>2.0</td>\n",
       "      <td>2022.0</td>\n",
       "    </tr>\n",
       "    <tr>\n",
       "      <th>2</th>\n",
       "      <td>2,929.31</td>\n",
       "      <td>2,871.06</td>\n",
       "      <td>NaN</td>\n",
       "      <td>2,834.13</td>\n",
       "      <td>477.24K</td>\n",
       "      <td>2.06%</td>\n",
       "      <td>14.0</td>\n",
       "      <td>2.0</td>\n",
       "      <td>2022.0</td>\n",
       "    </tr>\n",
       "    <tr>\n",
       "      <th>3</th>\n",
       "      <td>2,870.25</td>\n",
       "      <td>2,917.16</td>\n",
       "      <td>2,952.94</td>\n",
       "      <td>2,838.29</td>\n",
       "      <td>303.12K</td>\n",
       "      <td>-1.61%</td>\n",
       "      <td>13.0</td>\n",
       "      <td>2.0</td>\n",
       "      <td>2022.0</td>\n",
       "    </tr>\n",
       "    <tr>\n",
       "      <th>4</th>\n",
       "      <td>NaN</td>\n",
       "      <td>2,927.64</td>\n",
       "      <td>2,984.72</td>\n",
       "      <td>2,858.85</td>\n",
       "      <td>433.29K</td>\n",
       "      <td>-0.36%</td>\n",
       "      <td>12.0</td>\n",
       "      <td>2.0</td>\n",
       "      <td>2022.0</td>\n",
       "    </tr>\n",
       "  </tbody>\n",
       "</table>\n",
       "</div>"
      ],
      "text/plain": [
       "      Price      Open      High       Low     Vol. Change %   Day  Month  \\\n",
       "0  3,069.74  3,182.32  3,184.15  3,045.92  401.88K   -3.54%  16.0    2.0   \n",
       "1  3,182.27  2,929.29  3,193.18  2,912.61  540.04K    8.64%  15.0    2.0   \n",
       "2  2,929.31  2,871.06       NaN  2,834.13  477.24K    2.06%  14.0    2.0   \n",
       "3  2,870.25  2,917.16  2,952.94  2,838.29  303.12K   -1.61%  13.0    2.0   \n",
       "4       NaN  2,927.64  2,984.72  2,858.85  433.29K   -0.36%  12.0    2.0   \n",
       "\n",
       "     Year  \n",
       "0  2022.0  \n",
       "1  2022.0  \n",
       "2  2022.0  \n",
       "3  2022.0  \n",
       "4  2022.0  "
      ]
     },
     "execution_count": 777,
     "metadata": {},
     "output_type": "execute_result"
    }
   ],
   "source": [
    "df.head()"
   ]
  },
  {
   "cell_type": "code",
   "execution_count": 778,
   "metadata": {},
   "outputs": [],
   "source": [
    "df_day_month_year = df[[\"Day\",\"Month\",\"Year\"]].copy()\n",
    "df.drop([\"Day\",\"Month\",\"Year\"],axis=1,inplace=True)"
   ]
  },
  {
   "cell_type": "code",
   "execution_count": 779,
   "metadata": {},
   "outputs": [
    {
     "data": {
      "text/html": [
       "<div>\n",
       "<style scoped>\n",
       "    .dataframe tbody tr th:only-of-type {\n",
       "        vertical-align: middle;\n",
       "    }\n",
       "\n",
       "    .dataframe tbody tr th {\n",
       "        vertical-align: top;\n",
       "    }\n",
       "\n",
       "    .dataframe thead th {\n",
       "        text-align: right;\n",
       "    }\n",
       "</style>\n",
       "<table border=\"1\" class=\"dataframe\">\n",
       "  <thead>\n",
       "    <tr style=\"text-align: right;\">\n",
       "      <th></th>\n",
       "      <th>Day</th>\n",
       "      <th>Month</th>\n",
       "      <th>Year</th>\n",
       "    </tr>\n",
       "  </thead>\n",
       "  <tbody>\n",
       "    <tr>\n",
       "      <th>0</th>\n",
       "      <td>16.0</td>\n",
       "      <td>2.0</td>\n",
       "      <td>2022.0</td>\n",
       "    </tr>\n",
       "    <tr>\n",
       "      <th>1</th>\n",
       "      <td>15.0</td>\n",
       "      <td>2.0</td>\n",
       "      <td>2022.0</td>\n",
       "    </tr>\n",
       "    <tr>\n",
       "      <th>2</th>\n",
       "      <td>14.0</td>\n",
       "      <td>2.0</td>\n",
       "      <td>2022.0</td>\n",
       "    </tr>\n",
       "    <tr>\n",
       "      <th>3</th>\n",
       "      <td>13.0</td>\n",
       "      <td>2.0</td>\n",
       "      <td>2022.0</td>\n",
       "    </tr>\n",
       "    <tr>\n",
       "      <th>4</th>\n",
       "      <td>12.0</td>\n",
       "      <td>2.0</td>\n",
       "      <td>2022.0</td>\n",
       "    </tr>\n",
       "  </tbody>\n",
       "</table>\n",
       "</div>"
      ],
      "text/plain": [
       "    Day  Month    Year\n",
       "0  16.0    2.0  2022.0\n",
       "1  15.0    2.0  2022.0\n",
       "2  14.0    2.0  2022.0\n",
       "3  13.0    2.0  2022.0\n",
       "4  12.0    2.0  2022.0"
      ]
     },
     "execution_count": 779,
     "metadata": {},
     "output_type": "execute_result"
    }
   ],
   "source": [
    "df_day_month_year.head()"
   ]
  },
  {
   "cell_type": "markdown",
   "metadata": {},
   "source": [
    "##### Fill missing values in Day column"
   ]
  },
  {
   "cell_type": "code",
   "execution_count": null,
   "metadata": {},
   "outputs": [],
   "source": []
  },
  {
   "cell_type": "code",
   "execution_count": 780,
   "metadata": {},
   "outputs": [],
   "source": [
    "# First of all we are going to fill missing values in Day column.\n",
    "def fill_Day_column_missing_values(dataframe_name,row):\n",
    "    if(np.isnan(row[\"Month\"])):\n",
    "        # Here axis=1, and inplace=True is important bcz only we can only change value of object,\n",
    "        # its not possible to mutate whole obbject. \n",
    "        dataframe_name.drop(row.name, inplace=True)\n",
    "    else:\n",
    "        if((dataframe_name.loc[row.name-1,\"Day\"] -1) != 0):\n",
    "            calculated_day = (dataframe_name.loc[row.name-1,\"Day\"] -1)\n",
    "        else:\n",
    "            if(row[\"Month\"] == 4 or row[\"Month\"] == 6 or row[\"Month\"] == 0 or row[\"Month\"] == 11):\n",
    "                calculated_day = (dataframe_name.loc[row.name-1,\"Day\"] -1) + 30\n",
    "            elif(row[\"Month\"] == 2):\n",
    "                calculated_day = (dataframe_name.loc[row.name-1,\"Day\"] -1) + 28\n",
    "            else:\n",
    "                calculated_day = (dataframe_name.loc[row.name-1,\"Day\"] -1) + 31\n",
    "    \n",
    "        row[\"Day\"] = calculated_day\n",
    "    return row       \n",
    "\n",
    "\n",
    "def fill_missing_values_for_day(dataframe_name):\n",
    "    dataframe_name = dataframe_name.apply(\n",
    "        lambda row: fill_Day_column_missing_values(dataframe_name,row) if np.isnan(row[\"Day\"]) else row,\n",
    "        axis=1\n",
    "    )\n"
   ]
  },
  {
   "cell_type": "code",
   "execution_count": 781,
   "metadata": {},
   "outputs": [],
   "source": [
    "fill_missing_values_for_day(df_day_month_year)"
   ]
  },
  {
   "cell_type": "markdown",
   "metadata": {},
   "source": [
    "##### Fill missing values in Month column"
   ]
  },
  {
   "cell_type": "code",
   "execution_count": 782,
   "metadata": {},
   "outputs": [],
   "source": [
    "\n",
    "# Now, we are going to fill missing values in Month column.\n",
    "def fill_Month_column_missing_values(dataframe_name, row):\n",
    "    if((row[\"Day\"] != 30 or row[\"Day\"] != 31)):\n",
    "        calculated_month = dataframe_name.loc[row.name-1, \"Month\"]\n",
    "    elif(row[\"Day\"] == 28 and dataframe_name.loc[row.name-1, \"Month\"] == 3):\n",
    "        calculated_month = 2\n",
    "    else:\n",
    "        calculated_month = dataframe_name.loc[row.name-1, \"Month\"]-1\n",
    "    row[\"Month\"] = calculated_month\n",
    "    return row\n",
    "\n",
    "def fill_missing_values_for_month(dataframe_name):\n",
    "    dataframe_name = dataframe_name.apply(\n",
    "        lambda row: fill_Month_column_missing_values(\n",
    "            dataframe_name, row) if np.isnan(row[\"Month\"]) else row,\n",
    "        axis=1\n",
    "    )\n"
   ]
  },
  {
   "cell_type": "code",
   "execution_count": 783,
   "metadata": {},
   "outputs": [],
   "source": [
    "fill_missing_values_for_month(df_day_month_year)"
   ]
  },
  {
   "cell_type": "markdown",
   "metadata": {},
   "source": [
    "##### Fill missing values in Year column"
   ]
  },
  {
   "cell_type": "code",
   "execution_count": 784,
   "metadata": {},
   "outputs": [],
   "source": [
    "# Now, we are going to fill missing values in Month column.\n",
    "def fill_Year_column_missing_values(dataframe_name, row):\n",
    "    if(row[\"Day\"] == 31 and row[\"Month\"] == 12):\n",
    "        calculated_Year = dataframe_name.loc[row.name-1, \"Year\"] -1\n",
    "    else:\n",
    "        calculated_Year = dataframe_name.loc[row.name-1, \"Year\"]\n",
    "    row[\"Year\"] = calculated_Year\n",
    "    return row\n",
    "\n",
    "def fill_missing_values_for_year(dataframe_name):\n",
    "    dataframe_name = dataframe_name.apply(\n",
    "        lambda row: fill_Year_column_missing_values(\n",
    "            dataframe_name, row) if np.isnan(row[\"Year\"]) else row,\n",
    "        axis=1\n",
    "    )\n"
   ]
  },
  {
   "cell_type": "code",
   "execution_count": 785,
   "metadata": {},
   "outputs": [],
   "source": [
    "fill_missing_values_for_year(df_day_month_year)\n"
   ]
  },
  {
   "cell_type": "code",
   "execution_count": 786,
   "metadata": {},
   "outputs": [],
   "source": [
    "# Let's merge our new dataframe with older one.\n",
    "df = pd.merge(df, df_day_month_year, left_index=True, right_index=True)"
   ]
  },
  {
   "cell_type": "code",
   "execution_count": 787,
   "metadata": {},
   "outputs": [
    {
     "data": {
      "text/html": [
       "<div>\n",
       "<style scoped>\n",
       "    .dataframe tbody tr th:only-of-type {\n",
       "        vertical-align: middle;\n",
       "    }\n",
       "\n",
       "    .dataframe tbody tr th {\n",
       "        vertical-align: top;\n",
       "    }\n",
       "\n",
       "    .dataframe thead th {\n",
       "        text-align: right;\n",
       "    }\n",
       "</style>\n",
       "<table border=\"1\" class=\"dataframe\">\n",
       "  <thead>\n",
       "    <tr style=\"text-align: right;\">\n",
       "      <th></th>\n",
       "      <th>Day</th>\n",
       "      <th>Month</th>\n",
       "      <th>Year</th>\n",
       "    </tr>\n",
       "  </thead>\n",
       "  <tbody>\n",
       "    <tr>\n",
       "      <th>0</th>\n",
       "      <td>16.0</td>\n",
       "      <td>2.0</td>\n",
       "      <td>2022.0</td>\n",
       "    </tr>\n",
       "    <tr>\n",
       "      <th>1</th>\n",
       "      <td>15.0</td>\n",
       "      <td>2.0</td>\n",
       "      <td>2022.0</td>\n",
       "    </tr>\n",
       "    <tr>\n",
       "      <th>2</th>\n",
       "      <td>14.0</td>\n",
       "      <td>2.0</td>\n",
       "      <td>2022.0</td>\n",
       "    </tr>\n",
       "    <tr>\n",
       "      <th>3</th>\n",
       "      <td>13.0</td>\n",
       "      <td>2.0</td>\n",
       "      <td>2022.0</td>\n",
       "    </tr>\n",
       "    <tr>\n",
       "      <th>4</th>\n",
       "      <td>12.0</td>\n",
       "      <td>2.0</td>\n",
       "      <td>2022.0</td>\n",
       "    </tr>\n",
       "  </tbody>\n",
       "</table>\n",
       "</div>"
      ],
      "text/plain": [
       "    Day  Month    Year\n",
       "0  16.0    2.0  2022.0\n",
       "1  15.0    2.0  2022.0\n",
       "2  14.0    2.0  2022.0\n",
       "3  13.0    2.0  2022.0\n",
       "4  12.0    2.0  2022.0"
      ]
     },
     "execution_count": 787,
     "metadata": {},
     "output_type": "execute_result"
    }
   ],
   "source": [
    "df_day_month_year.head()"
   ]
  },
  {
   "cell_type": "code",
   "execution_count": 788,
   "metadata": {},
   "outputs": [
    {
     "data": {
      "text/html": [
       "<div>\n",
       "<style scoped>\n",
       "    .dataframe tbody tr th:only-of-type {\n",
       "        vertical-align: middle;\n",
       "    }\n",
       "\n",
       "    .dataframe tbody tr th {\n",
       "        vertical-align: top;\n",
       "    }\n",
       "\n",
       "    .dataframe thead th {\n",
       "        text-align: right;\n",
       "    }\n",
       "</style>\n",
       "<table border=\"1\" class=\"dataframe\">\n",
       "  <thead>\n",
       "    <tr style=\"text-align: right;\">\n",
       "      <th></th>\n",
       "      <th>Price</th>\n",
       "      <th>Open</th>\n",
       "      <th>High</th>\n",
       "      <th>Low</th>\n",
       "      <th>Vol.</th>\n",
       "      <th>Change %</th>\n",
       "      <th>Day</th>\n",
       "      <th>Month</th>\n",
       "      <th>Year</th>\n",
       "    </tr>\n",
       "  </thead>\n",
       "  <tbody>\n",
       "  </tbody>\n",
       "</table>\n",
       "</div>"
      ],
      "text/plain": [
       "Empty DataFrame\n",
       "Columns: [Price, Open, High, Low, Vol., Change %, Day, Month, Year]\n",
       "Index: []"
      ]
     },
     "execution_count": 788,
     "metadata": {},
     "output_type": "execute_result"
    }
   ],
   "source": [
    "missing_rows(\n",
    "    column_name='Day',\n",
    "    dataframe_name=df\n",
    ")"
   ]
  },
  {
   "cell_type": "code",
   "execution_count": 789,
   "metadata": {},
   "outputs": [
    {
     "data": {
      "text/plain": [
       "<AxesSubplot:xlabel='Day', ylabel='Count'>"
      ]
     },
     "execution_count": 789,
     "metadata": {},
     "output_type": "execute_result"
    },
    {
     "data": {
      "image/png": "[encoded data removed]",
      "text/plain": [
       "<Figure size 432x288 with 1 Axes>"
      ]
     },
     "metadata": {},
     "output_type": "display_data"
    }
   ],
   "source": [
    "# Let's Analyze how far the data is spread.\n",
    "list_of_days = []\n",
    "for i in range(0, 31):\n",
    "    list_of_days.append(i+1)\n",
    "sns.histplot(df['Day'], color ='red',bins=list_of_days)"
   ]
  },
  {
   "cell_type": "code",
   "execution_count": 790,
   "metadata": {},
   "outputs": [
    {
     "data": {
      "text/plain": [
       "22"
      ]
     },
     "execution_count": 790,
     "metadata": {},
     "output_type": "execute_result"
    }
   ],
   "source": [
    "# filter on rows with specific values for day column.\n",
    "def day_filter_with_specific_value(dataframe_name,column_name,value):\n",
    "    return dataframe_name[dataframe_name[column_name] == value]\n",
    "\n",
    "temp_df = day_filter_with_specific_value(\n",
    "    dataframe_name=df,\n",
    "    column_name=\"Day\",\n",
    "    value=31\n",
    ")\n",
    "len(temp_df)"
   ]
  },
  {
   "cell_type": "code",
   "execution_count": 791,
   "metadata": {},
   "outputs": [
    {
     "data": {
      "text/plain": [
       "<AxesSubplot:xlabel='Month', ylabel='Count'>"
      ]
     },
     "execution_count": 791,
     "metadata": {},
     "output_type": "execute_result"
    },
    {
     "data": {
      "image/png": "[encoded data removed]",
      "text/plain": [
       "<Figure size 432x288 with 1 Axes>"
      ]
     },
     "metadata": {},
     "output_type": "display_data"
    }
   ],
   "source": [
    "# Let's Analyze how far the data is spread.\n",
    "list_of_months = []\n",
    "for i in range(0, 12):\n",
    "    list_of_months.append(i+1)\n",
    "sns.histplot(df['Month'], color ='blue',bins=list_of_months)"
   ]
  },
  {
   "cell_type": "code",
   "execution_count": 792,
   "metadata": {},
   "outputs": [
    {
     "data": {
      "text/plain": [
       "93"
      ]
     },
     "execution_count": 792,
     "metadata": {},
     "output_type": "execute_result"
    }
   ],
   "source": [
    "# filter on rows with specific values for month column.\n",
    "def month_filter_with_specific_value(dataframe_name,column_name,value):\n",
    "    return dataframe_name[dataframe_name[column_name] == value]\n",
    "\n",
    "temp_df = month_filter_with_specific_value(\n",
    "    dataframe_name=df,\n",
    "    column_name=\"Month\",\n",
    "    value=12\n",
    ")\n",
    "len(temp_df)"
   ]
  },
  {
   "cell_type": "code",
   "execution_count": 793,
   "metadata": {},
   "outputs": [
    {
     "data": {
      "text/plain": [
       "0"
      ]
     },
     "execution_count": 793,
     "metadata": {},
     "output_type": "execute_result"
    }
   ],
   "source": [
    "# Function to print all rows which have null values column wise.\n",
    "len(missing_rows(dataframe_name=df,column_name=\"Month\"))"
   ]
  },
  {
   "cell_type": "code",
   "execution_count": 794,
   "metadata": {},
   "outputs": [
    {
     "data": {
      "text/plain": [
       "<AxesSubplot:xlabel='Year', ylabel='Count'>"
      ]
     },
     "execution_count": 794,
     "metadata": {},
     "output_type": "execute_result"
    },
    {
     "data": {
      "image/png": "[encoded data removed]",
      "text/plain": [
       "<Figure size 432x288 with 1 Axes>"
      ]
     },
     "metadata": {},
     "output_type": "display_data"
    }
   ],
   "source": [
    "# Let's Analyze how far the data is spread.\n",
    "list_of_years = [2019,2020,2021,2022]\n",
    "sns.histplot(df['Year'], color ='black',bins=list_of_years)"
   ]
  },
  {
   "cell_type": "code",
   "execution_count": 795,
   "metadata": {},
   "outputs": [
    {
     "data": {
      "text/plain": [
       "45"
      ]
     },
     "execution_count": 795,
     "metadata": {},
     "output_type": "execute_result"
    }
   ],
   "source": [
    "# filter on rows with specific values for year column.\n",
    "def year_filter_with_specific_value(dataframe_name,column_name,value):\n",
    "    return dataframe_name[dataframe_name[column_name] == value]\n",
    "\n",
    "temp_df = year_filter_with_specific_value(\n",
    "    dataframe_name=df,\n",
    "    column_name=\"Year\",\n",
    "    value=2022\n",
    ")\n",
    "len(temp_df)"
   ]
  },
  {
   "cell_type": "markdown",
   "metadata": {},
   "source": [
    "#### 2) Price"
   ]
  },
  {
   "cell_type": "code",
   "execution_count": 796,
   "metadata": {},
   "outputs": [
    {
     "data": {
      "text/plain": [
       "Index(['Price', 'Open', 'High', 'Low', 'Vol.', 'Change %', 'Day', 'Month',\n",
       "       'Year'],\n",
       "      dtype='object')"
      ]
     },
     "execution_count": 796,
     "metadata": {},
     "output_type": "execute_result"
    }
   ],
   "source": [
    "df.columns"
   ]
  },
  {
   "cell_type": "code",
   "execution_count": 797,
   "metadata": {},
   "outputs": [
    {
     "data": {
      "text/html": [
       "<div>\n",
       "<style scoped>\n",
       "    .dataframe tbody tr th:only-of-type {\n",
       "        vertical-align: middle;\n",
       "    }\n",
       "\n",
       "    .dataframe tbody tr th {\n",
       "        vertical-align: top;\n",
       "    }\n",
       "\n",
       "    .dataframe thead th {\n",
       "        text-align: right;\n",
       "    }\n",
       "</style>\n",
       "<table border=\"1\" class=\"dataframe\">\n",
       "  <thead>\n",
       "    <tr style=\"text-align: right;\">\n",
       "      <th></th>\n",
       "      <th>Price</th>\n",
       "      <th>Open</th>\n",
       "      <th>High</th>\n",
       "      <th>Low</th>\n",
       "      <th>Vol.</th>\n",
       "      <th>Change %</th>\n",
       "      <th>Day</th>\n",
       "      <th>Month</th>\n",
       "      <th>Year</th>\n",
       "    </tr>\n",
       "  </thead>\n",
       "  <tbody>\n",
       "    <tr>\n",
       "      <th>4</th>\n",
       "      <td>NaN</td>\n",
       "      <td>2,927.64</td>\n",
       "      <td>2,984.72</td>\n",
       "      <td>2,858.85</td>\n",
       "      <td>433.29K</td>\n",
       "      <td>-0.36%</td>\n",
       "      <td>12.0</td>\n",
       "      <td>2.0</td>\n",
       "      <td>2022.0</td>\n",
       "    </tr>\n",
       "    <tr>\n",
       "      <th>32</th>\n",
       "      <td>NaN</td>\n",
       "      <td>3,307.84</td>\n",
       "      <td>3,369.95</td>\n",
       "      <td>3,265.41</td>\n",
       "      <td>292.10K</td>\n",
       "      <td>0.60%</td>\n",
       "      <td>15.0</td>\n",
       "      <td>1.0</td>\n",
       "      <td>2022.0</td>\n",
       "    </tr>\n",
       "    <tr>\n",
       "      <th>271</th>\n",
       "      <td>NaN</td>\n",
       "      <td>2,766.88</td>\n",
       "      <td>2,931.66</td>\n",
       "      <td>NaN</td>\n",
       "      <td>4.23M</td>\n",
       "      <td>-12.40%</td>\n",
       "      <td>21.0</td>\n",
       "      <td>5.0</td>\n",
       "      <td>2021.0</td>\n",
       "    </tr>\n",
       "    <tr>\n",
       "      <th>350</th>\n",
       "      <td>NaN</td>\n",
       "      <td>1,488.80</td>\n",
       "      <td>1,653.04</td>\n",
       "      <td>1,477.72</td>\n",
       "      <td>1.17M</td>\n",
       "      <td>5.54%</td>\n",
       "      <td>3.0</td>\n",
       "      <td>3.0</td>\n",
       "      <td>2021.0</td>\n",
       "    </tr>\n",
       "    <tr>\n",
       "      <th>402</th>\n",
       "      <td>NaN</td>\n",
       "      <td>1,275.87</td>\n",
       "      <td>1,347.98</td>\n",
       "      <td>1,180.45</td>\n",
       "      <td>2.65M</td>\n",
       "      <td>-1.53%</td>\n",
       "      <td>10.0</td>\n",
       "      <td>1.0</td>\n",
       "      <td>2021.0</td>\n",
       "    </tr>\n",
       "    <tr>\n",
       "      <th>536</th>\n",
       "      <td>NaN</td>\n",
       "      <td>395.32</td>\n",
       "      <td>405.53</td>\n",
       "      <td>391.97</td>\n",
       "      <td>5.23M</td>\n",
       "      <td>0.93%</td>\n",
       "      <td>29.0</td>\n",
       "      <td>8.0</td>\n",
       "      <td>2020.0</td>\n",
       "    </tr>\n",
       "    <tr>\n",
       "      <th>607</th>\n",
       "      <td>NaN</td>\n",
       "      <td>231.34</td>\n",
       "      <td>231.94</td>\n",
       "      <td>226.97</td>\n",
       "      <td>5.56M</td>\n",
       "      <td>-0.97%</td>\n",
       "      <td>19.0</td>\n",
       "      <td>6.0</td>\n",
       "      <td>2020.0</td>\n",
       "    </tr>\n",
       "    <tr>\n",
       "      <th>710</th>\n",
       "      <td>NaN</td>\n",
       "      <td>237.3</td>\n",
       "      <td>237.3</td>\n",
       "      <td>196.71</td>\n",
       "      <td>24.76M</td>\n",
       "      <td>-16.08%</td>\n",
       "      <td>8.0</td>\n",
       "      <td>3.0</td>\n",
       "      <td>2020.0</td>\n",
       "    </tr>\n",
       "    <tr>\n",
       "      <th>778</th>\n",
       "      <td>NaN</td>\n",
       "      <td>131.87</td>\n",
       "      <td>133.53</td>\n",
       "      <td>128.27</td>\n",
       "      <td>12.89M</td>\n",
       "      <td>-1.99%</td>\n",
       "      <td>31.0</td>\n",
       "      <td>12.0</td>\n",
       "      <td>2019.0</td>\n",
       "    </tr>\n",
       "    <tr>\n",
       "      <th>816</th>\n",
       "      <td>NaN</td>\n",
       "      <td>149.79</td>\n",
       "      <td>154.25</td>\n",
       "      <td>146.6</td>\n",
       "      <td>11.84M</td>\n",
       "      <td>1.77%</td>\n",
       "      <td>23.0</td>\n",
       "      <td>11.0</td>\n",
       "      <td>2019.0</td>\n",
       "    </tr>\n",
       "    <tr>\n",
       "      <th>858</th>\n",
       "      <td>NaN</td>\n",
       "      <td>180.6</td>\n",
       "      <td>184.49</td>\n",
       "      <td>178.78</td>\n",
       "      <td>9.85M</td>\n",
       "      <td>-0.40%</td>\n",
       "      <td>12.0</td>\n",
       "      <td>10.0</td>\n",
       "      <td>2019.0</td>\n",
       "    </tr>\n",
       "    <tr>\n",
       "      <th>918</th>\n",
       "      <td>NaN</td>\n",
       "      <td>210.48</td>\n",
       "      <td>211.01</td>\n",
       "      <td>106.01</td>\n",
       "      <td>18.29M</td>\n",
       "      <td>-1.32%</td>\n",
       "      <td>13.0</td>\n",
       "      <td>8.0</td>\n",
       "      <td>2019.0</td>\n",
       "    </tr>\n",
       "    <tr>\n",
       "      <th>981</th>\n",
       "      <td>NaN</td>\n",
       "      <td>246.85</td>\n",
       "      <td>247.77</td>\n",
       "      <td>237.6</td>\n",
       "      <td>6.92M</td>\n",
       "      <td>-0.99%</td>\n",
       "      <td>11.0</td>\n",
       "      <td>6.0</td>\n",
       "      <td>2019.0</td>\n",
       "    </tr>\n",
       "    <tr>\n",
       "      <th>1048</th>\n",
       "      <td>NaN</td>\n",
       "      <td>157.43</td>\n",
       "      <td>167.34</td>\n",
       "      <td>156.42</td>\n",
       "      <td>10.06M</td>\n",
       "      <td>4.77%</td>\n",
       "      <td>5.0</td>\n",
       "      <td>4.0</td>\n",
       "      <td>2019.0</td>\n",
       "    </tr>\n",
       "    <tr>\n",
       "      <th>1085</th>\n",
       "      <td>NaN</td>\n",
       "      <td>136.66</td>\n",
       "      <td>159.6</td>\n",
       "      <td>128.15</td>\n",
       "      <td>16.11M</td>\n",
       "      <td>-1.08%</td>\n",
       "      <td>27.0</td>\n",
       "      <td>2.0</td>\n",
       "      <td>2019.0</td>\n",
       "    </tr>\n",
       "    <tr>\n",
       "      <th>1118</th>\n",
       "      <td>NaN</td>\n",
       "      <td>116.7</td>\n",
       "      <td>117.41</td>\n",
       "      <td>115.03</td>\n",
       "      <td>4.75M</td>\n",
       "      <td>-1.03%</td>\n",
       "      <td>25.0</td>\n",
       "      <td>1.0</td>\n",
       "      <td>2019.0</td>\n",
       "    </tr>\n",
       "  </tbody>\n",
       "</table>\n",
       "</div>"
      ],
      "text/plain": [
       "     Price      Open      High       Low     Vol. Change %   Day  Month  \\\n",
       "4      NaN  2,927.64  2,984.72  2,858.85  433.29K   -0.36%  12.0    2.0   \n",
       "32     NaN  3,307.84  3,369.95  3,265.41  292.10K    0.60%  15.0    1.0   \n",
       "271    NaN  2,766.88  2,931.66       NaN    4.23M  -12.40%  21.0    5.0   \n",
       "350    NaN  1,488.80  1,653.04  1,477.72    1.17M    5.54%   3.0    3.0   \n",
       "402    NaN  1,275.87  1,347.98  1,180.45    2.65M   -1.53%  10.0    1.0   \n",
       "536    NaN    395.32    405.53    391.97    5.23M    0.93%  29.0    8.0   \n",
       "607    NaN    231.34    231.94    226.97    5.56M   -0.97%  19.0    6.0   \n",
       "710    NaN     237.3     237.3    196.71   24.76M  -16.08%   8.0    3.0   \n",
       "778    NaN    131.87    133.53    128.27   12.89M   -1.99%  31.0   12.0   \n",
       "816    NaN    149.79    154.25     146.6   11.84M    1.77%  23.0   11.0   \n",
       "858    NaN     180.6    184.49    178.78    9.85M   -0.40%  12.0   10.0   \n",
       "918    NaN    210.48    211.01    106.01   18.29M   -1.32%  13.0    8.0   \n",
       "981    NaN    246.85    247.77     237.6    6.92M   -0.99%  11.0    6.0   \n",
       "1048   NaN    157.43    167.34    156.42   10.06M    4.77%   5.0    4.0   \n",
       "1085   NaN    136.66     159.6    128.15   16.11M   -1.08%  27.0    2.0   \n",
       "1118   NaN     116.7    117.41    115.03    4.75M   -1.03%  25.0    1.0   \n",
       "\n",
       "        Year  \n",
       "4     2022.0  \n",
       "32    2022.0  \n",
       "271   2021.0  \n",
       "350   2021.0  \n",
       "402   2021.0  \n",
       "536   2020.0  \n",
       "607   2020.0  \n",
       "710   2020.0  \n",
       "778   2019.0  \n",
       "816   2019.0  \n",
       "858   2019.0  \n",
       "918   2019.0  \n",
       "981   2019.0  \n",
       "1048  2019.0  \n",
       "1085  2019.0  \n",
       "1118  2019.0  "
      ]
     },
     "execution_count": 797,
     "metadata": {},
     "output_type": "execute_result"
    }
   ],
   "source": [
    "missing_rows(dataframe_name=df,column_name=\"Price\")"
   ]
  },
  {
   "cell_type": "code",
   "execution_count": 798,
   "metadata": {},
   "outputs": [],
   "source": [
    "df = df.replace(',','', regex=True)"
   ]
  },
  {
   "cell_type": "code",
   "execution_count": 799,
   "metadata": {},
   "outputs": [],
   "source": [
    "df[\"Price\"] = df[\"Price\"].astype(float).fillna(0.0)"
   ]
  },
  {
   "cell_type": "code",
   "execution_count": 800,
   "metadata": {},
   "outputs": [
    {
     "name": "stderr",
     "output_type": "stream",
     "text": [
      "C:\\Users\\Admin\\AppData\\Local\\Programs\\Python\\Python39\\lib\\site-packages\\seaborn\\distributions.py:2619: FutureWarning: `distplot` is a deprecated function and will be removed in a future version. Please adapt your code to use either `displot` (a figure-level function with similar flexibility) or `histplot` (an axes-level function for histograms).\n",
      "  warnings.warn(msg, FutureWarning)\n"
     ]
    },
    {
     "data": {
      "text/plain": [
       "Text(0.5, 1.0, 'Price Distribution before filling missing values')"
      ]
     },
     "execution_count": 800,
     "metadata": {},
     "output_type": "execute_result"
    },
    {
     "data": {
      "image/png": "[encoded data removed]",
      "text/plain": [
       "<Figure size 432x288 with 1 Axes>"
      ]
     },
     "metadata": {},
     "output_type": "display_data"
    }
   ],
   "source": [
    "sns.distplot(df['Price'], color ='red').set_title(\"Price Distribution before filling missing values\")"
   ]
  },
  {
   "cell_type": "code",
   "execution_count": 801,
   "metadata": {},
   "outputs": [],
   "source": [
    "df_price = df[[\"Price\"]].copy()"
   ]
  },
  {
   "cell_type": "code",
   "execution_count": 802,
   "metadata": {},
   "outputs": [
    {
     "name": "stderr",
     "output_type": "stream",
     "text": [
      "C:\\Users\\Admin\\AppData\\Local\\Programs\\Python\\Python39\\lib\\site-packages\\seaborn\\distributions.py:2619: FutureWarning: `distplot` is a deprecated function and will be removed in a future version. Please adapt your code to use either `displot` (a figure-level function with similar flexibility) or `histplot` (an axes-level function for histograms).\n",
      "  warnings.warn(msg, FutureWarning)\n"
     ]
    },
    {
     "data": {
      "text/plain": [
       "Text(0.5, 1.0, 'Price Distribution after filling missing values with mean')"
      ]
     },
     "execution_count": 802,
     "metadata": {},
     "output_type": "execute_result"
    },
    {
     "data": {
      "image/png": "[encoded data removed]",
      "text/plain": [
       "<Figure size 432x288 with 1 Axes>"
      ]
     },
     "metadata": {},
     "output_type": "display_data"
    }
   ],
   "source": [
    "# Let's apply various methods for filling missing values.\n",
    "# Mean\n",
    "df_price[\"Price_mean\"] = df_price[\"Price\"].replace(0,df_price[\"Price\"].mean())\n",
    "sns.distplot(df_price['Price_mean'], color ='red').set_title(\"Price Distribution after filling missing values with mean\")"
   ]
  },
  {
   "cell_type": "code",
   "execution_count": 803,
   "metadata": {},
   "outputs": [
    {
     "name": "stderr",
     "output_type": "stream",
     "text": [
      "C:\\Users\\Admin\\AppData\\Local\\Programs\\Python\\Python39\\lib\\site-packages\\seaborn\\distributions.py:2619: FutureWarning: `distplot` is a deprecated function and will be removed in a future version. Please adapt your code to use either `displot` (a figure-level function with similar flexibility) or `histplot` (an axes-level function for histograms).\n",
      "  warnings.warn(msg, FutureWarning)\n"
     ]
    },
    {
     "data": {
      "text/plain": [
       "Text(0.5, 1.0, 'Price Distribution after filling missing values with median')"
      ]
     },
     "execution_count": 803,
     "metadata": {},
     "output_type": "execute_result"
    },
    {
     "data": {
      "image/png": "[encoded data removed]",
      "text/plain": [
       "<Figure size 432x288 with 1 Axes>"
      ]
     },
     "metadata": {},
     "output_type": "display_data"
    }
   ],
   "source": [
    "# Median\n",
    "df_price[\"Price_median\"] = df_price[\"Price\"].replace(0,df_price[\"Price\"].median())\n",
    "sns.distplot(df_price['Price_median'], color ='red').set_title(\"Price Distribution after filling missing values with median\")"
   ]
  },
  {
   "cell_type": "code",
   "execution_count": 804,
   "metadata": {},
   "outputs": [
    {
     "name": "stderr",
     "output_type": "stream",
     "text": [
      "C:\\Users\\Admin\\AppData\\Local\\Programs\\Python\\Python39\\lib\\site-packages\\seaborn\\distributions.py:2619: FutureWarning: `distplot` is a deprecated function and will be removed in a future version. Please adapt your code to use either `displot` (a figure-level function with similar flexibility) or `histplot` (an axes-level function for histograms).\n",
      "  warnings.warn(msg, FutureWarning)\n"
     ]
    },
    {
     "data": {
      "text/plain": [
       "Text(0.5, 1.0, 'Price Distribution after filling missing values with mode')"
      ]
     },
     "execution_count": 804,
     "metadata": {},
     "output_type": "execute_result"
    },
    {
     "data": {
      "image/png": "[encoded data removed]",
      "text/plain": [
       "<Figure size 432x288 with 1 Axes>"
      ]
     },
     "metadata": {},
     "output_type": "display_data"
    }
   ],
   "source": [
    "# Mode\n",
    "df_price[\"Price_mode\"] = df_price[\"Price\"].replace(0,df_price[\"Price\"].mode()[0])\n",
    "sns.distplot(df_price['Price_mode'], color ='red').set_title(\"Price Distribution after filling missing values with mode\")"
   ]
  },
  {
   "cell_type": "markdown",
   "metadata": {},
   "source": [
    "As we can clearly see from above graphs that,\n",
    "Graph with missing values and after applying mode method in order to fill missing values seems to\n",
    "be same."
   ]
  },
  {
   "cell_type": "code",
   "execution_count": 805,
   "metadata": {},
   "outputs": [],
   "source": [
    "df[\"Price\"] = df_price[\"Price_mode\"]"
   ]
  },
  {
   "cell_type": "markdown",
   "metadata": {},
   "source": [
    "#### 2) Open"
   ]
  },
  {
   "cell_type": "code",
   "execution_count": 806,
   "metadata": {},
   "outputs": [
    {
     "data": {
      "text/plain": [
       "Index(['Price', 'Open', 'High', 'Low', 'Vol.', 'Change %', 'Day', 'Month',\n",
       "       'Year'],\n",
       "      dtype='object')"
      ]
     },
     "execution_count": 806,
     "metadata": {},
     "output_type": "execute_result"
    }
   ],
   "source": [
    "df.columns"
   ]
  },
  {
   "cell_type": "code",
   "execution_count": 807,
   "metadata": {},
   "outputs": [
    {
     "data": {
      "text/html": [
       "<div>\n",
       "<style scoped>\n",
       "    .dataframe tbody tr th:only-of-type {\n",
       "        vertical-align: middle;\n",
       "    }\n",
       "\n",
       "    .dataframe tbody tr th {\n",
       "        vertical-align: top;\n",
       "    }\n",
       "\n",
       "    .dataframe thead th {\n",
       "        text-align: right;\n",
       "    }\n",
       "</style>\n",
       "<table border=\"1\" class=\"dataframe\">\n",
       "  <thead>\n",
       "    <tr style=\"text-align: right;\">\n",
       "      <th></th>\n",
       "      <th>Price</th>\n",
       "      <th>Open</th>\n",
       "      <th>High</th>\n",
       "      <th>Low</th>\n",
       "      <th>Vol.</th>\n",
       "      <th>Change %</th>\n",
       "      <th>Day</th>\n",
       "      <th>Month</th>\n",
       "      <th>Year</th>\n",
       "    </tr>\n",
       "  </thead>\n",
       "  <tbody>\n",
       "    <tr>\n",
       "      <th>23</th>\n",
       "      <td>2441.01</td>\n",
       "      <td>NaN</td>\n",
       "      <td>2540.81</td>\n",
       "      <td>2161.55</td>\n",
       "      <td>1.56M</td>\n",
       "      <td>-3.93%</td>\n",
       "      <td>24.0</td>\n",
       "      <td>1.0</td>\n",
       "      <td>2022.0</td>\n",
       "    </tr>\n",
       "    <tr>\n",
       "      <th>73</th>\n",
       "      <td>4194.80</td>\n",
       "      <td>NaN</td>\n",
       "      <td>4247.38</td>\n",
       "      <td>4036.00</td>\n",
       "      <td>707.69K</td>\n",
       "      <td>1.73%</td>\n",
       "      <td>5.0</td>\n",
       "      <td>12.0</td>\n",
       "      <td>2021.0</td>\n",
       "    </tr>\n",
       "    <tr>\n",
       "      <th>129</th>\n",
       "      <td>3415.03</td>\n",
       "      <td>NaN</td>\n",
       "      <td>3599.18</td>\n",
       "      <td>3409.22</td>\n",
       "      <td>767.49K</td>\n",
       "      <td>-4.45%</td>\n",
       "      <td>10.0</td>\n",
       "      <td>10.0</td>\n",
       "      <td>2021.0</td>\n",
       "    </tr>\n",
       "    <tr>\n",
       "      <th>214</th>\n",
       "      <td>1897.98</td>\n",
       "      <td>NaN</td>\n",
       "      <td>1917.80</td>\n",
       "      <td>1851.97</td>\n",
       "      <td>623.52K</td>\n",
       "      <td>1.05%</td>\n",
       "      <td>17.0</td>\n",
       "      <td>7.0</td>\n",
       "      <td>2021.0</td>\n",
       "    </tr>\n",
       "    <tr>\n",
       "      <th>331</th>\n",
       "      <td>1682.37</td>\n",
       "      <td>NaN</td>\n",
       "      <td>1806.62</td>\n",
       "      <td>1659.28</td>\n",
       "      <td>1.58M</td>\n",
       "      <td>-5.68%</td>\n",
       "      <td>22.0</td>\n",
       "      <td>3.0</td>\n",
       "      <td>2021.0</td>\n",
       "    </tr>\n",
       "    <tr>\n",
       "      <th>380</th>\n",
       "      <td>1373.40</td>\n",
       "      <td>NaN</td>\n",
       "      <td>1376.44</td>\n",
       "      <td>1272.09</td>\n",
       "      <td>1.65M</td>\n",
       "      <td>4.62%</td>\n",
       "      <td>1.0</td>\n",
       "      <td>2.0</td>\n",
       "      <td>2021.0</td>\n",
       "    </tr>\n",
       "    <tr>\n",
       "      <th>460</th>\n",
       "      <td>476.29</td>\n",
       "      <td>NaN</td>\n",
       "      <td>477.78</td>\n",
       "      <td>457.65</td>\n",
       "      <td>9.85M</td>\n",
       "      <td>2.97%</td>\n",
       "      <td>13.0</td>\n",
       "      <td>11.0</td>\n",
       "      <td>2020.0</td>\n",
       "    </tr>\n",
       "    <tr>\n",
       "      <th>540</th>\n",
       "      <td>383.20</td>\n",
       "      <td>NaN</td>\n",
       "      <td>409.02</td>\n",
       "      <td>370.4</td>\n",
       "      <td>8.28M</td>\n",
       "      <td>-6.01%</td>\n",
       "      <td>25.0</td>\n",
       "      <td>8.0</td>\n",
       "      <td>2020.0</td>\n",
       "    </tr>\n",
       "    <tr>\n",
       "      <th>610</th>\n",
       "      <td>235.36</td>\n",
       "      <td>NaN</td>\n",
       "      <td>235.95</td>\n",
       "      <td>228.99</td>\n",
       "      <td>7.03M</td>\n",
       "      <td>1.92%</td>\n",
       "      <td>16.0</td>\n",
       "      <td>6.0</td>\n",
       "      <td>2020.0</td>\n",
       "    </tr>\n",
       "    <tr>\n",
       "      <th>673</th>\n",
       "      <td>158.45</td>\n",
       "      <td>NaN</td>\n",
       "      <td>161.57</td>\n",
       "      <td>155.52</td>\n",
       "      <td>21.20M</td>\n",
       "      <td>1.33%</td>\n",
       "      <td>14.0</td>\n",
       "      <td>4.0</td>\n",
       "      <td>2020.0</td>\n",
       "    </tr>\n",
       "    <tr>\n",
       "      <th>734</th>\n",
       "      <td>268.75</td>\n",
       "      <td>NaN</td>\n",
       "      <td>277.39</td>\n",
       "      <td>257.09</td>\n",
       "      <td>25.05M</td>\n",
       "      <td>1.19%</td>\n",
       "      <td>13.0</td>\n",
       "      <td>2.0</td>\n",
       "      <td>2020.0</td>\n",
       "    </tr>\n",
       "    <tr>\n",
       "      <th>796</th>\n",
       "      <td>144.96</td>\n",
       "      <td>NaN</td>\n",
       "      <td>145.43</td>\n",
       "      <td>143.51</td>\n",
       "      <td>10.95M</td>\n",
       "      <td>-0.05%</td>\n",
       "      <td>13.0</td>\n",
       "      <td>12.0</td>\n",
       "      <td>2019.0</td>\n",
       "    </tr>\n",
       "    <tr>\n",
       "      <th>1072</th>\n",
       "      <td>133.80</td>\n",
       "      <td>NaN</td>\n",
       "      <td>134.93</td>\n",
       "      <td>129.14</td>\n",
       "      <td>13.03M</td>\n",
       "      <td>0.61%</td>\n",
       "      <td>12.0</td>\n",
       "      <td>3.0</td>\n",
       "      <td>2019.0</td>\n",
       "    </tr>\n",
       "    <tr>\n",
       "      <th>1110</th>\n",
       "      <td>110.68</td>\n",
       "      <td>NaN</td>\n",
       "      <td>111.16</td>\n",
       "      <td>106.29</td>\n",
       "      <td>4.23M</td>\n",
       "      <td>3.46%</td>\n",
       "      <td>2.0</td>\n",
       "      <td>2.0</td>\n",
       "      <td>2019.0</td>\n",
       "    </tr>\n",
       "  </tbody>\n",
       "</table>\n",
       "</div>"
      ],
      "text/plain": [
       "        Price Open     High      Low     Vol. Change %   Day  Month    Year\n",
       "23    2441.01  NaN  2540.81  2161.55    1.56M   -3.93%  24.0    1.0  2022.0\n",
       "73    4194.80  NaN  4247.38  4036.00  707.69K    1.73%   5.0   12.0  2021.0\n",
       "129   3415.03  NaN  3599.18  3409.22  767.49K   -4.45%  10.0   10.0  2021.0\n",
       "214   1897.98  NaN  1917.80  1851.97  623.52K    1.05%  17.0    7.0  2021.0\n",
       "331   1682.37  NaN  1806.62  1659.28    1.58M   -5.68%  22.0    3.0  2021.0\n",
       "380   1373.40  NaN  1376.44  1272.09    1.65M    4.62%   1.0    2.0  2021.0\n",
       "460    476.29  NaN   477.78   457.65    9.85M    2.97%  13.0   11.0  2020.0\n",
       "540    383.20  NaN   409.02    370.4    8.28M   -6.01%  25.0    8.0  2020.0\n",
       "610    235.36  NaN   235.95   228.99    7.03M    1.92%  16.0    6.0  2020.0\n",
       "673    158.45  NaN   161.57   155.52   21.20M    1.33%  14.0    4.0  2020.0\n",
       "734    268.75  NaN   277.39   257.09   25.05M    1.19%  13.0    2.0  2020.0\n",
       "796    144.96  NaN   145.43   143.51   10.95M   -0.05%  13.0   12.0  2019.0\n",
       "1072   133.80  NaN   134.93   129.14   13.03M    0.61%  12.0    3.0  2019.0\n",
       "1110   110.68  NaN   111.16   106.29    4.23M    3.46%   2.0    2.0  2019.0"
      ]
     },
     "execution_count": 807,
     "metadata": {},
     "output_type": "execute_result"
    }
   ],
   "source": [
    "missing_rows(\n",
    "    column_name=\"Open\",\n",
    "    dataframe_name=df\n",
    ")"
   ]
  },
  {
   "cell_type": "code",
   "execution_count": 808,
   "metadata": {},
   "outputs": [],
   "source": [
    "df[\"Open\"] = df[\"Open\"].astype(float).fillna(0.0)"
   ]
  },
  {
   "cell_type": "code",
   "execution_count": 809,
   "metadata": {},
   "outputs": [
    {
     "name": "stderr",
     "output_type": "stream",
     "text": [
      "C:\\Users\\Admin\\AppData\\Local\\Programs\\Python\\Python39\\lib\\site-packages\\seaborn\\distributions.py:2619: FutureWarning: `distplot` is a deprecated function and will be removed in a future version. Please adapt your code to use either `displot` (a figure-level function with similar flexibility) or `histplot` (an axes-level function for histograms).\n",
      "  warnings.warn(msg, FutureWarning)\n"
     ]
    },
    {
     "data": {
      "text/plain": [
       "Text(0.5, 1.0, 'Open Distribution before filling missing values')"
      ]
     },
     "execution_count": 809,
     "metadata": {},
     "output_type": "execute_result"
    },
    {
     "data": {
      "image/png": "[encoded data removed]",
      "text/plain": [
       "<Figure size 432x288 with 1 Axes>"
      ]
     },
     "metadata": {},
     "output_type": "display_data"
    }
   ],
   "source": [
    "sns.distplot(df['Open'], color ='blue').set_title(\"Open Distribution before filling missing values\")"
   ]
  },
  {
   "cell_type": "code",
   "execution_count": 810,
   "metadata": {},
   "outputs": [],
   "source": [
    "df_open = df[[\"Open\"]].copy()"
   ]
  },
  {
   "cell_type": "code",
   "execution_count": 811,
   "metadata": {},
   "outputs": [
    {
     "name": "stderr",
     "output_type": "stream",
     "text": [
      "C:\\Users\\Admin\\AppData\\Local\\Programs\\Python\\Python39\\lib\\site-packages\\seaborn\\distributions.py:2619: FutureWarning: `distplot` is a deprecated function and will be removed in a future version. Please adapt your code to use either `displot` (a figure-level function with similar flexibility) or `histplot` (an axes-level function for histograms).\n",
      "  warnings.warn(msg, FutureWarning)\n"
     ]
    },
    {
     "data": {
      "text/plain": [
       "Text(0.5, 1.0, 'Open Distribution after filling missing values with mean')"
      ]
     },
     "execution_count": 811,
     "metadata": {},
     "output_type": "execute_result"
    },
    {
     "data": {
      "image/png": "[encoded data removed]",
      "text/plain": [
       "<Figure size 432x288 with 1 Axes>"
      ]
     },
     "metadata": {},
     "output_type": "display_data"
    }
   ],
   "source": [
    "# Let's apply various methods for filling missing values.\n",
    "# Mean\n",
    "df_open[\"Open_mean\"] = df_open[\"Open\"].replace(0,df_open[\"Open\"].mean())\n",
    "sns.distplot(df_open['Open_mean'], color ='blue').set_title(\"Open Distribution after filling missing values with mean\")"
   ]
  },
  {
   "cell_type": "code",
   "execution_count": 812,
   "metadata": {},
   "outputs": [
    {
     "name": "stderr",
     "output_type": "stream",
     "text": [
      "C:\\Users\\Admin\\AppData\\Local\\Programs\\Python\\Python39\\lib\\site-packages\\seaborn\\distributions.py:2619: FutureWarning: `distplot` is a deprecated function and will be removed in a future version. Please adapt your code to use either `displot` (a figure-level function with similar flexibility) or `histplot` (an axes-level function for histograms).\n",
      "  warnings.warn(msg, FutureWarning)\n"
     ]
    },
    {
     "data": {
      "text/plain": [
       "Text(0.5, 1.0, 'Open Distribution after filling missing values with median')"
      ]
     },
     "execution_count": 812,
     "metadata": {},
     "output_type": "execute_result"
    },
    {
     "data": {
      "image/png": "[encoded data removed]",
      "text/plain": [
       "<Figure size 432x288 with 1 Axes>"
      ]
     },
     "metadata": {},
     "output_type": "display_data"
    }
   ],
   "source": [
    "# Median\n",
    "df_open[\"Open_median\"] = df_open[\"Open\"].replace(0,df_open[\"Open\"].median())\n",
    "sns.distplot(df_open['Open_median'], color ='blue').set_title(\"Open Distribution after filling missing values with median\")"
   ]
  },
  {
   "cell_type": "code",
   "execution_count": 813,
   "metadata": {},
   "outputs": [
    {
     "name": "stderr",
     "output_type": "stream",
     "text": [
      "C:\\Users\\Admin\\AppData\\Local\\Programs\\Python\\Python39\\lib\\site-packages\\seaborn\\distributions.py:2619: FutureWarning: `distplot` is a deprecated function and will be removed in a future version. Please adapt your code to use either `displot` (a figure-level function with similar flexibility) or `histplot` (an axes-level function for histograms).\n",
      "  warnings.warn(msg, FutureWarning)\n"
     ]
    },
    {
     "data": {
      "text/plain": [
       "Text(0.5, 1.0, 'Open Distribution after filling missing values with mode')"
      ]
     },
     "execution_count": 813,
     "metadata": {},
     "output_type": "execute_result"
    },
    {
     "data": {
      "image/png": "[encoded data removed]",
      "text/plain": [
       "<Figure size 432x288 with 1 Axes>"
      ]
     },
     "metadata": {},
     "output_type": "display_data"
    }
   ],
   "source": [
    "# Mode\n",
    "df_open[\"Open_mode\"] = df_open[\"Open\"].replace(0,df_open[\"Open\"].mode()[0])\n",
    "sns.distplot(df_open['Open_mode'], color ='blue').set_title(\"Open Distribution after filling missing values with mode\")"
   ]
  },
  {
   "cell_type": "markdown",
   "metadata": {},
   "source": [
    "As we can clearly see from above graphs that,\n",
    "Graph with missing values and after applying mode method in order to fill missing values seems to\n",
    "be same."
   ]
  },
  {
   "cell_type": "code",
   "execution_count": 814,
   "metadata": {},
   "outputs": [],
   "source": [
    "df[\"Open\"] = df_open[\"Open_mode\"]"
   ]
  },
  {
   "cell_type": "markdown",
   "metadata": {},
   "source": [
    "#### 4) High, Low"
   ]
  },
  {
   "cell_type": "code",
   "execution_count": 815,
   "metadata": {},
   "outputs": [
    {
     "data": {
      "text/plain": [
       "Index(['Price', 'Open', 'High', 'Low', 'Vol.', 'Change %', 'Day', 'Month',\n",
       "       'Year'],\n",
       "      dtype='object')"
      ]
     },
     "execution_count": 815,
     "metadata": {},
     "output_type": "execute_result"
    }
   ],
   "source": [
    "df.columns"
   ]
  },
  {
   "cell_type": "code",
   "execution_count": 816,
   "metadata": {},
   "outputs": [
    {
     "data": {
      "text/html": [
       "<div>\n",
       "<style scoped>\n",
       "    .dataframe tbody tr th:only-of-type {\n",
       "        vertical-align: middle;\n",
       "    }\n",
       "\n",
       "    .dataframe tbody tr th {\n",
       "        vertical-align: top;\n",
       "    }\n",
       "\n",
       "    .dataframe thead th {\n",
       "        text-align: right;\n",
       "    }\n",
       "</style>\n",
       "<table border=\"1\" class=\"dataframe\">\n",
       "  <thead>\n",
       "    <tr style=\"text-align: right;\">\n",
       "      <th></th>\n",
       "      <th>Price</th>\n",
       "      <th>Open</th>\n",
       "      <th>High</th>\n",
       "      <th>Low</th>\n",
       "      <th>Vol.</th>\n",
       "      <th>Change %</th>\n",
       "      <th>Day</th>\n",
       "      <th>Month</th>\n",
       "      <th>Year</th>\n",
       "    </tr>\n",
       "  </thead>\n",
       "  <tbody>\n",
       "    <tr>\n",
       "      <th>2</th>\n",
       "      <td>2929.31</td>\n",
       "      <td>2871.06</td>\n",
       "      <td>NaN</td>\n",
       "      <td>2834.13</td>\n",
       "      <td>477.24K</td>\n",
       "      <td>2.06%</td>\n",
       "      <td>14.0</td>\n",
       "      <td>2.0</td>\n",
       "      <td>2022.0</td>\n",
       "    </tr>\n",
       "    <tr>\n",
       "      <th>83</th>\n",
       "      <td>4520.30</td>\n",
       "      <td>4270.73</td>\n",
       "      <td>NaN</td>\n",
       "      <td>4248.90</td>\n",
       "      <td>578.65K</td>\n",
       "      <td>5.77%</td>\n",
       "      <td>25.0</td>\n",
       "      <td>11.0</td>\n",
       "      <td>2021.0</td>\n",
       "    </tr>\n",
       "    <tr>\n",
       "      <th>204</th>\n",
       "      <td>2300.22</td>\n",
       "      <td>2230.24</td>\n",
       "      <td>NaN</td>\n",
       "      <td>2152.92</td>\n",
       "      <td>1.25M</td>\n",
       "      <td>3.17%</td>\n",
       "      <td>27.0</td>\n",
       "      <td>7.0</td>\n",
       "      <td>2021.0</td>\n",
       "    </tr>\n",
       "    <tr>\n",
       "      <th>260</th>\n",
       "      <td>2633.67</td>\n",
       "      <td>2707.94</td>\n",
       "      <td>NaN</td>\n",
       "      <td>2529.73</td>\n",
       "      <td>2.45M</td>\n",
       "      <td>-2.76%</td>\n",
       "      <td>1.0</td>\n",
       "      <td>6.0</td>\n",
       "      <td>2021.0</td>\n",
       "    </tr>\n",
       "    <tr>\n",
       "      <th>680</th>\n",
       "      <td>164.71</td>\n",
       "      <td>171.07</td>\n",
       "      <td>NaN</td>\n",
       "      <td>162.75</td>\n",
       "      <td>35.79M</td>\n",
       "      <td>-3.71%</td>\n",
       "      <td>7.0</td>\n",
       "      <td>4.0</td>\n",
       "      <td>2020.0</td>\n",
       "    </tr>\n",
       "    <tr>\n",
       "      <th>762</th>\n",
       "      <td>164.36</td>\n",
       "      <td>166.44</td>\n",
       "      <td>NaN</td>\n",
       "      <td>159.08</td>\n",
       "      <td>16.24M</td>\n",
       "      <td>-1.26%</td>\n",
       "      <td>16.0</td>\n",
       "      <td>1.0</td>\n",
       "      <td>2020.0</td>\n",
       "    </tr>\n",
       "    <tr>\n",
       "      <th>923</th>\n",
       "      <td>220.16</td>\n",
       "      <td>224.68</td>\n",
       "      <td>NaN</td>\n",
       "      <td>215.57</td>\n",
       "      <td>7.54M</td>\n",
       "      <td>-2.00%</td>\n",
       "      <td>8.0</td>\n",
       "      <td>8.0</td>\n",
       "      <td>2019.0</td>\n",
       "    </tr>\n",
       "    <tr>\n",
       "      <th>1056</th>\n",
       "      <td>138.15</td>\n",
       "      <td>139.63</td>\n",
       "      <td>NaN</td>\n",
       "      <td>137.68</td>\n",
       "      <td>9.52M</td>\n",
       "      <td>-1.08%</td>\n",
       "      <td>28.0</td>\n",
       "      <td>3.0</td>\n",
       "      <td>2019.0</td>\n",
       "    </tr>\n",
       "    <tr>\n",
       "      <th>1126</th>\n",
       "      <td>122.03</td>\n",
       "      <td>121.71</td>\n",
       "      <td>NaN</td>\n",
       "      <td>117.51</td>\n",
       "      <td>3.61M</td>\n",
       "      <td>0.25%</td>\n",
       "      <td>17.0</td>\n",
       "      <td>1.0</td>\n",
       "      <td>2019.0</td>\n",
       "    </tr>\n",
       "  </tbody>\n",
       "</table>\n",
       "</div>"
      ],
      "text/plain": [
       "        Price     Open High      Low     Vol. Change %   Day  Month    Year\n",
       "2     2929.31  2871.06  NaN  2834.13  477.24K    2.06%  14.0    2.0  2022.0\n",
       "83    4520.30  4270.73  NaN  4248.90  578.65K    5.77%  25.0   11.0  2021.0\n",
       "204   2300.22  2230.24  NaN  2152.92    1.25M    3.17%  27.0    7.0  2021.0\n",
       "260   2633.67  2707.94  NaN  2529.73    2.45M   -2.76%   1.0    6.0  2021.0\n",
       "680    164.71   171.07  NaN   162.75   35.79M   -3.71%   7.0    4.0  2020.0\n",
       "762    164.36   166.44  NaN   159.08   16.24M   -1.26%  16.0    1.0  2020.0\n",
       "923    220.16   224.68  NaN   215.57    7.54M   -2.00%   8.0    8.0  2019.0\n",
       "1056   138.15   139.63  NaN   137.68    9.52M   -1.08%  28.0    3.0  2019.0\n",
       "1126   122.03   121.71  NaN   117.51    3.61M    0.25%  17.0    1.0  2019.0"
      ]
     },
     "execution_count": 816,
     "metadata": {},
     "output_type": "execute_result"
    }
   ],
   "source": [
    "# All rows of dataset having missing values in High column.\n",
    "missing_rows(\n",
    "    column_name=\"High\",\n",
    "    dataframe_name=df\n",
    ")"
   ]
  },
  {
   "cell_type": "code",
   "execution_count": 817,
   "metadata": {},
   "outputs": [
    {
     "data": {
      "text/html": [
       "<div>\n",
       "<style scoped>\n",
       "    .dataframe tbody tr th:only-of-type {\n",
       "        vertical-align: middle;\n",
       "    }\n",
       "\n",
       "    .dataframe tbody tr th {\n",
       "        vertical-align: top;\n",
       "    }\n",
       "\n",
       "    .dataframe thead th {\n",
       "        text-align: right;\n",
       "    }\n",
       "</style>\n",
       "<table border=\"1\" class=\"dataframe\">\n",
       "  <thead>\n",
       "    <tr style=\"text-align: right;\">\n",
       "      <th></th>\n",
       "      <th>Price</th>\n",
       "      <th>Open</th>\n",
       "      <th>High</th>\n",
       "      <th>Low</th>\n",
       "      <th>Vol.</th>\n",
       "      <th>Change %</th>\n",
       "      <th>Day</th>\n",
       "      <th>Month</th>\n",
       "      <th>Year</th>\n",
       "    </tr>\n",
       "  </thead>\n",
       "  <tbody>\n",
       "    <tr>\n",
       "      <th>194</th>\n",
       "      <td>2889.43</td>\n",
       "      <td>2827.23</td>\n",
       "      <td>2946.62</td>\n",
       "      <td>NaN</td>\n",
       "      <td>1.06M</td>\n",
       "      <td>2.20%</td>\n",
       "      <td>6.0</td>\n",
       "      <td>8.0</td>\n",
       "      <td>2021.0</td>\n",
       "    </tr>\n",
       "    <tr>\n",
       "      <th>271</th>\n",
       "      <td>0.00</td>\n",
       "      <td>2766.88</td>\n",
       "      <td>2931.66</td>\n",
       "      <td>NaN</td>\n",
       "      <td>4.23M</td>\n",
       "      <td>-12.40%</td>\n",
       "      <td>21.0</td>\n",
       "      <td>5.0</td>\n",
       "      <td>2021.0</td>\n",
       "    </tr>\n",
       "    <tr>\n",
       "      <th>499</th>\n",
       "      <td>353.28</td>\n",
       "      <td>352.69</td>\n",
       "      <td>354.86</td>\n",
       "      <td>NaN</td>\n",
       "      <td>4.96M</td>\n",
       "      <td>NaN</td>\n",
       "      <td>5.0</td>\n",
       "      <td>10.0</td>\n",
       "      <td>2020.0</td>\n",
       "    </tr>\n",
       "    <tr>\n",
       "      <th>690</th>\n",
       "      <td>131.03</td>\n",
       "      <td>131.74</td>\n",
       "      <td>132.68</td>\n",
       "      <td>NaN</td>\n",
       "      <td>21.03M</td>\n",
       "      <td>-0.54%</td>\n",
       "      <td>28.0</td>\n",
       "      <td>3.0</td>\n",
       "      <td>2020.0</td>\n",
       "    </tr>\n",
       "  </tbody>\n",
       "</table>\n",
       "</div>"
      ],
      "text/plain": [
       "       Price     Open     High  Low    Vol. Change %   Day  Month    Year\n",
       "194  2889.43  2827.23  2946.62  NaN   1.06M    2.20%   6.0    8.0  2021.0\n",
       "271     0.00  2766.88  2931.66  NaN   4.23M  -12.40%  21.0    5.0  2021.0\n",
       "499   353.28   352.69   354.86  NaN   4.96M      NaN   5.0   10.0  2020.0\n",
       "690   131.03   131.74   132.68  NaN  21.03M   -0.54%  28.0    3.0  2020.0"
      ]
     },
     "execution_count": 817,
     "metadata": {},
     "output_type": "execute_result"
    }
   ],
   "source": [
    "# All rows of dataset having missing values in Low column.\n",
    "missing_rows(\n",
    "    column_name=\"Low\",\n",
    "    dataframe_name=df\n",
    ")"
   ]
  },
  {
   "cell_type": "code",
   "execution_count": 818,
   "metadata": {},
   "outputs": [],
   "source": [
    "df[\"High\"] = df[\"High\"].astype(float).fillna(0.0)\n",
    "df[\"Low\"] = df[\"Low\"].astype(float).fillna(0.0)"
   ]
  },
  {
   "cell_type": "code",
   "execution_count": 819,
   "metadata": {},
   "outputs": [
    {
     "name": "stderr",
     "output_type": "stream",
     "text": [
      "C:\\Users\\Admin\\AppData\\Local\\Programs\\Python\\Python39\\lib\\site-packages\\seaborn\\distributions.py:2619: FutureWarning: `distplot` is a deprecated function and will be removed in a future version. Please adapt your code to use either `displot` (a figure-level function with similar flexibility) or `histplot` (an axes-level function for histograms).\n",
      "  warnings.warn(msg, FutureWarning)\n",
      "C:\\Users\\Admin\\AppData\\Local\\Programs\\Python\\Python39\\lib\\site-packages\\seaborn\\distributions.py:2619: FutureWarning: `distplot` is a deprecated function and will be removed in a future version. Please adapt your code to use either `displot` (a figure-level function with similar flexibility) or `histplot` (an axes-level function for histograms).\n",
      "  warnings.warn(msg, FutureWarning)\n"
     ]
    },
    {
     "data": {
      "text/plain": [
       "Text(0.5, 1.0, 'High, Low Distribution before filling missing values')"
      ]
     },
     "execution_count": 819,
     "metadata": {},
     "output_type": "execute_result"
    },
    {
     "data": {
      "image/png": "[encoded data removed]",
      "text/plain": [
       "<Figure size 432x288 with 1 Axes>"
      ]
     },
     "metadata": {},
     "output_type": "display_data"
    }
   ],
   "source": [
    "sns.distplot(df['High'], color ='blue')\n",
    "sns.distplot(df['Low'], color ='green').set_title(\"High, Low Distribution before filling missing values\")"
   ]
  },
  {
   "cell_type": "markdown",
   "metadata": {},
   "source": [
    "Let's apply mean method here"
   ]
  },
  {
   "cell_type": "code",
   "execution_count": 820,
   "metadata": {},
   "outputs": [
    {
     "name": "stderr",
     "output_type": "stream",
     "text": [
      "C:\\Users\\Admin\\AppData\\Local\\Programs\\Python\\Python39\\lib\\site-packages\\seaborn\\distributions.py:2619: FutureWarning: `distplot` is a deprecated function and will be removed in a future version. Please adapt your code to use either `displot` (a figure-level function with similar flexibility) or `histplot` (an axes-level function for histograms).\n",
      "  warnings.warn(msg, FutureWarning)\n",
      "C:\\Users\\Admin\\AppData\\Local\\Programs\\Python\\Python39\\lib\\site-packages\\seaborn\\distributions.py:2619: FutureWarning: `distplot` is a deprecated function and will be removed in a future version. Please adapt your code to use either `displot` (a figure-level function with similar flexibility) or `histplot` (an axes-level function for histograms).\n",
      "  warnings.warn(msg, FutureWarning)\n"
     ]
    },
    {
     "data": {
      "text/plain": [
       "Text(0.5, 1.0, 'High, Low Distribution after filling missing values with mean')"
      ]
     },
     "execution_count": 820,
     "metadata": {},
     "output_type": "execute_result"
    },
    {
     "data": {
      "image/png": "[encoded data removed]",
      "text/plain": [
       "<Figure size 432x288 with 1 Axes>"
      ]
     },
     "metadata": {},
     "output_type": "display_data"
    }
   ],
   "source": [
    "# Mean\n",
    "df[\"High\"] = df[\"High\"].replace(0,df[\"High\"].mean())\n",
    "sns.distplot(df['High'], color ='blue')\n",
    "\n",
    "# Mean\n",
    "df[\"Low\"] = df[\"Low\"].replace(0,df[\"Low\"].mean())\n",
    "sns.distplot(df['Low'], color ='green').set_title(\"High, Low Distribution after filling missing values with mean\")"
   ]
  },
  {
   "cell_type": "code",
   "execution_count": 821,
   "metadata": {},
   "outputs": [],
   "source": [
    "# Round all values to two decimal points.\n",
    "df = df.round(2)"
   ]
  },
  {
   "cell_type": "markdown",
   "metadata": {},
   "source": [
    "#### 4) Vol"
   ]
  },
  {
   "cell_type": "code",
   "execution_count": 822,
   "metadata": {},
   "outputs": [
    {
     "data": {
      "text/plain": [
       "Index(['Price', 'Open', 'High', 'Low', 'Vol.', 'Change %', 'Day', 'Month',\n",
       "       'Year'],\n",
       "      dtype='object')"
      ]
     },
     "execution_count": 822,
     "metadata": {},
     "output_type": "execute_result"
    }
   ],
   "source": [
    "df.columns"
   ]
  },
  {
   "cell_type": "code",
   "execution_count": 823,
   "metadata": {},
   "outputs": [
    {
     "data": {
      "text/html": [
       "<div>\n",
       "<style scoped>\n",
       "    .dataframe tbody tr th:only-of-type {\n",
       "        vertical-align: middle;\n",
       "    }\n",
       "\n",
       "    .dataframe tbody tr th {\n",
       "        vertical-align: top;\n",
       "    }\n",
       "\n",
       "    .dataframe thead th {\n",
       "        text-align: right;\n",
       "    }\n",
       "</style>\n",
       "<table border=\"1\" class=\"dataframe\">\n",
       "  <thead>\n",
       "    <tr style=\"text-align: right;\">\n",
       "      <th></th>\n",
       "      <th>Price</th>\n",
       "      <th>Open</th>\n",
       "      <th>High</th>\n",
       "      <th>Low</th>\n",
       "      <th>Vol.</th>\n",
       "      <th>Change %</th>\n",
       "      <th>Day</th>\n",
       "      <th>Month</th>\n",
       "      <th>Year</th>\n",
       "    </tr>\n",
       "  </thead>\n",
       "  <tbody>\n",
       "    <tr>\n",
       "      <th>8</th>\n",
       "      <td>3115.88</td>\n",
       "      <td>3139.65</td>\n",
       "      <td>3228.86</td>\n",
       "      <td>3029.70</td>\n",
       "      <td>NaN</td>\n",
       "      <td>-0.77%</td>\n",
       "      <td>8.0</td>\n",
       "      <td>2.0</td>\n",
       "      <td>2022.0</td>\n",
       "    </tr>\n",
       "    <tr>\n",
       "      <th>124</th>\n",
       "      <td>3866.90</td>\n",
       "      <td>3790.34</td>\n",
       "      <td>3904.91</td>\n",
       "      <td>3735.21</td>\n",
       "      <td>NaN</td>\n",
       "      <td>2.02%</td>\n",
       "      <td>15.0</td>\n",
       "      <td>10.0</td>\n",
       "      <td>2021.0</td>\n",
       "    </tr>\n",
       "    <tr>\n",
       "      <th>309</th>\n",
       "      <td>2299.93</td>\n",
       "      <td>2137.55</td>\n",
       "      <td>2315.47</td>\n",
       "      <td>2136.49</td>\n",
       "      <td>NaN</td>\n",
       "      <td>7.58%</td>\n",
       "      <td>13.0</td>\n",
       "      <td>4.0</td>\n",
       "      <td>2021.0</td>\n",
       "    </tr>\n",
       "    <tr>\n",
       "      <th>512</th>\n",
       "      <td>344.03</td>\n",
       "      <td>341.32</td>\n",
       "      <td>346.19</td>\n",
       "      <td>336.15</td>\n",
       "      <td>NaN</td>\n",
       "      <td>0.80%</td>\n",
       "      <td>22.0</td>\n",
       "      <td>9.0</td>\n",
       "      <td>2020.0</td>\n",
       "    </tr>\n",
       "    <tr>\n",
       "      <th>677</th>\n",
       "      <td>157.86</td>\n",
       "      <td>169.67</td>\n",
       "      <td>170.10</td>\n",
       "      <td>152.52</td>\n",
       "      <td>NaN</td>\n",
       "      <td>-6.97%</td>\n",
       "      <td>10.0</td>\n",
       "      <td>4.0</td>\n",
       "      <td>2020.0</td>\n",
       "    </tr>\n",
       "  </tbody>\n",
       "</table>\n",
       "</div>"
      ],
      "text/plain": [
       "       Price     Open     High      Low Vol. Change %   Day  Month    Year\n",
       "8    3115.88  3139.65  3228.86  3029.70  NaN   -0.77%   8.0    2.0  2022.0\n",
       "124  3866.90  3790.34  3904.91  3735.21  NaN    2.02%  15.0   10.0  2021.0\n",
       "309  2299.93  2137.55  2315.47  2136.49  NaN    7.58%  13.0    4.0  2021.0\n",
       "512   344.03   341.32   346.19   336.15  NaN    0.80%  22.0    9.0  2020.0\n",
       "677   157.86   169.67   170.10   152.52  NaN   -6.97%  10.0    4.0  2020.0"
      ]
     },
     "execution_count": 823,
     "metadata": {},
     "output_type": "execute_result"
    }
   ],
   "source": [
    "missing_rows(\n",
    "    column_name=\"Vol.\",\n",
    "    dataframe_name=df,\n",
    ")"
   ]
  },
  {
   "cell_type": "code",
   "execution_count": 824,
   "metadata": {},
   "outputs": [],
   "source": [
    "def calculate_volume(value):\n",
    "    value = str(value)\n",
    "    if('K' in value):\n",
    "        value = value.replace('K','')\n",
    "        return float(value)/1000\n",
    "    else:\n",
    "        value = value.replace('M','')\n",
    "        return float(value)"
   ]
  },
  {
   "cell_type": "code",
   "execution_count": 825,
   "metadata": {},
   "outputs": [],
   "source": [
    "df['Volume(In Million)'] = df['Vol.'].apply(lambda value : calculate_volume(value))"
   ]
  },
  {
   "cell_type": "code",
   "execution_count": 826,
   "metadata": {},
   "outputs": [],
   "source": [
    "# Let drop Vol. column as we have created new one.\n",
    "drop_columns_from_dataframe(\n",
    "    dataframe_name=df,\n",
    "    list_of_columns_name=['Vol.']\n",
    ")"
   ]
  },
  {
   "cell_type": "code",
   "execution_count": 827,
   "metadata": {},
   "outputs": [
    {
     "name": "stderr",
     "output_type": "stream",
     "text": [
      "C:\\Users\\Admin\\AppData\\Local\\Programs\\Python\\Python39\\lib\\site-packages\\seaborn\\distributions.py:2619: FutureWarning: `distplot` is a deprecated function and will be removed in a future version. Please adapt your code to use either `displot` (a figure-level function with similar flexibility) or `histplot` (an axes-level function for histograms).\n",
      "  warnings.warn(msg, FutureWarning)\n"
     ]
    },
    {
     "data": {
      "text/plain": [
       "Text(0.5, 1.0, 'Changes in price Distribution before filling missing values')"
      ]
     },
     "execution_count": 827,
     "metadata": {},
     "output_type": "execute_result"
    },
    {
     "data": {
      "image/png": "[encoded data removed]",
      "text/plain": [
       "<Figure size 432x288 with 1 Axes>"
      ]
     },
     "metadata": {},
     "output_type": "display_data"
    }
   ],
   "source": [
    "sns.distplot(df['Volume(In Million)'], color ='black').set_title(\"Changes in price Distribution before filling missing values\")"
   ]
  },
  {
   "cell_type": "code",
   "execution_count": 828,
   "metadata": {},
   "outputs": [],
   "source": [
    "df['Volume(In Million)'] = df['Volume(In Million)'].astype(float).fillna(0.0)"
   ]
  },
  {
   "cell_type": "code",
   "execution_count": 829,
   "metadata": {},
   "outputs": [
    {
     "name": "stderr",
     "output_type": "stream",
     "text": [
      "C:\\Users\\Admin\\AppData\\Local\\Programs\\Python\\Python39\\lib\\site-packages\\seaborn\\distributions.py:2619: FutureWarning: `distplot` is a deprecated function and will be removed in a future version. Please adapt your code to use either `displot` (a figure-level function with similar flexibility) or `histplot` (an axes-level function for histograms).\n",
      "  warnings.warn(msg, FutureWarning)\n"
     ]
    },
    {
     "data": {
      "text/plain": [
       "Text(0.5, 1.0, 'Volume(In Million) Distribution after filling missing values with mean')"
      ]
     },
     "execution_count": 829,
     "metadata": {},
     "output_type": "execute_result"
    },
    {
     "data": {
      "image/png": "[encoded data removed]",
      "text/plain": [
       "<Figure size 432x288 with 1 Axes>"
      ]
     },
     "metadata": {},
     "output_type": "display_data"
    }
   ],
   "source": [
    "# Mean\n",
    "df['Volume(In Million)'] = df['Volume(In Million)'].replace(0,df['Volume(In Million)'].mean())\n",
    "sns.distplot(df['Volume(In Million)'], color ='black').set_title(\"Volume(In Million) Distribution after filling missing values with mean\")"
   ]
  },
  {
   "cell_type": "markdown",
   "metadata": {},
   "source": [
    "#### 5) Change %"
   ]
  },
  {
   "cell_type": "code",
   "execution_count": 830,
   "metadata": {},
   "outputs": [
    {
     "data": {
      "text/html": [
       "<div>\n",
       "<style scoped>\n",
       "    .dataframe tbody tr th:only-of-type {\n",
       "        vertical-align: middle;\n",
       "    }\n",
       "\n",
       "    .dataframe tbody tr th {\n",
       "        vertical-align: top;\n",
       "    }\n",
       "\n",
       "    .dataframe thead th {\n",
       "        text-align: right;\n",
       "    }\n",
       "</style>\n",
       "<table border=\"1\" class=\"dataframe\">\n",
       "  <thead>\n",
       "    <tr style=\"text-align: right;\">\n",
       "      <th></th>\n",
       "      <th>Price</th>\n",
       "      <th>Open</th>\n",
       "      <th>High</th>\n",
       "      <th>Low</th>\n",
       "      <th>Change %</th>\n",
       "      <th>Day</th>\n",
       "      <th>Month</th>\n",
       "      <th>Year</th>\n",
       "      <th>Volume(In Million)</th>\n",
       "    </tr>\n",
       "  </thead>\n",
       "  <tbody>\n",
       "    <tr>\n",
       "      <th>14</th>\n",
       "      <td>2681.00</td>\n",
       "      <td>2787.16</td>\n",
       "      <td>2809.57</td>\n",
       "      <td>2618.07</td>\n",
       "      <td>NaN</td>\n",
       "      <td>2.0</td>\n",
       "      <td>2.0</td>\n",
       "      <td>2022.0</td>\n",
       "      <td>0.60240</td>\n",
       "    </tr>\n",
       "    <tr>\n",
       "      <th>137</th>\n",
       "      <td>3388.97</td>\n",
       "      <td>3309.14</td>\n",
       "      <td>3467.95</td>\n",
       "      <td>3265.97</td>\n",
       "      <td>NaN</td>\n",
       "      <td>2.0</td>\n",
       "      <td>10.0</td>\n",
       "      <td>2021.0</td>\n",
       "      <td>0.77815</td>\n",
       "    </tr>\n",
       "    <tr>\n",
       "      <th>213</th>\n",
       "      <td>1892.42</td>\n",
       "      <td>1898.01</td>\n",
       "      <td>1988.24</td>\n",
       "      <td>1881.60</td>\n",
       "      <td>NaN</td>\n",
       "      <td>18.0</td>\n",
       "      <td>7.0</td>\n",
       "      <td>2021.0</td>\n",
       "      <td>0.82977</td>\n",
       "    </tr>\n",
       "    <tr>\n",
       "      <th>261</th>\n",
       "      <td>2708.47</td>\n",
       "      <td>2386.93</td>\n",
       "      <td>2713.98</td>\n",
       "      <td>2279.42</td>\n",
       "      <td>NaN</td>\n",
       "      <td>31.0</td>\n",
       "      <td>5.0</td>\n",
       "      <td>2021.0</td>\n",
       "      <td>2.83000</td>\n",
       "    </tr>\n",
       "    <tr>\n",
       "      <th>405</th>\n",
       "      <td>1224.35</td>\n",
       "      <td>1208.71</td>\n",
       "      <td>1286.81</td>\n",
       "      <td>1153.09</td>\n",
       "      <td>NaN</td>\n",
       "      <td>7.0</td>\n",
       "      <td>1.0</td>\n",
       "      <td>2021.0</td>\n",
       "      <td>2.71000</td>\n",
       "    </tr>\n",
       "    <tr>\n",
       "      <th>499</th>\n",
       "      <td>353.28</td>\n",
       "      <td>352.69</td>\n",
       "      <td>354.86</td>\n",
       "      <td>1120.48</td>\n",
       "      <td>NaN</td>\n",
       "      <td>5.0</td>\n",
       "      <td>10.0</td>\n",
       "      <td>2020.0</td>\n",
       "      <td>4.96000</td>\n",
       "    </tr>\n",
       "    <tr>\n",
       "      <th>683</th>\n",
       "      <td>144.01</td>\n",
       "      <td>141.13</td>\n",
       "      <td>145.71</td>\n",
       "      <td>139.36</td>\n",
       "      <td>NaN</td>\n",
       "      <td>4.0</td>\n",
       "      <td>4.0</td>\n",
       "      <td>2020.0</td>\n",
       "      <td>19.75000</td>\n",
       "    </tr>\n",
       "    <tr>\n",
       "      <th>717</th>\n",
       "      <td>217.99</td>\n",
       "      <td>217.51</td>\n",
       "      <td>227.44</td>\n",
       "      <td>213.00</td>\n",
       "      <td>NaN</td>\n",
       "      <td>1.0</td>\n",
       "      <td>3.0</td>\n",
       "      <td>2020.0</td>\n",
       "      <td>17.17000</td>\n",
       "    </tr>\n",
       "  </tbody>\n",
       "</table>\n",
       "</div>"
      ],
      "text/plain": [
       "       Price     Open     High      Low Change %   Day  Month    Year  \\\n",
       "14   2681.00  2787.16  2809.57  2618.07      NaN   2.0    2.0  2022.0   \n",
       "137  3388.97  3309.14  3467.95  3265.97      NaN   2.0   10.0  2021.0   \n",
       "213  1892.42  1898.01  1988.24  1881.60      NaN  18.0    7.0  2021.0   \n",
       "261  2708.47  2386.93  2713.98  2279.42      NaN  31.0    5.0  2021.0   \n",
       "405  1224.35  1208.71  1286.81  1153.09      NaN   7.0    1.0  2021.0   \n",
       "499   353.28   352.69   354.86  1120.48      NaN   5.0   10.0  2020.0   \n",
       "683   144.01   141.13   145.71   139.36      NaN   4.0    4.0  2020.0   \n",
       "717   217.99   217.51   227.44   213.00      NaN   1.0    3.0  2020.0   \n",
       "\n",
       "     Volume(In Million)  \n",
       "14              0.60240  \n",
       "137             0.77815  \n",
       "213             0.82977  \n",
       "261             2.83000  \n",
       "405             2.71000  \n",
       "499             4.96000  \n",
       "683            19.75000  \n",
       "717            17.17000  "
      ]
     },
     "execution_count": 830,
     "metadata": {},
     "output_type": "execute_result"
    }
   ],
   "source": [
    "missing_rows(\n",
    "    column_name=\"Change %\",\n",
    "    dataframe_name=df,\n",
    ")"
   ]
  },
  {
   "cell_type": "code",
   "execution_count": 831,
   "metadata": {},
   "outputs": [],
   "source": [
    "df['Change %'] = df['Change %'].str.replace('%','')"
   ]
  },
  {
   "cell_type": "code",
   "execution_count": 832,
   "metadata": {},
   "outputs": [],
   "source": [
    "df['Change %'] = df['Change %'].astype(float).fillna(0.0)"
   ]
  },
  {
   "cell_type": "code",
   "execution_count": 833,
   "metadata": {},
   "outputs": [
    {
     "name": "stderr",
     "output_type": "stream",
     "text": [
      "C:\\Users\\Admin\\AppData\\Local\\Programs\\Python\\Python39\\lib\\site-packages\\seaborn\\distributions.py:2619: FutureWarning: `distplot` is a deprecated function and will be removed in a future version. Please adapt your code to use either `displot` (a figure-level function with similar flexibility) or `histplot` (an axes-level function for histograms).\n",
      "  warnings.warn(msg, FutureWarning)\n"
     ]
    },
    {
     "data": {
      "text/plain": [
       "Text(0.5, 1.0, 'Changes in price Distribution before filling missing values')"
      ]
     },
     "execution_count": 833,
     "metadata": {},
     "output_type": "execute_result"
    },
    {
     "data": {
      "image/png": "[encoded data removed]",
      "text/plain": [
       "<Figure size 432x288 with 1 Axes>"
      ]
     },
     "metadata": {},
     "output_type": "display_data"
    }
   ],
   "source": [
    "sns.distplot(df['Change %'], color ='maroon').set_title(\"Changes in price Distribution before filling missing values\")"
   ]
  },
  {
   "cell_type": "markdown",
   "metadata": {},
   "source": [
    "As we can clearly see from the above graph that, fluctuation of prices follow gaussian distribution so that we can fill missing\n",
    "values with mean."
   ]
  },
  {
   "cell_type": "code",
   "execution_count": 834,
   "metadata": {},
   "outputs": [
    {
     "name": "stderr",
     "output_type": "stream",
     "text": [
      "C:\\Users\\Admin\\AppData\\Local\\Programs\\Python\\Python39\\lib\\site-packages\\seaborn\\distributions.py:2619: FutureWarning: `distplot` is a deprecated function and will be removed in a future version. Please adapt your code to use either `displot` (a figure-level function with similar flexibility) or `histplot` (an axes-level function for histograms).\n",
      "  warnings.warn(msg, FutureWarning)\n"
     ]
    },
    {
     "data": {
      "text/plain": [
       "Text(0.5, 1.0, 'Changes in price Distribution after filling missing values with mean')"
      ]
     },
     "execution_count": 834,
     "metadata": {},
     "output_type": "execute_result"
    },
    {
     "data": {
      "image/png": "[encoded data removed]",
      "text/plain": [
       "<Figure size 432x288 with 1 Axes>"
      ]
     },
     "metadata": {},
     "output_type": "display_data"
    }
   ],
   "source": [
    "# Mean\n",
    "df['Change %'] = df['Change %'].replace(0,df['Change %'].mean())\n",
    "sns.distplot(df['Change %'], color ='maroon').set_title(\"Changes in price Distribution after filling missing values with mean\")"
   ]
  },
  {
   "cell_type": "code",
   "execution_count": 835,
   "metadata": {},
   "outputs": [
    {
     "data": {
      "text/html": [
       "<div>\n",
       "<style scoped>\n",
       "    .dataframe tbody tr th:only-of-type {\n",
       "        vertical-align: middle;\n",
       "    }\n",
       "\n",
       "    .dataframe tbody tr th {\n",
       "        vertical-align: top;\n",
       "    }\n",
       "\n",
       "    .dataframe thead th {\n",
       "        text-align: right;\n",
       "    }\n",
       "</style>\n",
       "<table border=\"1\" class=\"dataframe\">\n",
       "  <thead>\n",
       "    <tr style=\"text-align: right;\">\n",
       "      <th></th>\n",
       "      <th>Price</th>\n",
       "      <th>Open</th>\n",
       "      <th>High</th>\n",
       "      <th>Low</th>\n",
       "      <th>Change %</th>\n",
       "      <th>Day</th>\n",
       "      <th>Month</th>\n",
       "      <th>Year</th>\n",
       "      <th>Volume(In Million)</th>\n",
       "    </tr>\n",
       "  </thead>\n",
       "  <tbody>\n",
       "  </tbody>\n",
       "</table>\n",
       "</div>"
      ],
      "text/plain": [
       "Empty DataFrame\n",
       "Columns: [Price, Open, High, Low, Change %, Day, Month, Year, Volume(In Million)]\n",
       "Index: []"
      ]
     },
     "execution_count": 835,
     "metadata": {},
     "output_type": "execute_result"
    }
   ],
   "source": [
    "missing_rows(\n",
    "    column_name=\"Day\",\n",
    "    dataframe_name=df\n",
    ")"
   ]
  },
  {
   "cell_type": "code",
   "execution_count": 837,
   "metadata": {},
   "outputs": [
    {
     "name": "stdout",
     "output_type": "stream",
     "text": [
      "<class 'pandas.core.frame.DataFrame'>\n",
      "Int64Index: 1115 entries, 0 to 1127\n",
      "Data columns (total 9 columns):\n",
      " #   Column              Non-Null Count  Dtype  \n",
      "---  ------              --------------  -----  \n",
      " 0   Price               1115 non-null   float64\n",
      " 1   Open                1115 non-null   float64\n",
      " 2   High                1115 non-null   float64\n",
      " 3   Low                 1115 non-null   float64\n",
      " 4   Change %            1115 non-null   float64\n",
      " 5   Day                 1115 non-null   float64\n",
      " 6   Month               1115 non-null   float64\n",
      " 7   Year                1115 non-null   float64\n",
      " 8   Volume(In Million)  1115 non-null   float64\n",
      "dtypes: float64(9)\n",
      "memory usage: 87.1 KB\n"
     ]
    }
   ],
   "source": [
    "df.info()"
   ]
  },
  {
   "cell_type": "markdown",
   "metadata": {},
   "source": [
    "Now data is clean, does not have missing values"
   ]
  }
 ],
 "metadata": {
  "interpreter": {
   "hash": "dcacb0086e9a4f4eabd41c33bf4faac5ea0a3337ed3f5eff0680afa930572c04"
  },
  "kernelspec": {
   "display_name": "Python 3.9.6 64-bit",
   "language": "python",
   "name": "python3"
  },
  "language_info": {
   "codemirror_mode": {
    "name": "ipython",
    "version": 3
   },
   "file_extension": ".py",
   "mimetype": "text/x-python",
   "name": "python",
   "nbconvert_exporter": "python",
   "pygments_lexer": "ipython3",
   "version": "3.9.6"
  },
  "orig_nbformat": 4
 },
 "nbformat": 4,
 "nbformat_minor": 2
}
