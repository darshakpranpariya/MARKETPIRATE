{
 "cells": [
  {
   "cell_type": "code",
   "execution_count": 46,
   "metadata": {},
   "outputs": [],
   "source": [
    "# Imported all necessary libraries here.\n",
    "import pandas as pd\n",
    "import numpy as np\n",
    "import matplotlib.pyplot as plt\n",
    "%matplotlib inline\n",
    "import seaborn as sns\n",
    "sns.set(style=\"darkgrid\")\n",
    "import datetime as dt\n",
    "import pylab \n",
    "import scipy.stats as stats\n",
    "## Display all the columns of the dataframe\n",
    "\n",
    "pd.pandas.set_option('display.max_columns',None)"
   ]
  },
  {
   "cell_type": "code",
   "execution_count": 47,
   "metadata": {},
   "outputs": [],
   "source": [
    "# Load dataframe into df object.\n",
    "df = pd.read_csv(\"D:\\\\Assignement 1\\\\Feature Engineering\\\\cleaned_dataset.csv\")\n",
    "df_train_test = pd.read_csv(\"D:\\\\Assignement 1\\\\Data Modeling\\\\train_test_dataset.csv\")"
   ]
  },
  {
   "cell_type": "markdown",
   "metadata": {},
   "source": [
    "Let's apply train test split"
   ]
  },
  {
   "cell_type": "code",
   "execution_count": 48,
   "metadata": {},
   "outputs": [],
   "source": [
    "from sklearn.model_selection import train_test_split"
   ]
  },
  {
   "cell_type": "code",
   "execution_count": 49,
   "metadata": {},
   "outputs": [],
   "source": [
    "X_train, X_test, y_train, y_test = train_test_split(df_train_test, df['Price'], test_size=0.33)"
   ]
  },
  {
   "cell_type": "markdown",
   "metadata": {},
   "source": [
    "Train Model"
   ]
  },
  {
   "cell_type": "code",
   "execution_count": 50,
   "metadata": {},
   "outputs": [],
   "source": [
    "from sklearn.linear_model import LinearRegression\n",
    "\n",
    "# implement basic ML baseline (one per asset)\n",
    "lr = LinearRegression()\n",
    "lr.fit(X_train,y_train)\n",
    "y_pred = lr.predict(X_test)"
   ]
  },
  {
   "cell_type": "markdown",
   "metadata": {},
   "source": [
    "Evaluating model performance"
   ]
  },
  {
   "cell_type": "markdown",
   "metadata": {},
   "source": [
    "#### Mean Squared Error, Root Mean Squared Error, Mean Absolute Error:\n",
    "    Mean Squared Error, or MSE for short, is a popular error metric for regression problems.\n",
    "\n",
    "    It is also an important loss function for algorithms fit or optimized using the least squares framing of a regression problem. Here “least squares” refers to minimizing the mean squared error between predictions and expected values.\n",
    "\n",
    "    The MSE is calculated as the mean or average of the squared differences between predicted and expected target values in a dataset.\n",
    "\n",
    "    MSE = 1 / N * sum for i to N (y_i – yhat_i)^2\n",
    "    \n",
    "    Where y_i is the i’th expected value in the dataset and yhat_i is the i’th predicted value. The difference between these two values is squared, which has the effect of removing the sign, resulting in a positive error value."
   ]
  },
  {
   "cell_type": "code",
   "execution_count": 53,
   "metadata": {},
   "outputs": [],
   "source": [
    "from sklearn.metrics import mean_squared_error\n",
    "from sklearn.metrics import mean_absolute_error\n",
    "\n",
    "def calculate_mse_rmse_mae(y_actual,y_predicted):\n",
    "    mse_errors = mean_squared_error(y_test, y_pred)\n",
    "    rmse_errors = mean_squared_error(y_test, y_pred, squared=False)\n",
    "    mae_errors = mean_absolute_error(y_test, y_pred)\n",
    "    return mse_errors,rmse_errors,mae_errors\n"
   ]
  },
  {
   "cell_type": "code",
   "execution_count": 58,
   "metadata": {},
   "outputs": [
    {
     "name": "stdout",
     "output_type": "stream",
     "text": [
      "Mean squared error is 2.102100935159412e-06\n",
      "Root mean squared error is 0.0014498623849039645\n",
      "Mean absolute error is 0.0009311662747990148\n"
     ]
    }
   ],
   "source": [
    "mse_error,rmse_error,mae_error = calculate_mse_rmse_mae(\n",
    "    y_actual=y_test,\n",
    "    y_predicted=y_pred,\n",
    ")\n",
    "print(f'Mean squared error is {mse_error}')\n",
    "print(f'Root mean squared error is {rmse_error}')\n",
    "print(f'Mean absolute error is {mae_error}')"
   ]
  },
  {
   "cell_type": "code",
   "execution_count": 61,
   "metadata": {},
   "outputs": [
    {
     "data": {
      "text/html": [
       "<div>\n",
       "<style scoped>\n",
       "    .dataframe tbody tr th:only-of-type {\n",
       "        vertical-align: middle;\n",
       "    }\n",
       "\n",
       "    .dataframe tbody tr th {\n",
       "        vertical-align: top;\n",
       "    }\n",
       "\n",
       "    .dataframe thead th {\n",
       "        text-align: right;\n",
       "    }\n",
       "</style>\n",
       "<table border=\"1\" class=\"dataframe\">\n",
       "  <thead>\n",
       "    <tr style=\"text-align: right;\">\n",
       "      <th></th>\n",
       "      <th>Open</th>\n",
       "      <th>High</th>\n",
       "      <th>Low</th>\n",
       "      <th>Change %</th>\n",
       "      <th>Day</th>\n",
       "      <th>Month</th>\n",
       "      <th>Year</th>\n",
       "      <th>Volume(In Million)</th>\n",
       "    </tr>\n",
       "  </thead>\n",
       "  <tbody>\n",
       "    <tr>\n",
       "      <th>0</th>\n",
       "      <td>8.065366</td>\n",
       "      <td>8.065941</td>\n",
       "      <td>8.021558</td>\n",
       "      <td>-0.95</td>\n",
       "      <td>0.03</td>\n",
       "      <td>-1.27</td>\n",
       "      <td>2.17</td>\n",
       "      <td>-0.911602</td>\n",
       "    </tr>\n",
       "    <tr>\n",
       "      <th>1</th>\n",
       "      <td>7.982515</td>\n",
       "      <td>8.068773</td>\n",
       "      <td>7.976805</td>\n",
       "      <td>1.92</td>\n",
       "      <td>-0.09</td>\n",
       "      <td>-1.27</td>\n",
       "      <td>2.17</td>\n",
       "      <td>-0.616112</td>\n",
       "    </tr>\n",
       "    <tr>\n",
       "      <th>2</th>\n",
       "      <td>7.962437</td>\n",
       "      <td>7.093713</td>\n",
       "      <td>7.949490</td>\n",
       "      <td>0.37</td>\n",
       "      <td>-0.20</td>\n",
       "      <td>-1.27</td>\n",
       "      <td>2.17</td>\n",
       "      <td>-0.739736</td>\n",
       "    </tr>\n",
       "    <tr>\n",
       "      <th>3</th>\n",
       "      <td>7.978366</td>\n",
       "      <td>7.990557</td>\n",
       "      <td>7.950957</td>\n",
       "      <td>-0.49</td>\n",
       "      <td>-0.31</td>\n",
       "      <td>-1.27</td>\n",
       "      <td>2.17</td>\n",
       "      <td>-1.193627</td>\n",
       "    </tr>\n",
       "    <tr>\n",
       "      <th>4</th>\n",
       "      <td>8.030019</td>\n",
       "      <td>8.050809</td>\n",
       "      <td>7.965754</td>\n",
       "      <td>-1.22</td>\n",
       "      <td>-0.54</td>\n",
       "      <td>-1.27</td>\n",
       "      <td>2.17</td>\n",
       "      <td>-0.497696</td>\n",
       "    </tr>\n",
       "  </tbody>\n",
       "</table>\n",
       "</div>"
      ],
      "text/plain": [
       "       Open      High       Low  Change %   Day  Month  Year  \\\n",
       "0  8.065366  8.065941  8.021558     -0.95  0.03  -1.27  2.17   \n",
       "1  7.982515  8.068773  7.976805      1.92 -0.09  -1.27  2.17   \n",
       "2  7.962437  7.093713  7.949490      0.37 -0.20  -1.27  2.17   \n",
       "3  7.978366  7.990557  7.950957     -0.49 -0.31  -1.27  2.17   \n",
       "4  8.030019  8.050809  7.965754     -1.22 -0.54  -1.27  2.17   \n",
       "\n",
       "   Volume(In Million)  \n",
       "0           -0.911602  \n",
       "1           -0.616112  \n",
       "2           -0.739736  \n",
       "3           -1.193627  \n",
       "4           -0.497696  "
      ]
     },
     "execution_count": 61,
     "metadata": {},
     "output_type": "execute_result"
    }
   ],
   "source": [
    "df_train_test.head()"
   ]
  }
 ],
 "metadata": {
  "interpreter": {
   "hash": "dcacb0086e9a4f4eabd41c33bf4faac5ea0a3337ed3f5eff0680afa930572c04"
  },
  "kernelspec": {
   "display_name": "Python 3.9.6 64-bit",
   "language": "python",
   "name": "python3"
  },
  "language_info": {
   "codemirror_mode": {
    "name": "ipython",
    "version": 3
   },
   "file_extension": ".py",
   "mimetype": "text/x-python",
   "name": "python",
   "nbconvert_exporter": "python",
   "pygments_lexer": "ipython3",
   "version": "3.9.6"
  },
  "orig_nbformat": 4
 },
 "nbformat": 4,
 "nbformat_minor": 2
}
