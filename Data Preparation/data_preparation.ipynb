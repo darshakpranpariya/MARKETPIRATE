{
 "cells": [
  {
   "cell_type": "code",
   "execution_count": 124,
   "metadata": {},
   "outputs": [],
   "source": [
    "# Imported all necessary libraries here.\n",
    "import pandas as pd\n",
    "import numpy as np\n",
    "import matplotlib.pyplot as plt\n",
    "%matplotlib inline\n",
    "import seaborn as sns\n",
    "sns.set(style=\"darkgrid\")\n",
    "import datetime as dt\n",
    "import pylab \n",
    "import scipy.stats as stats\n",
    "## Display all the columns of the dataframe\n",
    "\n",
    "pd.pandas.set_option('display.max_columns',None)"
   ]
  },
  {
   "cell_type": "code",
   "execution_count": 125,
   "metadata": {},
   "outputs": [],
   "source": [
    "# Load dataframe into df object.\n",
    "df = pd.read_csv(\"dataset.csv\")"
   ]
  },
  {
   "cell_type": "code",
   "execution_count": 126,
   "metadata": {},
   "outputs": [
    {
     "data": {
      "text/html": [
       "<div>\n",
       "<style scoped>\n",
       "    .dataframe tbody tr th:only-of-type {\n",
       "        vertical-align: middle;\n",
       "    }\n",
       "\n",
       "    .dataframe tbody tr th {\n",
       "        vertical-align: top;\n",
       "    }\n",
       "\n",
       "    .dataframe thead th {\n",
       "        text-align: right;\n",
       "    }\n",
       "</style>\n",
       "<table border=\"1\" class=\"dataframe\">\n",
       "  <thead>\n",
       "    <tr style=\"text-align: right;\">\n",
       "      <th></th>\n",
       "      <th>Date</th>\n",
       "      <th>Price</th>\n",
       "      <th>Open</th>\n",
       "      <th>High</th>\n",
       "      <th>Low</th>\n",
       "      <th>Vol.</th>\n",
       "      <th>Change %</th>\n",
       "    </tr>\n",
       "  </thead>\n",
       "  <tbody>\n",
       "    <tr>\n",
       "      <th>0</th>\n",
       "      <td>16-Feb-22</td>\n",
       "      <td>3,069.74</td>\n",
       "      <td>3,182.32</td>\n",
       "      <td>3,184.15</td>\n",
       "      <td>3,045.92</td>\n",
       "      <td>401.88K</td>\n",
       "      <td>-3.54%</td>\n",
       "    </tr>\n",
       "    <tr>\n",
       "      <th>1</th>\n",
       "      <td>15-Feb-22</td>\n",
       "      <td>3,182.27</td>\n",
       "      <td>2,929.29</td>\n",
       "      <td>3,193.18</td>\n",
       "      <td>2,912.61</td>\n",
       "      <td>540.04K</td>\n",
       "      <td>8.64%</td>\n",
       "    </tr>\n",
       "    <tr>\n",
       "      <th>2</th>\n",
       "      <td>14-Feb-22</td>\n",
       "      <td>2,929.31</td>\n",
       "      <td>2,871.06</td>\n",
       "      <td>NaN</td>\n",
       "      <td>2,834.13</td>\n",
       "      <td>477.24K</td>\n",
       "      <td>2.06%</td>\n",
       "    </tr>\n",
       "    <tr>\n",
       "      <th>3</th>\n",
       "      <td>13-Feb-22</td>\n",
       "      <td>2,870.25</td>\n",
       "      <td>2,917.16</td>\n",
       "      <td>2,952.94</td>\n",
       "      <td>2,838.29</td>\n",
       "      <td>303.12K</td>\n",
       "      <td>-1.61%</td>\n",
       "    </tr>\n",
       "    <tr>\n",
       "      <th>4</th>\n",
       "      <td>12-Feb-22</td>\n",
       "      <td>NaN</td>\n",
       "      <td>2,927.64</td>\n",
       "      <td>2,984.72</td>\n",
       "      <td>2,858.85</td>\n",
       "      <td>433.29K</td>\n",
       "      <td>-0.36%</td>\n",
       "    </tr>\n",
       "    <tr>\n",
       "      <th>5</th>\n",
       "      <td>11-Feb-22</td>\n",
       "      <td>2,927.63</td>\n",
       "      <td>3,071.80</td>\n",
       "      <td>3,136.33</td>\n",
       "      <td>2,880.60</td>\n",
       "      <td>607.93K</td>\n",
       "      <td>-4.69%</td>\n",
       "    </tr>\n",
       "    <tr>\n",
       "      <th>6</th>\n",
       "      <td>10-Feb-22</td>\n",
       "      <td>3,071.83</td>\n",
       "      <td>3,243.73</td>\n",
       "      <td>3,277.36</td>\n",
       "      <td>3,058.59</td>\n",
       "      <td>742.54K</td>\n",
       "      <td>-5.30%</td>\n",
       "    </tr>\n",
       "    <tr>\n",
       "      <th>7</th>\n",
       "      <td>09-Feb-22</td>\n",
       "      <td>3,243.62</td>\n",
       "      <td>3,115.91</td>\n",
       "      <td>3,266.41</td>\n",
       "      <td>3,055.95</td>\n",
       "      <td>477.82K</td>\n",
       "      <td>4.10%</td>\n",
       "    </tr>\n",
       "    <tr>\n",
       "      <th>8</th>\n",
       "      <td>08-Feb-22</td>\n",
       "      <td>3,115.88</td>\n",
       "      <td>3,139.65</td>\n",
       "      <td>3,228.86</td>\n",
       "      <td>3,029.70</td>\n",
       "      <td>NaN</td>\n",
       "      <td>-0.77%</td>\n",
       "    </tr>\n",
       "    <tr>\n",
       "      <th>9</th>\n",
       "      <td>07-Feb-22</td>\n",
       "      <td>3,140.18</td>\n",
       "      <td>3,056.29</td>\n",
       "      <td>3,185.77</td>\n",
       "      <td>2,995.59</td>\n",
       "      <td>568.42K</td>\n",
       "      <td>2.75%</td>\n",
       "    </tr>\n",
       "    <tr>\n",
       "      <th>10</th>\n",
       "      <td>06-Feb-22</td>\n",
       "      <td>3,056.20</td>\n",
       "      <td>3,013.75</td>\n",
       "      <td>3,073.23</td>\n",
       "      <td>2,957.16</td>\n",
       "      <td>316.58K</td>\n",
       "      <td>1.41%</td>\n",
       "    </tr>\n",
       "    <tr>\n",
       "      <th>11</th>\n",
       "      <td>05-Feb-22</td>\n",
       "      <td>3,013.81</td>\n",
       "      <td>2,994.74</td>\n",
       "      <td>3,058.88</td>\n",
       "      <td>2,963.11</td>\n",
       "      <td>473.62K</td>\n",
       "      <td>0.63%</td>\n",
       "    </tr>\n",
       "    <tr>\n",
       "      <th>12</th>\n",
       "      <td>NaN</td>\n",
       "      <td>2,994.99</td>\n",
       "      <td>2,692.80</td>\n",
       "      <td>2,994.99</td>\n",
       "      <td>2,671.72</td>\n",
       "      <td>908.75K</td>\n",
       "      <td>11.22%</td>\n",
       "    </tr>\n",
       "    <tr>\n",
       "      <th>13</th>\n",
       "      <td>03-Feb-22</td>\n",
       "      <td>2,692.80</td>\n",
       "      <td>2,680.66</td>\n",
       "      <td>2,723.97</td>\n",
       "      <td>2,579.80</td>\n",
       "      <td>549.27K</td>\n",
       "      <td>0.44%</td>\n",
       "    </tr>\n",
       "    <tr>\n",
       "      <th>14</th>\n",
       "      <td>02-Feb-22</td>\n",
       "      <td>2,681.00</td>\n",
       "      <td>2,787.16</td>\n",
       "      <td>2,809.57</td>\n",
       "      <td>2,618.07</td>\n",
       "      <td>602.40K</td>\n",
       "      <td>NaN</td>\n",
       "    </tr>\n",
       "    <tr>\n",
       "      <th>15</th>\n",
       "      <td>01-Feb-22</td>\n",
       "      <td>2,787.16</td>\n",
       "      <td>2,686.82</td>\n",
       "      <td>2,808.60</td>\n",
       "      <td>2,676.32</td>\n",
       "      <td>521.74K</td>\n",
       "      <td>3.73%</td>\n",
       "    </tr>\n",
       "    <tr>\n",
       "      <th>16</th>\n",
       "      <td>31-Jan-22</td>\n",
       "      <td>2,686.82</td>\n",
       "      <td>2,602.71</td>\n",
       "      <td>2,704.64</td>\n",
       "      <td>2,478.85</td>\n",
       "      <td>601.73K</td>\n",
       "      <td>3.23%</td>\n",
       "    </tr>\n",
       "    <tr>\n",
       "      <th>17</th>\n",
       "      <td>30-Jan-22</td>\n",
       "      <td>2,602.77</td>\n",
       "      <td>2,600.12</td>\n",
       "      <td>2,636.04</td>\n",
       "      <td>2,543.99</td>\n",
       "      <td>381.84K</td>\n",
       "      <td>0.11%</td>\n",
       "    </tr>\n",
       "    <tr>\n",
       "      <th>18</th>\n",
       "      <td>29-Jan-22</td>\n",
       "      <td>2,600.02</td>\n",
       "      <td>2,545.95</td>\n",
       "      <td>2,632.51</td>\n",
       "      <td>2,520.14</td>\n",
       "      <td>484.18K</td>\n",
       "      <td>2.12%</td>\n",
       "    </tr>\n",
       "    <tr>\n",
       "      <th>19</th>\n",
       "      <td>28-Jan-22</td>\n",
       "      <td>2,545.95</td>\n",
       "      <td>2,424.66</td>\n",
       "      <td>2,556.34</td>\n",
       "      <td>2,362.53</td>\n",
       "      <td>634.50K</td>\n",
       "      <td>5.00%</td>\n",
       "    </tr>\n",
       "  </tbody>\n",
       "</table>\n",
       "</div>"
      ],
      "text/plain": [
       "         Date     Price      Open      High       Low     Vol. Change %\n",
       "0   16-Feb-22  3,069.74  3,182.32  3,184.15  3,045.92  401.88K   -3.54%\n",
       "1   15-Feb-22  3,182.27  2,929.29  3,193.18  2,912.61  540.04K    8.64%\n",
       "2   14-Feb-22  2,929.31  2,871.06       NaN  2,834.13  477.24K    2.06%\n",
       "3   13-Feb-22  2,870.25  2,917.16  2,952.94  2,838.29  303.12K   -1.61%\n",
       "4   12-Feb-22       NaN  2,927.64  2,984.72  2,858.85  433.29K   -0.36%\n",
       "5   11-Feb-22  2,927.63  3,071.80  3,136.33  2,880.60  607.93K   -4.69%\n",
       "6   10-Feb-22  3,071.83  3,243.73  3,277.36  3,058.59  742.54K   -5.30%\n",
       "7   09-Feb-22  3,243.62  3,115.91  3,266.41  3,055.95  477.82K    4.10%\n",
       "8   08-Feb-22  3,115.88  3,139.65  3,228.86  3,029.70      NaN   -0.77%\n",
       "9   07-Feb-22  3,140.18  3,056.29  3,185.77  2,995.59  568.42K    2.75%\n",
       "10  06-Feb-22  3,056.20  3,013.75  3,073.23  2,957.16  316.58K    1.41%\n",
       "11  05-Feb-22  3,013.81  2,994.74  3,058.88  2,963.11  473.62K    0.63%\n",
       "12        NaN  2,994.99  2,692.80  2,994.99  2,671.72  908.75K   11.22%\n",
       "13  03-Feb-22  2,692.80  2,680.66  2,723.97  2,579.80  549.27K    0.44%\n",
       "14  02-Feb-22  2,681.00  2,787.16  2,809.57  2,618.07  602.40K      NaN\n",
       "15  01-Feb-22  2,787.16  2,686.82  2,808.60  2,676.32  521.74K    3.73%\n",
       "16  31-Jan-22  2,686.82  2,602.71  2,704.64  2,478.85  601.73K    3.23%\n",
       "17  30-Jan-22  2,602.77  2,600.12  2,636.04  2,543.99  381.84K    0.11%\n",
       "18  29-Jan-22  2,600.02  2,545.95  2,632.51  2,520.14  484.18K    2.12%\n",
       "19  28-Jan-22  2,545.95  2,424.66  2,556.34  2,362.53  634.50K    5.00%"
      ]
     },
     "execution_count": 126,
     "metadata": {},
     "output_type": "execute_result"
    }
   ],
   "source": [
    "df.head(20)"
   ]
  },
  {
   "cell_type": "code",
   "execution_count": 127,
   "metadata": {},
   "outputs": [
    {
     "data": {
      "text/plain": [
       "(1128, 7)"
      ]
     },
     "execution_count": 127,
     "metadata": {},
     "output_type": "execute_result"
    }
   ],
   "source": [
    "df.shape"
   ]
  },
  {
   "cell_type": "code",
   "execution_count": 128,
   "metadata": {},
   "outputs": [
    {
     "data": {
      "text/plain": [
       "Date        object\n",
       "Price       object\n",
       "Open        object\n",
       "High        object\n",
       "Low         object\n",
       "Vol.        object\n",
       "Change %    object\n",
       "dtype: object"
      ]
     },
     "execution_count": 128,
     "metadata": {},
     "output_type": "execute_result"
    }
   ],
   "source": [
    "df.dtypes"
   ]
  },
  {
   "cell_type": "code",
   "execution_count": 129,
   "metadata": {},
   "outputs": [
    {
     "name": "stdout",
     "output_type": "stream",
     "text": [
      "<class 'pandas.core.frame.DataFrame'>\n",
      "RangeIndex: 1128 entries, 0 to 1127\n",
      "Data columns (total 7 columns):\n",
      " #   Column    Non-Null Count  Dtype \n",
      "---  ------    --------------  ----- \n",
      " 0   Date      1115 non-null   object\n",
      " 1   Price     1112 non-null   object\n",
      " 2   Open      1114 non-null   object\n",
      " 3   High      1119 non-null   object\n",
      " 4   Low       1124 non-null   object\n",
      " 5   Vol.      1121 non-null   object\n",
      " 6   Change %  1120 non-null   object\n",
      "dtypes: object(7)\n",
      "memory usage: 61.8+ KB\n"
     ]
    }
   ],
   "source": [
    "df.info()"
   ]
  },
  {
   "cell_type": "markdown",
   "metadata": {},
   "source": [
    "\n",
    "# Data Preparation\n"
   ]
  },
  {
   "cell_type": "code",
   "execution_count": 130,
   "metadata": {},
   "outputs": [
    {
     "data": {
      "text/plain": [
       "Date        1.15\n",
       "Price       1.42\n",
       "Open        1.24\n",
       "High        0.80\n",
       "Low         0.35\n",
       "Vol.        0.62\n",
       "Change %    0.71\n",
       "dtype: float64"
      ]
     },
     "execution_count": 130,
     "metadata": {},
     "output_type": "execute_result"
    }
   ],
   "source": [
    "# Find out how many percetange of values are NULL or NAN.\n",
    "((df.isnull() | df.isna()).sum() * 100 / df.index.size).round(2)"
   ]
  },
  {
   "cell_type": "markdown",
   "metadata": {},
   "source": [
    "### * Fill-Out Missing Data"
   ]
  },
  {
   "cell_type": "markdown",
   "metadata": {},
   "source": [
    "#### 1) Date"
   ]
  },
  {
   "cell_type": "code",
   "execution_count": 131,
   "metadata": {},
   "outputs": [
    {
     "data": {
      "text/plain": [
       "Index(['Date', 'Price', 'Open', 'High', 'Low', 'Vol.', 'Change %'], dtype='object')"
      ]
     },
     "execution_count": 131,
     "metadata": {},
     "output_type": "execute_result"
    }
   ],
   "source": [
    "df.columns"
   ]
  },
  {
   "cell_type": "code",
   "execution_count": 132,
   "metadata": {},
   "outputs": [
    {
     "name": "stdout",
     "output_type": "stream",
     "text": [
      "Total number of null valus in Date column is:- 13\n"
     ]
    }
   ],
   "source": [
    "print(f'''Total number of null valus in Date column is:- {df[\"Date\"].isnull().sum()}''')"
   ]
  },
  {
   "cell_type": "code",
   "execution_count": 133,
   "metadata": {},
   "outputs": [
    {
     "data": {
      "text/html": [
       "<div>\n",
       "<style scoped>\n",
       "    .dataframe tbody tr th:only-of-type {\n",
       "        vertical-align: middle;\n",
       "    }\n",
       "\n",
       "    .dataframe tbody tr th {\n",
       "        vertical-align: top;\n",
       "    }\n",
       "\n",
       "    .dataframe thead th {\n",
       "        text-align: right;\n",
       "    }\n",
       "</style>\n",
       "<table border=\"1\" class=\"dataframe\">\n",
       "  <thead>\n",
       "    <tr style=\"text-align: right;\">\n",
       "      <th></th>\n",
       "      <th>Date</th>\n",
       "      <th>Price</th>\n",
       "      <th>Open</th>\n",
       "      <th>High</th>\n",
       "      <th>Low</th>\n",
       "      <th>Vol.</th>\n",
       "      <th>Change %</th>\n",
       "    </tr>\n",
       "  </thead>\n",
       "  <tbody>\n",
       "    <tr>\n",
       "      <th>12</th>\n",
       "      <td>NaN</td>\n",
       "      <td>2,994.99</td>\n",
       "      <td>2,692.80</td>\n",
       "      <td>2,994.99</td>\n",
       "      <td>2,671.72</td>\n",
       "      <td>908.75K</td>\n",
       "      <td>11.22%</td>\n",
       "    </tr>\n",
       "    <tr>\n",
       "      <th>42</th>\n",
       "      <td>NaN</td>\n",
       "      <td>3,535.86</td>\n",
       "      <td>3,784.47</td>\n",
       "      <td>3,846.44</td>\n",
       "      <td>3,418.46</td>\n",
       "      <td>582.71K</td>\n",
       "      <td>-6.69%</td>\n",
       "    </tr>\n",
       "    <tr>\n",
       "      <th>88</th>\n",
       "      <td>NaN</td>\n",
       "      <td>4,408.85</td>\n",
       "      <td>4,295.27</td>\n",
       "      <td>4,434.27</td>\n",
       "      <td>4,206.75</td>\n",
       "      <td>462.99K</td>\n",
       "      <td>2.64%</td>\n",
       "    </tr>\n",
       "    <tr>\n",
       "      <th>139</th>\n",
       "      <td>NaN</td>\n",
       "      <td>3,000.59</td>\n",
       "      <td>2,851.06</td>\n",
       "      <td>3,047.08</td>\n",
       "      <td>2,837.68</td>\n",
       "      <td>968.23K</td>\n",
       "      <td>5.23%</td>\n",
       "    </tr>\n",
       "    <tr>\n",
       "      <th>201</th>\n",
       "      <td>NaN</td>\n",
       "      <td>2,460.95</td>\n",
       "      <td>2,380.59</td>\n",
       "      <td>2,467.40</td>\n",
       "      <td>2,320.80</td>\n",
       "      <td>1.03M</td>\n",
       "      <td>3.36%</td>\n",
       "    </tr>\n",
       "    <tr>\n",
       "      <th>280</th>\n",
       "      <td>NaN</td>\n",
       "      <td>3,811.77</td>\n",
       "      <td>4,173.61</td>\n",
       "      <td>4,366.10</td>\n",
       "      <td>3,794.15</td>\n",
       "      <td>2.78M</td>\n",
       "      <td>-8.54%</td>\n",
       "    </tr>\n",
       "    <tr>\n",
       "      <th>391</th>\n",
       "      <td>NaN</td>\n",
       "      <td>1,117.33</td>\n",
       "      <td>1,377.63</td>\n",
       "      <td>1,387.39</td>\n",
       "      <td>1,095.26</td>\n",
       "      <td>NaN</td>\n",
       "      <td>-18.89%</td>\n",
       "    </tr>\n",
       "    <tr>\n",
       "      <th>494</th>\n",
       "      <td>NaN</td>\n",
       "      <td>370.16</td>\n",
       "      <td>365.25</td>\n",
       "      <td>377.97</td>\n",
       "      <td>364.57</td>\n",
       "      <td>7.17M</td>\n",
       "      <td>1.34%</td>\n",
       "    </tr>\n",
       "    <tr>\n",
       "      <th>619</th>\n",
       "      <td>NaN</td>\n",
       "      <td>244.56</td>\n",
       "      <td>242</td>\n",
       "      <td>244.94</td>\n",
       "      <td>235.44</td>\n",
       "      <td>8.10M</td>\n",
       "      <td>1.06%</td>\n",
       "    </tr>\n",
       "    <tr>\n",
       "      <th>722</th>\n",
       "      <td>NaN</td>\n",
       "      <td>246.96</td>\n",
       "      <td>265.63</td>\n",
       "      <td>266.17</td>\n",
       "      <td>245.75</td>\n",
       "      <td>NaN</td>\n",
       "      <td>-7.04%</td>\n",
       "    </tr>\n",
       "    <tr>\n",
       "      <th>847</th>\n",
       "      <td>NaN</td>\n",
       "      <td>162.28</td>\n",
       "      <td>171.44</td>\n",
       "      <td>171.61</td>\n",
       "      <td>154.42</td>\n",
       "      <td>16.00M</td>\n",
       "      <td>-5.34%</td>\n",
       "    </tr>\n",
       "    <tr>\n",
       "      <th>976</th>\n",
       "      <td>NaN</td>\n",
       "      <td>267.98</td>\n",
       "      <td>267.74</td>\n",
       "      <td>282.75</td>\n",
       "      <td>263.96</td>\n",
       "      <td>8.66M</td>\n",
       "      <td>0.09%</td>\n",
       "    </tr>\n",
       "    <tr>\n",
       "      <th>1059</th>\n",
       "      <td>NaN</td>\n",
       "      <td>134.25</td>\n",
       "      <td>136.44</td>\n",
       "      <td>137.05</td>\n",
       "      <td>132.36</td>\n",
       "      <td>11.49M</td>\n",
       "      <td>-1.60%</td>\n",
       "    </tr>\n",
       "  </tbody>\n",
       "</table>\n",
       "</div>"
      ],
      "text/plain": [
       "     Date     Price      Open      High       Low     Vol. Change %\n",
       "12    NaN  2,994.99  2,692.80  2,994.99  2,671.72  908.75K   11.22%\n",
       "42    NaN  3,535.86  3,784.47  3,846.44  3,418.46  582.71K   -6.69%\n",
       "88    NaN  4,408.85  4,295.27  4,434.27  4,206.75  462.99K    2.64%\n",
       "139   NaN  3,000.59  2,851.06  3,047.08  2,837.68  968.23K    5.23%\n",
       "201   NaN  2,460.95  2,380.59  2,467.40  2,320.80    1.03M    3.36%\n",
       "280   NaN  3,811.77  4,173.61  4,366.10  3,794.15    2.78M   -8.54%\n",
       "391   NaN  1,117.33  1,377.63  1,387.39  1,095.26      NaN  -18.89%\n",
       "494   NaN    370.16    365.25    377.97    364.57    7.17M    1.34%\n",
       "619   NaN    244.56       242    244.94    235.44    8.10M    1.06%\n",
       "722   NaN    246.96    265.63    266.17    245.75      NaN   -7.04%\n",
       "847   NaN    162.28    171.44    171.61    154.42   16.00M   -5.34%\n",
       "976   NaN    267.98    267.74    282.75    263.96    8.66M    0.09%\n",
       "1059  NaN    134.25    136.44    137.05    132.36   11.49M   -1.60%"
      ]
     },
     "execution_count": 133,
     "metadata": {},
     "output_type": "execute_result"
    }
   ],
   "source": [
    "# Function to print all rows which have null values column wise.\n",
    "def missing_rows(dataframe_name,column_name):\n",
    "    return dataframe_name[dataframe_name[column_name].isnull()]\n",
    "missing_rows(dataframe_name=df,column_name=\"Date\")"
   ]
  },
  {
   "cell_type": "code",
   "execution_count": 134,
   "metadata": {},
   "outputs": [],
   "source": [
    "df[\"Date\"] = pd.to_datetime(df.Date)"
   ]
  },
  {
   "cell_type": "code",
   "execution_count": 135,
   "metadata": {},
   "outputs": [
    {
     "data": {
      "text/plain": [
       "dtype('<M8[ns]')"
      ]
     },
     "execution_count": 135,
     "metadata": {},
     "output_type": "execute_result"
    }
   ],
   "source": [
    "df[\"Date\"].dtype"
   ]
  },
  {
   "cell_type": "code",
   "execution_count": 136,
   "metadata": {},
   "outputs": [
    {
     "data": {
      "text/plain": [
       "0    2022-02-16\n",
       "1    2022-02-15\n",
       "2    2022-02-14\n",
       "3    2022-02-13\n",
       "4    2022-02-12\n",
       "5    2022-02-11\n",
       "6    2022-02-10\n",
       "7    2022-02-09\n",
       "8    2022-02-08\n",
       "9    2022-02-07\n",
       "10   2022-02-06\n",
       "11   2022-02-05\n",
       "12          NaT\n",
       "13   2022-02-03\n",
       "Name: Date, dtype: datetime64[ns]"
      ]
     },
     "execution_count": 136,
     "metadata": {},
     "output_type": "execute_result"
    }
   ],
   "source": [
    "df[\"Date\"].head(14)"
   ]
  },
  {
   "cell_type": "markdown",
   "metadata": {},
   "source": [
    "Lets just deconstruct date and make new columns in order to \n",
    "store day, month and year."
   ]
  },
  {
   "cell_type": "code",
   "execution_count": 137,
   "metadata": {},
   "outputs": [],
   "source": [
    "def make_new_columns_day_month_year(dataframe_name,date_column_name):\n",
    "    dataframe_name[\"Day\"] = dataframe_name[date_column_name].dt.day\n",
    "    dataframe_name[\"Month\"] = dataframe_name[date_column_name].dt.month\n",
    "    dataframe_name[\"Year\"] = dataframe_name[date_column_name].dt.year"
   ]
  },
  {
   "cell_type": "code",
   "execution_count": 138,
   "metadata": {},
   "outputs": [],
   "source": [
    "make_new_columns_day_month_year(df,\"Date\")"
   ]
  },
  {
   "cell_type": "code",
   "execution_count": 139,
   "metadata": {},
   "outputs": [
    {
     "name": "stdout",
     "output_type": "stream",
     "text": [
      "<class 'pandas.core.frame.DataFrame'>\n",
      "RangeIndex: 1128 entries, 0 to 1127\n",
      "Data columns (total 10 columns):\n",
      " #   Column    Non-Null Count  Dtype         \n",
      "---  ------    --------------  -----         \n",
      " 0   Date      1115 non-null   datetime64[ns]\n",
      " 1   Price     1112 non-null   object        \n",
      " 2   Open      1114 non-null   object        \n",
      " 3   High      1119 non-null   object        \n",
      " 4   Low       1124 non-null   object        \n",
      " 5   Vol.      1121 non-null   object        \n",
      " 6   Change %  1120 non-null   object        \n",
      " 7   Day       1115 non-null   float64       \n",
      " 8   Month     1115 non-null   float64       \n",
      " 9   Year      1115 non-null   float64       \n",
      "dtypes: datetime64[ns](1), float64(3), object(6)\n",
      "memory usage: 88.2+ KB\n"
     ]
    }
   ],
   "source": [
    "# we have made new columns day, month and year and its in float format.\n",
    "df.info()"
   ]
  },
  {
   "cell_type": "code",
   "execution_count": 140,
   "metadata": {},
   "outputs": [],
   "source": [
    "# Let's drop Date column now, we don't need anymore.\n",
    "\n",
    "def drop_columns_from_dataframe(dataframe_name,list_of_columns_name):\n",
    "    dataframe_name.drop(list_of_columns_name,axis=1,inplace=True)"
   ]
  },
  {
   "cell_type": "code",
   "execution_count": 141,
   "metadata": {},
   "outputs": [],
   "source": [
    "drop_columns_from_dataframe(df,[\"Date\"])"
   ]
  },
  {
   "cell_type": "code",
   "execution_count": 142,
   "metadata": {},
   "outputs": [
    {
     "data": {
      "text/html": [
       "<div>\n",
       "<style scoped>\n",
       "    .dataframe tbody tr th:only-of-type {\n",
       "        vertical-align: middle;\n",
       "    }\n",
       "\n",
       "    .dataframe tbody tr th {\n",
       "        vertical-align: top;\n",
       "    }\n",
       "\n",
       "    .dataframe thead th {\n",
       "        text-align: right;\n",
       "    }\n",
       "</style>\n",
       "<table border=\"1\" class=\"dataframe\">\n",
       "  <thead>\n",
       "    <tr style=\"text-align: right;\">\n",
       "      <th></th>\n",
       "      <th>Price</th>\n",
       "      <th>Open</th>\n",
       "      <th>High</th>\n",
       "      <th>Low</th>\n",
       "      <th>Vol.</th>\n",
       "      <th>Change %</th>\n",
       "      <th>Day</th>\n",
       "      <th>Month</th>\n",
       "      <th>Year</th>\n",
       "    </tr>\n",
       "  </thead>\n",
       "  <tbody>\n",
       "    <tr>\n",
       "      <th>0</th>\n",
       "      <td>3,069.74</td>\n",
       "      <td>3,182.32</td>\n",
       "      <td>3,184.15</td>\n",
       "      <td>3,045.92</td>\n",
       "      <td>401.88K</td>\n",
       "      <td>-3.54%</td>\n",
       "      <td>16.0</td>\n",
       "      <td>2.0</td>\n",
       "      <td>2022.0</td>\n",
       "    </tr>\n",
       "    <tr>\n",
       "      <th>1</th>\n",
       "      <td>3,182.27</td>\n",
       "      <td>2,929.29</td>\n",
       "      <td>3,193.18</td>\n",
       "      <td>2,912.61</td>\n",
       "      <td>540.04K</td>\n",
       "      <td>8.64%</td>\n",
       "      <td>15.0</td>\n",
       "      <td>2.0</td>\n",
       "      <td>2022.0</td>\n",
       "    </tr>\n",
       "    <tr>\n",
       "      <th>2</th>\n",
       "      <td>2,929.31</td>\n",
       "      <td>2,871.06</td>\n",
       "      <td>NaN</td>\n",
       "      <td>2,834.13</td>\n",
       "      <td>477.24K</td>\n",
       "      <td>2.06%</td>\n",
       "      <td>14.0</td>\n",
       "      <td>2.0</td>\n",
       "      <td>2022.0</td>\n",
       "    </tr>\n",
       "    <tr>\n",
       "      <th>3</th>\n",
       "      <td>2,870.25</td>\n",
       "      <td>2,917.16</td>\n",
       "      <td>2,952.94</td>\n",
       "      <td>2,838.29</td>\n",
       "      <td>303.12K</td>\n",
       "      <td>-1.61%</td>\n",
       "      <td>13.0</td>\n",
       "      <td>2.0</td>\n",
       "      <td>2022.0</td>\n",
       "    </tr>\n",
       "    <tr>\n",
       "      <th>4</th>\n",
       "      <td>NaN</td>\n",
       "      <td>2,927.64</td>\n",
       "      <td>2,984.72</td>\n",
       "      <td>2,858.85</td>\n",
       "      <td>433.29K</td>\n",
       "      <td>-0.36%</td>\n",
       "      <td>12.0</td>\n",
       "      <td>2.0</td>\n",
       "      <td>2022.0</td>\n",
       "    </tr>\n",
       "  </tbody>\n",
       "</table>\n",
       "</div>"
      ],
      "text/plain": [
       "      Price      Open      High       Low     Vol. Change %   Day  Month  \\\n",
       "0  3,069.74  3,182.32  3,184.15  3,045.92  401.88K   -3.54%  16.0    2.0   \n",
       "1  3,182.27  2,929.29  3,193.18  2,912.61  540.04K    8.64%  15.0    2.0   \n",
       "2  2,929.31  2,871.06       NaN  2,834.13  477.24K    2.06%  14.0    2.0   \n",
       "3  2,870.25  2,917.16  2,952.94  2,838.29  303.12K   -1.61%  13.0    2.0   \n",
       "4       NaN  2,927.64  2,984.72  2,858.85  433.29K   -0.36%  12.0    2.0   \n",
       "\n",
       "     Year  \n",
       "0  2022.0  \n",
       "1  2022.0  \n",
       "2  2022.0  \n",
       "3  2022.0  \n",
       "4  2022.0  "
      ]
     },
     "execution_count": 142,
     "metadata": {},
     "output_type": "execute_result"
    }
   ],
   "source": [
    "df.head()"
   ]
  },
  {
   "cell_type": "code",
   "execution_count": 143,
   "metadata": {},
   "outputs": [],
   "source": [
    "df_day_month_year = df[[\"Day\",\"Month\",\"Year\"]].copy()\n",
    "df.drop([\"Day\",\"Month\",\"Year\"],axis=1,inplace=True)"
   ]
  },
  {
   "cell_type": "code",
   "execution_count": 144,
   "metadata": {},
   "outputs": [
    {
     "data": {
      "text/html": [
       "<div>\n",
       "<style scoped>\n",
       "    .dataframe tbody tr th:only-of-type {\n",
       "        vertical-align: middle;\n",
       "    }\n",
       "\n",
       "    .dataframe tbody tr th {\n",
       "        vertical-align: top;\n",
       "    }\n",
       "\n",
       "    .dataframe thead th {\n",
       "        text-align: right;\n",
       "    }\n",
       "</style>\n",
       "<table border=\"1\" class=\"dataframe\">\n",
       "  <thead>\n",
       "    <tr style=\"text-align: right;\">\n",
       "      <th></th>\n",
       "      <th>Day</th>\n",
       "      <th>Month</th>\n",
       "      <th>Year</th>\n",
       "    </tr>\n",
       "  </thead>\n",
       "  <tbody>\n",
       "    <tr>\n",
       "      <th>0</th>\n",
       "      <td>16.0</td>\n",
       "      <td>2.0</td>\n",
       "      <td>2022.0</td>\n",
       "    </tr>\n",
       "    <tr>\n",
       "      <th>1</th>\n",
       "      <td>15.0</td>\n",
       "      <td>2.0</td>\n",
       "      <td>2022.0</td>\n",
       "    </tr>\n",
       "    <tr>\n",
       "      <th>2</th>\n",
       "      <td>14.0</td>\n",
       "      <td>2.0</td>\n",
       "      <td>2022.0</td>\n",
       "    </tr>\n",
       "    <tr>\n",
       "      <th>3</th>\n",
       "      <td>13.0</td>\n",
       "      <td>2.0</td>\n",
       "      <td>2022.0</td>\n",
       "    </tr>\n",
       "    <tr>\n",
       "      <th>4</th>\n",
       "      <td>12.0</td>\n",
       "      <td>2.0</td>\n",
       "      <td>2022.0</td>\n",
       "    </tr>\n",
       "  </tbody>\n",
       "</table>\n",
       "</div>"
      ],
      "text/plain": [
       "    Day  Month    Year\n",
       "0  16.0    2.0  2022.0\n",
       "1  15.0    2.0  2022.0\n",
       "2  14.0    2.0  2022.0\n",
       "3  13.0    2.0  2022.0\n",
       "4  12.0    2.0  2022.0"
      ]
     },
     "execution_count": 144,
     "metadata": {},
     "output_type": "execute_result"
    }
   ],
   "source": [
    "df_day_month_year.head()"
   ]
  },
  {
   "cell_type": "markdown",
   "metadata": {},
   "source": [
    "##### Fill missing values in Day column"
   ]
  },
  {
   "cell_type": "code",
   "execution_count": 145,
   "metadata": {},
   "outputs": [],
   "source": [
    "# First of all we are going to fill missing values in Day column.\n",
    "def fill_Day_column_missing_values(dataframe_name,row):\n",
    "    if(np.isnan(row[\"Month\"])):\n",
    "        # Here axis=1, and inplace=True is important bcz only we can only change value of object,\n",
    "        # its not possible to mutate whole obbject. \n",
    "        dataframe_name.drop(row.name, inplace=True)\n",
    "    else:\n",
    "        if((dataframe_name.loc[row.name-1,\"Day\"] -1) != 0):\n",
    "            calculated_day = (dataframe_name.loc[row.name-1,\"Day\"] -1)\n",
    "        else:\n",
    "            if(row[\"Month\"] == 4 or row[\"Month\"] == 6 or row[\"Month\"] == 0 or row[\"Month\"] == 11):\n",
    "                calculated_day = (dataframe_name.loc[row.name-1,\"Day\"] -1) + 30\n",
    "            elif(row[\"Month\"] == 2):\n",
    "                calculated_day = (dataframe_name.loc[row.name-1,\"Day\"] -1) + 28\n",
    "            else:\n",
    "                calculated_day = (dataframe_name.loc[row.name-1,\"Day\"] -1) + 31\n",
    "    \n",
    "        row[\"Day\"] = calculated_day\n",
    "    return row       \n",
    "\n",
    "\n",
    "def fill_missing_values_for_day(dataframe_name):\n",
    "    dataframe_name = dataframe_name.apply(\n",
    "        lambda row: fill_Day_column_missing_values(dataframe_name,row) if np.isnan(row[\"Day\"]) else row,\n",
    "        axis=1\n",
    "    )\n"
   ]
  },
  {
   "cell_type": "code",
   "execution_count": 146,
   "metadata": {},
   "outputs": [],
   "source": [
    "fill_missing_values_for_day(df_day_month_year)"
   ]
  },
  {
   "cell_type": "markdown",
   "metadata": {},
   "source": [
    "##### Fill missing values in Month column"
   ]
  },
  {
   "cell_type": "code",
   "execution_count": 147,
   "metadata": {},
   "outputs": [],
   "source": [
    "\n",
    "# Now, we are going to fill missing values in Month column.\n",
    "def fill_Month_column_missing_values(dataframe_name, row):\n",
    "    if((row[\"Day\"] != 30 or row[\"Day\"] != 31)):\n",
    "        calculated_month = dataframe_name.loc[row.name-1, \"Month\"]\n",
    "    elif(row[\"Day\"] == 28 and dataframe_name.loc[row.name-1, \"Month\"] == 3):\n",
    "        calculated_month = 2\n",
    "    else:\n",
    "        calculated_month = dataframe_name.loc[row.name-1, \"Month\"]-1\n",
    "    row[\"Month\"] = calculated_month\n",
    "    return row\n",
    "\n",
    "def fill_missing_values_for_month(dataframe_name):\n",
    "    dataframe_name = dataframe_name.apply(\n",
    "        lambda row: fill_Month_column_missing_values(\n",
    "            dataframe_name, row) if np.isnan(row[\"Month\"]) else row,\n",
    "        axis=1\n",
    "    )\n"
   ]
  },
  {
   "cell_type": "code",
   "execution_count": 148,
   "metadata": {},
   "outputs": [],
   "source": [
    "fill_missing_values_for_month(df_day_month_year)"
   ]
  },
  {
   "cell_type": "markdown",
   "metadata": {},
   "source": [
    "##### Fill missing values in Year column"
   ]
  },
  {
   "cell_type": "code",
   "execution_count": 149,
   "metadata": {},
   "outputs": [],
   "source": [
    "# Now, we are going to fill missing values in Month column.\n",
    "def fill_Year_column_missing_values(dataframe_name, row):\n",
    "    if(row[\"Day\"] == 31 and row[\"Month\"] == 12):\n",
    "        calculated_Year = dataframe_name.loc[row.name-1, \"Year\"] -1\n",
    "    else:\n",
    "        calculated_Year = dataframe_name.loc[row.name-1, \"Year\"]\n",
    "    row[\"Year\"] = calculated_Year\n",
    "    return row\n",
    "\n",
    "def fill_missing_values_for_year(dataframe_name):\n",
    "    dataframe_name = dataframe_name.apply(\n",
    "        lambda row: fill_Year_column_missing_values(\n",
    "            dataframe_name, row) if np.isnan(row[\"Year\"]) else row,\n",
    "        axis=1\n",
    "    )\n"
   ]
  },
  {
   "cell_type": "code",
   "execution_count": 150,
   "metadata": {},
   "outputs": [],
   "source": [
    "fill_missing_values_for_year(df_day_month_year)\n"
   ]
  },
  {
   "cell_type": "code",
   "execution_count": 151,
   "metadata": {},
   "outputs": [],
   "source": [
    "# Let's merge our new dataframe with older one.\n",
    "df = pd.merge(df, df_day_month_year, left_index=True, right_index=True)"
   ]
  },
  {
   "cell_type": "code",
   "execution_count": 152,
   "metadata": {},
   "outputs": [
    {
     "data": {
      "text/html": [
       "<div>\n",
       "<style scoped>\n",
       "    .dataframe tbody tr th:only-of-type {\n",
       "        vertical-align: middle;\n",
       "    }\n",
       "\n",
       "    .dataframe tbody tr th {\n",
       "        vertical-align: top;\n",
       "    }\n",
       "\n",
       "    .dataframe thead th {\n",
       "        text-align: right;\n",
       "    }\n",
       "</style>\n",
       "<table border=\"1\" class=\"dataframe\">\n",
       "  <thead>\n",
       "    <tr style=\"text-align: right;\">\n",
       "      <th></th>\n",
       "      <th>Day</th>\n",
       "      <th>Month</th>\n",
       "      <th>Year</th>\n",
       "    </tr>\n",
       "  </thead>\n",
       "  <tbody>\n",
       "    <tr>\n",
       "      <th>0</th>\n",
       "      <td>16.0</td>\n",
       "      <td>2.0</td>\n",
       "      <td>2022.0</td>\n",
       "    </tr>\n",
       "    <tr>\n",
       "      <th>1</th>\n",
       "      <td>15.0</td>\n",
       "      <td>2.0</td>\n",
       "      <td>2022.0</td>\n",
       "    </tr>\n",
       "    <tr>\n",
       "      <th>2</th>\n",
       "      <td>14.0</td>\n",
       "      <td>2.0</td>\n",
       "      <td>2022.0</td>\n",
       "    </tr>\n",
       "    <tr>\n",
       "      <th>3</th>\n",
       "      <td>13.0</td>\n",
       "      <td>2.0</td>\n",
       "      <td>2022.0</td>\n",
       "    </tr>\n",
       "    <tr>\n",
       "      <th>4</th>\n",
       "      <td>12.0</td>\n",
       "      <td>2.0</td>\n",
       "      <td>2022.0</td>\n",
       "    </tr>\n",
       "  </tbody>\n",
       "</table>\n",
       "</div>"
      ],
      "text/plain": [
       "    Day  Month    Year\n",
       "0  16.0    2.0  2022.0\n",
       "1  15.0    2.0  2022.0\n",
       "2  14.0    2.0  2022.0\n",
       "3  13.0    2.0  2022.0\n",
       "4  12.0    2.0  2022.0"
      ]
     },
     "execution_count": 152,
     "metadata": {},
     "output_type": "execute_result"
    }
   ],
   "source": [
    "df_day_month_year.head()"
   ]
  },
  {
   "cell_type": "code",
   "execution_count": 153,
   "metadata": {},
   "outputs": [
    {
     "data": {
      "text/html": [
       "<div>\n",
       "<style scoped>\n",
       "    .dataframe tbody tr th:only-of-type {\n",
       "        vertical-align: middle;\n",
       "    }\n",
       "\n",
       "    .dataframe tbody tr th {\n",
       "        vertical-align: top;\n",
       "    }\n",
       "\n",
       "    .dataframe thead th {\n",
       "        text-align: right;\n",
       "    }\n",
       "</style>\n",
       "<table border=\"1\" class=\"dataframe\">\n",
       "  <thead>\n",
       "    <tr style=\"text-align: right;\">\n",
       "      <th></th>\n",
       "      <th>Price</th>\n",
       "      <th>Open</th>\n",
       "      <th>High</th>\n",
       "      <th>Low</th>\n",
       "      <th>Vol.</th>\n",
       "      <th>Change %</th>\n",
       "      <th>Day</th>\n",
       "      <th>Month</th>\n",
       "      <th>Year</th>\n",
       "    </tr>\n",
       "  </thead>\n",
       "  <tbody>\n",
       "  </tbody>\n",
       "</table>\n",
       "</div>"
      ],
      "text/plain": [
       "Empty DataFrame\n",
       "Columns: [Price, Open, High, Low, Vol., Change %, Day, Month, Year]\n",
       "Index: []"
      ]
     },
     "execution_count": 153,
     "metadata": {},
     "output_type": "execute_result"
    }
   ],
   "source": [
    "missing_rows(\n",
    "    column_name='Day',\n",
    "    dataframe_name=df\n",
    ")"
   ]
  },
  {
   "cell_type": "code",
   "execution_count": 154,
   "metadata": {},
   "outputs": [
    {
     "data": {
      "text/plain": [
       "<AxesSubplot:xlabel='Day', ylabel='Count'>"
      ]
     },
     "execution_count": 154,
     "metadata": {},
     "output_type": "execute_result"
    },
    {
     "data": {
      "image/png": "[encoded data removed]",
      "text/plain": [
       "<Figure size 432x288 with 1 Axes>"
      ]
     },
     "metadata": {},
     "output_type": "display_data"
    }
   ],
   "source": [
    "# Let's Analyze how far the data is spread.\n",
    "list_of_days = []\n",
    "for i in range(0, 31):\n",
    "    list_of_days.append(i+1)\n",
    "sns.histplot(df['Day'], color ='red',bins=list_of_days)"
   ]
  },
  {
   "cell_type": "code",
   "execution_count": 155,
   "metadata": {},
   "outputs": [
    {
     "data": {
      "text/plain": [
       "22"
      ]
     },
     "execution_count": 155,
     "metadata": {},
     "output_type": "execute_result"
    }
   ],
   "source": [
    "# filter on rows with specific values for day column.\n",
    "def day_filter_with_specific_value(dataframe_name,column_name,value):\n",
    "    return dataframe_name[dataframe_name[column_name] == value]\n",
    "\n",
    "temp_df = day_filter_with_specific_value(\n",
    "    dataframe_name=df,\n",
    "    column_name=\"Day\",\n",
    "    value=31\n",
    ")\n",
    "len(temp_df)"
   ]
  },
  {
   "cell_type": "code",
   "execution_count": 156,
   "metadata": {},
   "outputs": [
    {
     "data": {
      "text/plain": [
       "<AxesSubplot:xlabel='Month', ylabel='Count'>"
      ]
     },
     "execution_count": 156,
     "metadata": {},
     "output_type": "execute_result"
    },
    {
     "data": {
      "image/png": "[encoded data removed]",
      "text/plain": [
       "<Figure size 432x288 with 1 Axes>"
      ]
     },
     "metadata": {},
     "output_type": "display_data"
    }
   ],
   "source": [
    "# Let's Analyze how far the data is spread.\n",
    "list_of_months = []\n",
    "for i in range(0, 12):\n",
    "    list_of_months.append(i+1)\n",
    "sns.histplot(df['Month'], color ='blue',bins=list_of_months)"
   ]
  },
  {
   "cell_type": "code",
   "execution_count": 157,
   "metadata": {},
   "outputs": [
    {
     "data": {
      "text/plain": [
       "93"
      ]
     },
     "execution_count": 157,
     "metadata": {},
     "output_type": "execute_result"
    }
   ],
   "source": [
    "# filter on rows with specific values for month column.\n",
    "def month_filter_with_specific_value(dataframe_name,column_name,value):\n",
    "    return dataframe_name[dataframe_name[column_name] == value]\n",
    "\n",
    "temp_df = month_filter_with_specific_value(\n",
    "    dataframe_name=df,\n",
    "    column_name=\"Month\",\n",
    "    value=12\n",
    ")\n",
    "len(temp_df)"
   ]
  },
  {
   "cell_type": "code",
   "execution_count": 158,
   "metadata": {},
   "outputs": [
    {
     "data": {
      "text/plain": [
       "0"
      ]
     },
     "execution_count": 158,
     "metadata": {},
     "output_type": "execute_result"
    }
   ],
   "source": [
    "# Function to print all rows which have null values column wise.\n",
    "len(missing_rows(dataframe_name=df,column_name=\"Month\"))"
   ]
  },
  {
   "cell_type": "code",
   "execution_count": 159,
   "metadata": {},
   "outputs": [
    {
     "data": {
      "text/plain": [
       "<AxesSubplot:xlabel='Year', ylabel='Count'>"
      ]
     },
     "execution_count": 159,
     "metadata": {},
     "output_type": "execute_result"
    },
    {
     "data": {
      "image/png": "[encoded data removed]",
      "text/plain": [
       "<Figure size 432x288 with 1 Axes>"
      ]
     },
     "metadata": {},
     "output_type": "display_data"
    }
   ],
   "source": [
    "# Let's Analyze how far the data is spread.\n",
    "list_of_years = [2019,2020,2021,2022]\n",
    "sns.histplot(df['Year'], color ='black',bins=list_of_years)"
   ]
  },
  {
   "cell_type": "code",
   "execution_count": 160,
   "metadata": {},
   "outputs": [
    {
     "data": {
      "text/plain": [
       "45"
      ]
     },
     "execution_count": 160,
     "metadata": {},
     "output_type": "execute_result"
    }
   ],
   "source": [
    "# filter on rows with specific values for year column.\n",
    "def year_filter_with_specific_value(dataframe_name,column_name,value):\n",
    "    return dataframe_name[dataframe_name[column_name] == value]\n",
    "\n",
    "temp_df = year_filter_with_specific_value(\n",
    "    dataframe_name=df,\n",
    "    column_name=\"Year\",\n",
    "    value=2022\n",
    ")\n",
    "len(temp_df)"
   ]
  },
  {
   "cell_type": "markdown",
   "metadata": {},
   "source": [
    "#### 2) Price"
   ]
  },
  {
   "cell_type": "code",
   "execution_count": 161,
   "metadata": {},
   "outputs": [
    {
     "data": {
      "text/plain": [
       "Index(['Price', 'Open', 'High', 'Low', 'Vol.', 'Change %', 'Day', 'Month',\n",
       "       'Year'],\n",
       "      dtype='object')"
      ]
     },
     "execution_count": 161,
     "metadata": {},
     "output_type": "execute_result"
    }
   ],
   "source": [
    "df.columns"
   ]
  },
  {
   "cell_type": "code",
   "execution_count": 162,
   "metadata": {},
   "outputs": [
    {
     "data": {
      "text/html": [
       "<div>\n",
       "<style scoped>\n",
       "    .dataframe tbody tr th:only-of-type {\n",
       "        vertical-align: middle;\n",
       "    }\n",
       "\n",
       "    .dataframe tbody tr th {\n",
       "        vertical-align: top;\n",
       "    }\n",
       "\n",
       "    .dataframe thead th {\n",
       "        text-align: right;\n",
       "    }\n",
       "</style>\n",
       "<table border=\"1\" class=\"dataframe\">\n",
       "  <thead>\n",
       "    <tr style=\"text-align: right;\">\n",
       "      <th></th>\n",
       "      <th>Price</th>\n",
       "      <th>Open</th>\n",
       "      <th>High</th>\n",
       "      <th>Low</th>\n",
       "      <th>Vol.</th>\n",
       "      <th>Change %</th>\n",
       "      <th>Day</th>\n",
       "      <th>Month</th>\n",
       "      <th>Year</th>\n",
       "    </tr>\n",
       "  </thead>\n",
       "  <tbody>\n",
       "    <tr>\n",
       "      <th>4</th>\n",
       "      <td>NaN</td>\n",
       "      <td>2,927.64</td>\n",
       "      <td>2,984.72</td>\n",
       "      <td>2,858.85</td>\n",
       "      <td>433.29K</td>\n",
       "      <td>-0.36%</td>\n",
       "      <td>12.0</td>\n",
       "      <td>2.0</td>\n",
       "      <td>2022.0</td>\n",
       "    </tr>\n",
       "    <tr>\n",
       "      <th>32</th>\n",
       "      <td>NaN</td>\n",
       "      <td>3,307.84</td>\n",
       "      <td>3,369.95</td>\n",
       "      <td>3,265.41</td>\n",
       "      <td>292.10K</td>\n",
       "      <td>0.60%</td>\n",
       "      <td>15.0</td>\n",
       "      <td>1.0</td>\n",
       "      <td>2022.0</td>\n",
       "    </tr>\n",
       "    <tr>\n",
       "      <th>271</th>\n",
       "      <td>NaN</td>\n",
       "      <td>2,766.88</td>\n",
       "      <td>2,931.66</td>\n",
       "      <td>NaN</td>\n",
       "      <td>4.23M</td>\n",
       "      <td>-12.40%</td>\n",
       "      <td>21.0</td>\n",
       "      <td>5.0</td>\n",
       "      <td>2021.0</td>\n",
       "    </tr>\n",
       "    <tr>\n",
       "      <th>350</th>\n",
       "      <td>NaN</td>\n",
       "      <td>1,488.80</td>\n",
       "      <td>1,653.04</td>\n",
       "      <td>1,477.72</td>\n",
       "      <td>1.17M</td>\n",
       "      <td>5.54%</td>\n",
       "      <td>3.0</td>\n",
       "      <td>3.0</td>\n",
       "      <td>2021.0</td>\n",
       "    </tr>\n",
       "    <tr>\n",
       "      <th>402</th>\n",
       "      <td>NaN</td>\n",
       "      <td>1,275.87</td>\n",
       "      <td>1,347.98</td>\n",
       "      <td>1,180.45</td>\n",
       "      <td>2.65M</td>\n",
       "      <td>-1.53%</td>\n",
       "      <td>10.0</td>\n",
       "      <td>1.0</td>\n",
       "      <td>2021.0</td>\n",
       "    </tr>\n",
       "    <tr>\n",
       "      <th>536</th>\n",
       "      <td>NaN</td>\n",
       "      <td>395.32</td>\n",
       "      <td>405.53</td>\n",
       "      <td>391.97</td>\n",
       "      <td>5.23M</td>\n",
       "      <td>0.93%</td>\n",
       "      <td>29.0</td>\n",
       "      <td>8.0</td>\n",
       "      <td>2020.0</td>\n",
       "    </tr>\n",
       "    <tr>\n",
       "      <th>607</th>\n",
       "      <td>NaN</td>\n",
       "      <td>231.34</td>\n",
       "      <td>231.94</td>\n",
       "      <td>226.97</td>\n",
       "      <td>5.56M</td>\n",
       "      <td>-0.97%</td>\n",
       "      <td>19.0</td>\n",
       "      <td>6.0</td>\n",
       "      <td>2020.0</td>\n",
       "    </tr>\n",
       "    <tr>\n",
       "      <th>710</th>\n",
       "      <td>NaN</td>\n",
       "      <td>237.3</td>\n",
       "      <td>237.3</td>\n",
       "      <td>196.71</td>\n",
       "      <td>24.76M</td>\n",
       "      <td>-16.08%</td>\n",
       "      <td>8.0</td>\n",
       "      <td>3.0</td>\n",
       "      <td>2020.0</td>\n",
       "    </tr>\n",
       "    <tr>\n",
       "      <th>778</th>\n",
       "      <td>NaN</td>\n",
       "      <td>131.87</td>\n",
       "      <td>133.53</td>\n",
       "      <td>128.27</td>\n",
       "      <td>12.89M</td>\n",
       "      <td>-1.99%</td>\n",
       "      <td>31.0</td>\n",
       "      <td>12.0</td>\n",
       "      <td>2019.0</td>\n",
       "    </tr>\n",
       "    <tr>\n",
       "      <th>816</th>\n",
       "      <td>NaN</td>\n",
       "      <td>149.79</td>\n",
       "      <td>154.25</td>\n",
       "      <td>146.6</td>\n",
       "      <td>11.84M</td>\n",
       "      <td>1.77%</td>\n",
       "      <td>23.0</td>\n",
       "      <td>11.0</td>\n",
       "      <td>2019.0</td>\n",
       "    </tr>\n",
       "    <tr>\n",
       "      <th>858</th>\n",
       "      <td>NaN</td>\n",
       "      <td>180.6</td>\n",
       "      <td>184.49</td>\n",
       "      <td>178.78</td>\n",
       "      <td>9.85M</td>\n",
       "      <td>-0.40%</td>\n",
       "      <td>12.0</td>\n",
       "      <td>10.0</td>\n",
       "      <td>2019.0</td>\n",
       "    </tr>\n",
       "    <tr>\n",
       "      <th>918</th>\n",
       "      <td>NaN</td>\n",
       "      <td>210.48</td>\n",
       "      <td>211.01</td>\n",
       "      <td>106.01</td>\n",
       "      <td>18.29M</td>\n",
       "      <td>-1.32%</td>\n",
       "      <td>13.0</td>\n",
       "      <td>8.0</td>\n",
       "      <td>2019.0</td>\n",
       "    </tr>\n",
       "    <tr>\n",
       "      <th>981</th>\n",
       "      <td>NaN</td>\n",
       "      <td>246.85</td>\n",
       "      <td>247.77</td>\n",
       "      <td>237.6</td>\n",
       "      <td>6.92M</td>\n",
       "      <td>-0.99%</td>\n",
       "      <td>11.0</td>\n",
       "      <td>6.0</td>\n",
       "      <td>2019.0</td>\n",
       "    </tr>\n",
       "    <tr>\n",
       "      <th>1048</th>\n",
       "      <td>NaN</td>\n",
       "      <td>157.43</td>\n",
       "      <td>167.34</td>\n",
       "      <td>156.42</td>\n",
       "      <td>10.06M</td>\n",
       "      <td>4.77%</td>\n",
       "      <td>5.0</td>\n",
       "      <td>4.0</td>\n",
       "      <td>2019.0</td>\n",
       "    </tr>\n",
       "    <tr>\n",
       "      <th>1085</th>\n",
       "      <td>NaN</td>\n",
       "      <td>136.66</td>\n",
       "      <td>159.6</td>\n",
       "      <td>128.15</td>\n",
       "      <td>16.11M</td>\n",
       "      <td>-1.08%</td>\n",
       "      <td>27.0</td>\n",
       "      <td>2.0</td>\n",
       "      <td>2019.0</td>\n",
       "    </tr>\n",
       "    <tr>\n",
       "      <th>1118</th>\n",
       "      <td>NaN</td>\n",
       "      <td>116.7</td>\n",
       "      <td>117.41</td>\n",
       "      <td>115.03</td>\n",
       "      <td>4.75M</td>\n",
       "      <td>-1.03%</td>\n",
       "      <td>25.0</td>\n",
       "      <td>1.0</td>\n",
       "      <td>2019.0</td>\n",
       "    </tr>\n",
       "  </tbody>\n",
       "</table>\n",
       "</div>"
      ],
      "text/plain": [
       "     Price      Open      High       Low     Vol. Change %   Day  Month  \\\n",
       "4      NaN  2,927.64  2,984.72  2,858.85  433.29K   -0.36%  12.0    2.0   \n",
       "32     NaN  3,307.84  3,369.95  3,265.41  292.10K    0.60%  15.0    1.0   \n",
       "271    NaN  2,766.88  2,931.66       NaN    4.23M  -12.40%  21.0    5.0   \n",
       "350    NaN  1,488.80  1,653.04  1,477.72    1.17M    5.54%   3.0    3.0   \n",
       "402    NaN  1,275.87  1,347.98  1,180.45    2.65M   -1.53%  10.0    1.0   \n",
       "536    NaN    395.32    405.53    391.97    5.23M    0.93%  29.0    8.0   \n",
       "607    NaN    231.34    231.94    226.97    5.56M   -0.97%  19.0    6.0   \n",
       "710    NaN     237.3     237.3    196.71   24.76M  -16.08%   8.0    3.0   \n",
       "778    NaN    131.87    133.53    128.27   12.89M   -1.99%  31.0   12.0   \n",
       "816    NaN    149.79    154.25     146.6   11.84M    1.77%  23.0   11.0   \n",
       "858    NaN     180.6    184.49    178.78    9.85M   -0.40%  12.0   10.0   \n",
       "918    NaN    210.48    211.01    106.01   18.29M   -1.32%  13.0    8.0   \n",
       "981    NaN    246.85    247.77     237.6    6.92M   -0.99%  11.0    6.0   \n",
       "1048   NaN    157.43    167.34    156.42   10.06M    4.77%   5.0    4.0   \n",
       "1085   NaN    136.66     159.6    128.15   16.11M   -1.08%  27.0    2.0   \n",
       "1118   NaN     116.7    117.41    115.03    4.75M   -1.03%  25.0    1.0   \n",
       "\n",
       "        Year  \n",
       "4     2022.0  \n",
       "32    2022.0  \n",
       "271   2021.0  \n",
       "350   2021.0  \n",
       "402   2021.0  \n",
       "536   2020.0  \n",
       "607   2020.0  \n",
       "710   2020.0  \n",
       "778   2019.0  \n",
       "816   2019.0  \n",
       "858   2019.0  \n",
       "918   2019.0  \n",
       "981   2019.0  \n",
       "1048  2019.0  \n",
       "1085  2019.0  \n",
       "1118  2019.0  "
      ]
     },
     "execution_count": 162,
     "metadata": {},
     "output_type": "execute_result"
    }
   ],
   "source": [
    "missing_rows(dataframe_name=df,column_name=\"Price\")"
   ]
  },
  {
   "cell_type": "code",
   "execution_count": 163,
   "metadata": {},
   "outputs": [],
   "source": [
    "df = df.replace(',','', regex=True)"
   ]
  },
  {
   "cell_type": "code",
   "execution_count": 164,
   "metadata": {},
   "outputs": [],
   "source": [
    "df[\"Price\"] = df[\"Price\"].astype(float).fillna(0.0)"
   ]
  },
  {
   "cell_type": "code",
   "execution_count": 165,
   "metadata": {},
   "outputs": [
    {
     "name": "stderr",
     "output_type": "stream",
     "text": [
      "C:\\Users\\Admin\\AppData\\Local\\Programs\\Python\\Python39\\lib\\site-packages\\seaborn\\distributions.py:2619: FutureWarning: `distplot` is a deprecated function and will be removed in a future version. Please adapt your code to use either `displot` (a figure-level function with similar flexibility) or `histplot` (an axes-level function for histograms).\n",
      "  warnings.warn(msg, FutureWarning)\n"
     ]
    },
    {
     "data": {
      "text/plain": [
       "Text(0.5, 1.0, 'Price Distribution before filling missing values')"
      ]
     },
     "execution_count": 165,
     "metadata": {},
     "output_type": "execute_result"
    },
    {
     "data": {
      "image/png": "[encoded data removed]",
      "text/plain": [
       "<Figure size 432x288 with 1 Axes>"
      ]
     },
     "metadata": {},
     "output_type": "display_data"
    }
   ],
   "source": [
    "sns.distplot(df['Price'], color ='red').set_title(\"Price Distribution before filling missing values\")"
   ]
  },
  {
   "cell_type": "code",
   "execution_count": 166,
   "metadata": {},
   "outputs": [],
   "source": [
    "df_price = df[[\"Price\"]].copy()"
   ]
  },
  {
   "cell_type": "code",
   "execution_count": 167,
   "metadata": {},
   "outputs": [
    {
     "name": "stderr",
     "output_type": "stream",
     "text": [
      "C:\\Users\\Admin\\AppData\\Local\\Programs\\Python\\Python39\\lib\\site-packages\\seaborn\\distributions.py:2619: FutureWarning: `distplot` is a deprecated function and will be removed in a future version. Please adapt your code to use either `displot` (a figure-level function with similar flexibility) or `histplot` (an axes-level function for histograms).\n",
      "  warnings.warn(msg, FutureWarning)\n"
     ]
    },
    {
     "data": {
      "text/plain": [
       "Text(0.5, 1.0, 'Price Distribution after filling missing values with mean')"
      ]
     },
     "execution_count": 167,
     "metadata": {},
     "output_type": "execute_result"
    },
    {
     "data": {
      "image/png": "[encoded data removed]",
      "text/plain": [
       "<Figure size 432x288 with 1 Axes>"
      ]
     },
     "metadata": {},
     "output_type": "display_data"
    }
   ],
   "source": [
    "# Let's apply various methods for filling missing values.\n",
    "# Mean\n",
    "df_price[\"Price_mean\"] = df_price[\"Price\"].replace(0,df_price[\"Price\"].mean())\n",
    "sns.distplot(df_price['Price_mean'], color ='red').set_title(\"Price Distribution after filling missing values with mean\")"
   ]
  },
  {
   "cell_type": "code",
   "execution_count": 168,
   "metadata": {},
   "outputs": [
    {
     "name": "stderr",
     "output_type": "stream",
     "text": [
      "C:\\Users\\Admin\\AppData\\Local\\Programs\\Python\\Python39\\lib\\site-packages\\seaborn\\distributions.py:2619: FutureWarning: `distplot` is a deprecated function and will be removed in a future version. Please adapt your code to use either `displot` (a figure-level function with similar flexibility) or `histplot` (an axes-level function for histograms).\n",
      "  warnings.warn(msg, FutureWarning)\n"
     ]
    },
    {
     "data": {
      "text/plain": [
       "Text(0.5, 1.0, 'Price Distribution after filling missing values with median')"
      ]
     },
     "execution_count": 168,
     "metadata": {},
     "output_type": "execute_result"
    },
    {
     "data": {
      "image/png": "[encoded data removed]",
      "text/plain": [
       "<Figure size 432x288 with 1 Axes>"
      ]
     },
     "metadata": {},
     "output_type": "display_data"
    }
   ],
   "source": [
    "# Median\n",
    "df_price[\"Price_median\"] = df_price[\"Price\"].replace(0,df_price[\"Price\"].median())\n",
    "sns.distplot(df_price['Price_median'], color ='red').set_title(\"Price Distribution after filling missing values with median\")"
   ]
  },
  {
   "cell_type": "code",
   "execution_count": 169,
   "metadata": {},
   "outputs": [
    {
     "name": "stderr",
     "output_type": "stream",
     "text": [
      "C:\\Users\\Admin\\AppData\\Local\\Programs\\Python\\Python39\\lib\\site-packages\\seaborn\\distributions.py:2619: FutureWarning: `distplot` is a deprecated function and will be removed in a future version. Please adapt your code to use either `displot` (a figure-level function with similar flexibility) or `histplot` (an axes-level function for histograms).\n",
      "  warnings.warn(msg, FutureWarning)\n"
     ]
    },
    {
     "data": {
      "text/plain": [
       "Text(0.5, 1.0, 'Price Distribution after filling missing values with mode')"
      ]
     },
     "execution_count": 169,
     "metadata": {},
     "output_type": "execute_result"
    },
    {
     "data": {
      "image/png": "[encoded data removed]",
      "text/plain": [
       "<Figure size 432x288 with 1 Axes>"
      ]
     },
     "metadata": {},
     "output_type": "display_data"
    }
   ],
   "source": [
    "# Mode\n",
    "df_price[\"Price_mode\"] = df_price[\"Price\"].replace(0,df_price[\"Price\"].mode()[0])\n",
    "sns.distplot(df_price['Price_mode'], color ='red').set_title(\"Price Distribution after filling missing values with mode\")"
   ]
  },
  {
   "cell_type": "markdown",
   "metadata": {},
   "source": [
    "As we can clearly see from above graphs that,\n",
    "Graph with missing values and after applying mode method in order to fill missing values seems to\n",
    "be same."
   ]
  },
  {
   "cell_type": "code",
   "execution_count": 170,
   "metadata": {},
   "outputs": [],
   "source": [
    "df[\"Price\"] = df_price[\"Price_mode\"]"
   ]
  },
  {
   "cell_type": "code",
   "execution_count": 171,
   "metadata": {},
   "outputs": [],
   "source": [
    "# Q-Q plot\n",
    "def qq_plot(dataframe_name,column_name):\n",
    "    stats.probplot(df['Price'], dist=\"norm\", plot=pylab)\n",
    "    pylab.show()"
   ]
  },
  {
   "cell_type": "code",
   "execution_count": 172,
   "metadata": {},
   "outputs": [
    {
     "data": {
      "image/png": "[encoded data removed]",
      "text/plain": [
       "<Figure size 432x288 with 1 Axes>"
      ]
     },
     "metadata": {},
     "output_type": "display_data"
    }
   ],
   "source": [
    "qq_plot(\n",
    "    column_name='Price',\n",
    "    dataframe_name=df\n",
    ")"
   ]
  },
  {
   "cell_type": "code",
   "execution_count": 173,
   "metadata": {},
   "outputs": [
    {
     "name": "stderr",
     "output_type": "stream",
     "text": [
      "C:\\Users\\Admin\\AppData\\Local\\Programs\\Python\\Python39\\lib\\site-packages\\seaborn\\distributions.py:2619: FutureWarning: `distplot` is a deprecated function and will be removed in a future version. Please adapt your code to use either `displot` (a figure-level function with similar flexibility) or `histplot` (an axes-level function for histograms).\n",
      "  warnings.warn(msg, FutureWarning)\n"
     ]
    },
    {
     "data": {
      "text/plain": [
       "Text(0.5, 1.0, 'Price Distribution after filling missing values with mode')"
      ]
     },
     "execution_count": 173,
     "metadata": {},
     "output_type": "execute_result"
    },
    {
     "data": {
      "image/png": "[encoded data removed]",
      "text/plain": [
       "<Figure size 432x288 with 1 Axes>"
      ]
     },
     "metadata": {},
     "output_type": "display_data"
    }
   ],
   "source": [
    "\n",
    "# Let's apply log to price\n",
    "df['Price'] = df['Price'].apply(lambda value: np.log(value) if value > 0 else value)\n",
    "sns.distplot(df['Price'], color ='red').set_title(\"Price Distribution after filling missing values with mode\")"
   ]
  },
  {
   "cell_type": "code",
   "execution_count": 174,
   "metadata": {},
   "outputs": [
    {
     "data": {
      "text/html": [
       "<div>\n",
       "<style scoped>\n",
       "    .dataframe tbody tr th:only-of-type {\n",
       "        vertical-align: middle;\n",
       "    }\n",
       "\n",
       "    .dataframe tbody tr th {\n",
       "        vertical-align: top;\n",
       "    }\n",
       "\n",
       "    .dataframe thead th {\n",
       "        text-align: right;\n",
       "    }\n",
       "</style>\n",
       "<table border=\"1\" class=\"dataframe\">\n",
       "  <thead>\n",
       "    <tr style=\"text-align: right;\">\n",
       "      <th></th>\n",
       "      <th>Price</th>\n",
       "      <th>Open</th>\n",
       "      <th>High</th>\n",
       "      <th>Low</th>\n",
       "      <th>Vol.</th>\n",
       "      <th>Change %</th>\n",
       "      <th>Day</th>\n",
       "      <th>Month</th>\n",
       "      <th>Year</th>\n",
       "    </tr>\n",
       "  </thead>\n",
       "  <tbody>\n",
       "    <tr>\n",
       "      <th>0</th>\n",
       "      <td>8.029348</td>\n",
       "      <td>3182.32</td>\n",
       "      <td>3184.15</td>\n",
       "      <td>3045.92</td>\n",
       "      <td>401.88K</td>\n",
       "      <td>-3.54%</td>\n",
       "      <td>16.0</td>\n",
       "      <td>2.0</td>\n",
       "      <td>2022.0</td>\n",
       "    </tr>\n",
       "    <tr>\n",
       "      <th>1</th>\n",
       "      <td>8.065350</td>\n",
       "      <td>2929.29</td>\n",
       "      <td>3193.18</td>\n",
       "      <td>2912.61</td>\n",
       "      <td>540.04K</td>\n",
       "      <td>8.64%</td>\n",
       "      <td>15.0</td>\n",
       "      <td>2.0</td>\n",
       "      <td>2022.0</td>\n",
       "    </tr>\n",
       "    <tr>\n",
       "      <th>2</th>\n",
       "      <td>7.982522</td>\n",
       "      <td>2871.06</td>\n",
       "      <td>NaN</td>\n",
       "      <td>2834.13</td>\n",
       "      <td>477.24K</td>\n",
       "      <td>2.06%</td>\n",
       "      <td>14.0</td>\n",
       "      <td>2.0</td>\n",
       "      <td>2022.0</td>\n",
       "    </tr>\n",
       "    <tr>\n",
       "      <th>3</th>\n",
       "      <td>7.962154</td>\n",
       "      <td>2917.16</td>\n",
       "      <td>2952.94</td>\n",
       "      <td>2838.29</td>\n",
       "      <td>303.12K</td>\n",
       "      <td>-1.61%</td>\n",
       "      <td>13.0</td>\n",
       "      <td>2.0</td>\n",
       "      <td>2022.0</td>\n",
       "    </tr>\n",
       "    <tr>\n",
       "      <th>4</th>\n",
       "      <td>0.000000</td>\n",
       "      <td>2927.64</td>\n",
       "      <td>2984.72</td>\n",
       "      <td>2858.85</td>\n",
       "      <td>433.29K</td>\n",
       "      <td>-0.36%</td>\n",
       "      <td>12.0</td>\n",
       "      <td>2.0</td>\n",
       "      <td>2022.0</td>\n",
       "    </tr>\n",
       "  </tbody>\n",
       "</table>\n",
       "</div>"
      ],
      "text/plain": [
       "      Price     Open     High      Low     Vol. Change %   Day  Month    Year\n",
       "0  8.029348  3182.32  3184.15  3045.92  401.88K   -3.54%  16.0    2.0  2022.0\n",
       "1  8.065350  2929.29  3193.18  2912.61  540.04K    8.64%  15.0    2.0  2022.0\n",
       "2  7.982522  2871.06      NaN  2834.13  477.24K    2.06%  14.0    2.0  2022.0\n",
       "3  7.962154  2917.16  2952.94  2838.29  303.12K   -1.61%  13.0    2.0  2022.0\n",
       "4  0.000000  2927.64  2984.72  2858.85  433.29K   -0.36%  12.0    2.0  2022.0"
      ]
     },
     "execution_count": 174,
     "metadata": {},
     "output_type": "execute_result"
    }
   ],
   "source": [
    "df.head()"
   ]
  },
  {
   "cell_type": "markdown",
   "metadata": {},
   "source": [
    "Let's plot qq-plot to detect to see whether our data set follow normal distribution."
   ]
  },
  {
   "cell_type": "markdown",
   "metadata": {},
   "source": [
    "## What is qq plot:-\n",
    "Quantile-Quantile plot use to show how many percentage of data is below the specific point in the dataset and normally distributed graph.\n",
    "\n",
    "Q-Q plots are used to find the type of distribution for a random variable whether it be a Gaussian Distribution, Uniform Distribution, Exponential Distribution or even Pareto Distribution, etc. You can tell the type of distribution using the power of the Q-Q plot just by looking at the plot.\n",
    "\n",
    "x-axis = Indicate (normal-quantiles) means quantile of normally distributed graph from specific data point.\n",
    "\n",
    "y-axis = Indicate quantile in dataset from specific data point.\n",
    "\n",
    "Ex:-\n",
    "How to calculate quntile for y axis,\n",
    "\n",
    "1 3 5 6 9 11 12 13 19 21 22 32 35 36 45 44 55 68 79 80 81 88 90 91 92 100 112 113 114 120 121 132 145 146 149 150 155 180 189 190\n",
    "\n",
    "Step 1): Order the data from smallest to largest. The data in the question is already in ascending order.\n",
    "\n",
    "Step 2): Count how many observations you have in your data set. this particular data set has 40 items.\n",
    "\n",
    "Step 3): Convert any percentage to a decimal for “q”. We are looking for the number where 20 percent of the values fall below it, so convert that to .2.\n",
    "\n",
    "Step 4): Insert your values into the formula:\n",
    "ith observation = q (n + 1)\n",
    "ith observation = .2 (40 + 1) = 8.2\n",
    "\n",
    "Answer): The ith observation is at 8.2, so we round down to 8 (remembering that this formula is an estimate). The 8th number in the set is 13, which is the number where 20 percent of the values fall below it.\n",
    "\n"
   ]
  },
  {
   "cell_type": "code",
   "execution_count": 175,
   "metadata": {},
   "outputs": [
    {
     "data": {
      "image/png": "[encoded data removed]",
      "text/plain": [
       "<Figure size 432x288 with 1 Axes>"
      ]
     },
     "metadata": {},
     "output_type": "display_data"
    }
   ],
   "source": [
    "qq_plot(\n",
    "    column_name='Price',\n",
    "    dataframe_name=df\n",
    ")"
   ]
  },
  {
   "cell_type": "code",
   "execution_count": 176,
   "metadata": {},
   "outputs": [],
   "source": [
    "def outlier_box_plot(df_name,column_name):\n",
    "    plt.figure(figsize = (4,8))\n",
    "    sns.boxplot(y = df_name[column_name])"
   ]
  },
  {
   "cell_type": "code",
   "execution_count": 177,
   "metadata": {},
   "outputs": [
    {
     "data": {
      "image/png": "[encoded data removed]",
      "text/plain": [
       "<Figure size 288x576 with 1 Axes>"
      ]
     },
     "metadata": {},
     "output_type": "display_data"
    }
   ],
   "source": [
    "outlier_box_plot(\n",
    "    column_name='Price',\n",
    "    df_name=df\n",
    ")"
   ]
  },
  {
   "cell_type": "markdown",
   "metadata": {},
   "source": [
    "By above graph we can clearly see that, there are outliers are present inside dataset."
   ]
  },
  {
   "cell_type": "code",
   "execution_count": 178,
   "metadata": {},
   "outputs": [],
   "source": [
    "def outlier_detection_iqr(df , column):\n",
    "    global lower,upper\n",
    "    q25, q75 = np.quantile(df[column], 0.25), np.quantile(df[column], 0.75)\n",
    "    # calculate the IQR\n",
    "    iqr = q75 - q25\n",
    "    # calculate the outlier cutoff\n",
    "    cut_off = iqr * 1.5\n",
    "    # calculate the lower and upper bound value\n",
    "    lower, upper = q25 - cut_off, q75 + cut_off\n",
    "    print('The IQR is',iqr)\n",
    "    print('The lower bound value is', lower)\n",
    "    print('The upper bound value is', upper)\n",
    "    # Calculate the number of records below and above lower and above bound value respectively\n",
    "    df1 = df[df[column] > upper]\n",
    "    df2 = df[df[column] < lower]\n",
    "    return print('Total number of outliers are', df1.shape[0]+ df2.shape[0])"
   ]
  },
  {
   "cell_type": "code",
   "execution_count": 179,
   "metadata": {},
   "outputs": [
    {
     "name": "stdout",
     "output_type": "stream",
     "text": [
      "The IQR is 2.4698530350921652\n",
      "The lower bound value is 1.4921415873437085\n",
      "The upper bound value is 11.371553727712369\n",
      "Total number of outliers are 16\n"
     ]
    }
   ],
   "source": [
    "outlier_detection_iqr(df,'Price')"
   ]
  },
  {
   "cell_type": "code",
   "execution_count": 180,
   "metadata": {},
   "outputs": [],
   "source": [
    "def outlier_distribution_graph(df_name, col_name):\n",
    "    plt.figure(figsize = (10,6))\n",
    "    sns.distplot(df_name[col_name], kde=False)\n",
    "    plt.axvspan(xmin = lower,xmax= df_name[col_name].min(),alpha=0.2, color='red')\n",
    "    plt.axvspan(xmin = upper,xmax= df_name[col_name].max(),alpha=0.2, color='red')"
   ]
  },
  {
   "cell_type": "code",
   "execution_count": 181,
   "metadata": {},
   "outputs": [
    {
     "name": "stderr",
     "output_type": "stream",
     "text": [
      "C:\\Users\\Admin\\AppData\\Local\\Programs\\Python\\Python39\\lib\\site-packages\\seaborn\\distributions.py:2619: FutureWarning: `distplot` is a deprecated function and will be removed in a future version. Please adapt your code to use either `displot` (a figure-level function with similar flexibility) or `histplot` (an axes-level function for histograms).\n",
      "  warnings.warn(msg, FutureWarning)\n"
     ]
    },
    {
     "data": {
      "image/png": "[encoded data removed]",
      "text/plain": [
       "<Figure size 720x432 with 1 Axes>"
      ]
     },
     "metadata": {},
     "output_type": "display_data"
    }
   ],
   "source": [
    "outlier_distribution_graph(\n",
    "    col_name='Price',\n",
    "    df_name=df\n",
    ")"
   ]
  },
  {
   "cell_type": "code",
   "execution_count": 182,
   "metadata": {},
   "outputs": [],
   "source": [
    "#Data Frame without outliers\n",
    "def remove_rows_having_outlier(df_name,column_name,upper_limit,lower_limit):\n",
    "    return df_name[(df_name[column_name] < upper_limit) & (df_name[column_name] > lower_limit)]"
   ]
  },
  {
   "cell_type": "code",
   "execution_count": 183,
   "metadata": {},
   "outputs": [],
   "source": [
    "df = remove_rows_having_outlier(\n",
    "    column_name='Price',\n",
    "    df_name=df,\n",
    "    lower_limit=lower,\n",
    "    upper_limit=upper,\n",
    ")"
   ]
  },
  {
   "cell_type": "code",
   "execution_count": 184,
   "metadata": {},
   "outputs": [
    {
     "data": {
      "image/png": "[encoded data removed]",
      "text/plain": [
       "<Figure size 288x576 with 1 Axes>"
      ]
     },
     "metadata": {},
     "output_type": "display_data"
    }
   ],
   "source": [
    "# Below box plot shows that there won't be any outlier exist more. \n",
    "outlier_box_plot(\n",
    "    column_name='Price',\n",
    "    df_name=df\n",
    ")"
   ]
  },
  {
   "cell_type": "code",
   "execution_count": 185,
   "metadata": {},
   "outputs": [
    {
     "data": {
      "image/png": "[encoded data removed]",
      "text/plain": [
       "<Figure size 432x288 with 1 Axes>"
      ]
     },
     "metadata": {},
     "output_type": "display_data"
    }
   ],
   "source": [
    "qq_plot(\n",
    "    column_name='Price',\n",
    "    dataframe_name=df\n",
    ")"
   ]
  },
  {
   "cell_type": "markdown",
   "metadata": {},
   "source": [
    "#### 2) Open"
   ]
  },
  {
   "cell_type": "code",
   "execution_count": 186,
   "metadata": {},
   "outputs": [
    {
     "data": {
      "text/plain": [
       "Index(['Price', 'Open', 'High', 'Low', 'Vol.', 'Change %', 'Day', 'Month',\n",
       "       'Year'],\n",
       "      dtype='object')"
      ]
     },
     "execution_count": 186,
     "metadata": {},
     "output_type": "execute_result"
    }
   ],
   "source": [
    "df.columns"
   ]
  },
  {
   "cell_type": "code",
   "execution_count": 187,
   "metadata": {},
   "outputs": [
    {
     "data": {
      "text/html": [
       "<div>\n",
       "<style scoped>\n",
       "    .dataframe tbody tr th:only-of-type {\n",
       "        vertical-align: middle;\n",
       "    }\n",
       "\n",
       "    .dataframe tbody tr th {\n",
       "        vertical-align: top;\n",
       "    }\n",
       "\n",
       "    .dataframe thead th {\n",
       "        text-align: right;\n",
       "    }\n",
       "</style>\n",
       "<table border=\"1\" class=\"dataframe\">\n",
       "  <thead>\n",
       "    <tr style=\"text-align: right;\">\n",
       "      <th></th>\n",
       "      <th>Price</th>\n",
       "      <th>Open</th>\n",
       "      <th>High</th>\n",
       "      <th>Low</th>\n",
       "      <th>Vol.</th>\n",
       "      <th>Change %</th>\n",
       "      <th>Day</th>\n",
       "      <th>Month</th>\n",
       "      <th>Year</th>\n",
       "    </tr>\n",
       "  </thead>\n",
       "  <tbody>\n",
       "    <tr>\n",
       "      <th>23</th>\n",
       "      <td>7.800167</td>\n",
       "      <td>NaN</td>\n",
       "      <td>2540.81</td>\n",
       "      <td>2161.55</td>\n",
       "      <td>1.56M</td>\n",
       "      <td>-3.93%</td>\n",
       "      <td>24.0</td>\n",
       "      <td>1.0</td>\n",
       "      <td>2022.0</td>\n",
       "    </tr>\n",
       "    <tr>\n",
       "      <th>73</th>\n",
       "      <td>8.341601</td>\n",
       "      <td>NaN</td>\n",
       "      <td>4247.38</td>\n",
       "      <td>4036.00</td>\n",
       "      <td>707.69K</td>\n",
       "      <td>1.73%</td>\n",
       "      <td>5.0</td>\n",
       "      <td>12.0</td>\n",
       "      <td>2021.0</td>\n",
       "    </tr>\n",
       "    <tr>\n",
       "      <th>129</th>\n",
       "      <td>8.135942</td>\n",
       "      <td>NaN</td>\n",
       "      <td>3599.18</td>\n",
       "      <td>3409.22</td>\n",
       "      <td>767.49K</td>\n",
       "      <td>-4.45%</td>\n",
       "      <td>10.0</td>\n",
       "      <td>10.0</td>\n",
       "      <td>2021.0</td>\n",
       "    </tr>\n",
       "    <tr>\n",
       "      <th>214</th>\n",
       "      <td>7.548545</td>\n",
       "      <td>NaN</td>\n",
       "      <td>1917.80</td>\n",
       "      <td>1851.97</td>\n",
       "      <td>623.52K</td>\n",
       "      <td>1.05%</td>\n",
       "      <td>17.0</td>\n",
       "      <td>7.0</td>\n",
       "      <td>2021.0</td>\n",
       "    </tr>\n",
       "    <tr>\n",
       "      <th>331</th>\n",
       "      <td>7.427959</td>\n",
       "      <td>NaN</td>\n",
       "      <td>1806.62</td>\n",
       "      <td>1659.28</td>\n",
       "      <td>1.58M</td>\n",
       "      <td>-5.68%</td>\n",
       "      <td>22.0</td>\n",
       "      <td>3.0</td>\n",
       "      <td>2021.0</td>\n",
       "    </tr>\n",
       "    <tr>\n",
       "      <th>380</th>\n",
       "      <td>7.225045</td>\n",
       "      <td>NaN</td>\n",
       "      <td>1376.44</td>\n",
       "      <td>1272.09</td>\n",
       "      <td>1.65M</td>\n",
       "      <td>4.62%</td>\n",
       "      <td>1.0</td>\n",
       "      <td>2.0</td>\n",
       "      <td>2021.0</td>\n",
       "    </tr>\n",
       "    <tr>\n",
       "      <th>460</th>\n",
       "      <td>6.166027</td>\n",
       "      <td>NaN</td>\n",
       "      <td>477.78</td>\n",
       "      <td>457.65</td>\n",
       "      <td>9.85M</td>\n",
       "      <td>2.97%</td>\n",
       "      <td>13.0</td>\n",
       "      <td>11.0</td>\n",
       "      <td>2020.0</td>\n",
       "    </tr>\n",
       "    <tr>\n",
       "      <th>540</th>\n",
       "      <td>5.948557</td>\n",
       "      <td>NaN</td>\n",
       "      <td>409.02</td>\n",
       "      <td>370.4</td>\n",
       "      <td>8.28M</td>\n",
       "      <td>-6.01%</td>\n",
       "      <td>25.0</td>\n",
       "      <td>8.0</td>\n",
       "      <td>2020.0</td>\n",
       "    </tr>\n",
       "    <tr>\n",
       "      <th>610</th>\n",
       "      <td>5.461116</td>\n",
       "      <td>NaN</td>\n",
       "      <td>235.95</td>\n",
       "      <td>228.99</td>\n",
       "      <td>7.03M</td>\n",
       "      <td>1.92%</td>\n",
       "      <td>16.0</td>\n",
       "      <td>6.0</td>\n",
       "      <td>2020.0</td>\n",
       "    </tr>\n",
       "    <tr>\n",
       "      <th>673</th>\n",
       "      <td>5.065439</td>\n",
       "      <td>NaN</td>\n",
       "      <td>161.57</td>\n",
       "      <td>155.52</td>\n",
       "      <td>21.20M</td>\n",
       "      <td>1.33%</td>\n",
       "      <td>14.0</td>\n",
       "      <td>4.0</td>\n",
       "      <td>2020.0</td>\n",
       "    </tr>\n",
       "    <tr>\n",
       "      <th>734</th>\n",
       "      <td>5.593782</td>\n",
       "      <td>NaN</td>\n",
       "      <td>277.39</td>\n",
       "      <td>257.09</td>\n",
       "      <td>25.05M</td>\n",
       "      <td>1.19%</td>\n",
       "      <td>13.0</td>\n",
       "      <td>2.0</td>\n",
       "      <td>2020.0</td>\n",
       "    </tr>\n",
       "    <tr>\n",
       "      <th>796</th>\n",
       "      <td>4.976458</td>\n",
       "      <td>NaN</td>\n",
       "      <td>145.43</td>\n",
       "      <td>143.51</td>\n",
       "      <td>10.95M</td>\n",
       "      <td>-0.05%</td>\n",
       "      <td>13.0</td>\n",
       "      <td>12.0</td>\n",
       "      <td>2019.0</td>\n",
       "    </tr>\n",
       "    <tr>\n",
       "      <th>1072</th>\n",
       "      <td>4.896346</td>\n",
       "      <td>NaN</td>\n",
       "      <td>134.93</td>\n",
       "      <td>129.14</td>\n",
       "      <td>13.03M</td>\n",
       "      <td>0.61%</td>\n",
       "      <td>12.0</td>\n",
       "      <td>3.0</td>\n",
       "      <td>2019.0</td>\n",
       "    </tr>\n",
       "    <tr>\n",
       "      <th>1110</th>\n",
       "      <td>4.706643</td>\n",
       "      <td>NaN</td>\n",
       "      <td>111.16</td>\n",
       "      <td>106.29</td>\n",
       "      <td>4.23M</td>\n",
       "      <td>3.46%</td>\n",
       "      <td>2.0</td>\n",
       "      <td>2.0</td>\n",
       "      <td>2019.0</td>\n",
       "    </tr>\n",
       "  </tbody>\n",
       "</table>\n",
       "</div>"
      ],
      "text/plain": [
       "         Price Open     High      Low     Vol. Change %   Day  Month    Year\n",
       "23    7.800167  NaN  2540.81  2161.55    1.56M   -3.93%  24.0    1.0  2022.0\n",
       "73    8.341601  NaN  4247.38  4036.00  707.69K    1.73%   5.0   12.0  2021.0\n",
       "129   8.135942  NaN  3599.18  3409.22  767.49K   -4.45%  10.0   10.0  2021.0\n",
       "214   7.548545  NaN  1917.80  1851.97  623.52K    1.05%  17.0    7.0  2021.0\n",
       "331   7.427959  NaN  1806.62  1659.28    1.58M   -5.68%  22.0    3.0  2021.0\n",
       "380   7.225045  NaN  1376.44  1272.09    1.65M    4.62%   1.0    2.0  2021.0\n",
       "460   6.166027  NaN   477.78   457.65    9.85M    2.97%  13.0   11.0  2020.0\n",
       "540   5.948557  NaN   409.02    370.4    8.28M   -6.01%  25.0    8.0  2020.0\n",
       "610   5.461116  NaN   235.95   228.99    7.03M    1.92%  16.0    6.0  2020.0\n",
       "673   5.065439  NaN   161.57   155.52   21.20M    1.33%  14.0    4.0  2020.0\n",
       "734   5.593782  NaN   277.39   257.09   25.05M    1.19%  13.0    2.0  2020.0\n",
       "796   4.976458  NaN   145.43   143.51   10.95M   -0.05%  13.0   12.0  2019.0\n",
       "1072  4.896346  NaN   134.93   129.14   13.03M    0.61%  12.0    3.0  2019.0\n",
       "1110  4.706643  NaN   111.16   106.29    4.23M    3.46%   2.0    2.0  2019.0"
      ]
     },
     "execution_count": 187,
     "metadata": {},
     "output_type": "execute_result"
    }
   ],
   "source": [
    "missing_rows(\n",
    "    column_name=\"Open\",\n",
    "    dataframe_name=df\n",
    ")"
   ]
  },
  {
   "cell_type": "code",
   "execution_count": 188,
   "metadata": {},
   "outputs": [],
   "source": [
    "df[\"Open\"] = df[\"Open\"].astype(float).fillna(0.0)"
   ]
  },
  {
   "cell_type": "code",
   "execution_count": 189,
   "metadata": {},
   "outputs": [
    {
     "name": "stderr",
     "output_type": "stream",
     "text": [
      "C:\\Users\\Admin\\AppData\\Local\\Programs\\Python\\Python39\\lib\\site-packages\\seaborn\\distributions.py:2619: FutureWarning: `distplot` is a deprecated function and will be removed in a future version. Please adapt your code to use either `displot` (a figure-level function with similar flexibility) or `histplot` (an axes-level function for histograms).\n",
      "  warnings.warn(msg, FutureWarning)\n"
     ]
    },
    {
     "data": {
      "text/plain": [
       "Text(0.5, 1.0, 'Open Distribution before filling missing values')"
      ]
     },
     "execution_count": 189,
     "metadata": {},
     "output_type": "execute_result"
    },
    {
     "data": {
      "image/png": "[encoded data removed]",
      "text/plain": [
       "<Figure size 432x288 with 1 Axes>"
      ]
     },
     "metadata": {},
     "output_type": "display_data"
    }
   ],
   "source": [
    "sns.distplot(df['Open'], color ='blue').set_title(\"Open Distribution before filling missing values\")"
   ]
  },
  {
   "cell_type": "code",
   "execution_count": 190,
   "metadata": {},
   "outputs": [],
   "source": [
    "df_open = df[[\"Open\"]].copy()"
   ]
  },
  {
   "cell_type": "code",
   "execution_count": 191,
   "metadata": {},
   "outputs": [
    {
     "name": "stderr",
     "output_type": "stream",
     "text": [
      "C:\\Users\\Admin\\AppData\\Local\\Programs\\Python\\Python39\\lib\\site-packages\\seaborn\\distributions.py:2619: FutureWarning: `distplot` is a deprecated function and will be removed in a future version. Please adapt your code to use either `displot` (a figure-level function with similar flexibility) or `histplot` (an axes-level function for histograms).\n",
      "  warnings.warn(msg, FutureWarning)\n"
     ]
    },
    {
     "data": {
      "text/plain": [
       "Text(0.5, 1.0, 'Open Distribution after filling missing values with mean')"
      ]
     },
     "execution_count": 191,
     "metadata": {},
     "output_type": "execute_result"
    },
    {
     "data": {
      "image/png": "[encoded data removed]",
      "text/plain": [
       "<Figure size 432x288 with 1 Axes>"
      ]
     },
     "metadata": {},
     "output_type": "display_data"
    }
   ],
   "source": [
    "# Let's apply various methods for filling missing values.\n",
    "# Mean\n",
    "df_open[\"Open_mean\"] = df_open[\"Open\"].replace(0,df_open[\"Open\"].mean())\n",
    "sns.distplot(df_open['Open_mean'], color ='blue').set_title(\"Open Distribution after filling missing values with mean\")"
   ]
  },
  {
   "cell_type": "code",
   "execution_count": 192,
   "metadata": {},
   "outputs": [
    {
     "name": "stderr",
     "output_type": "stream",
     "text": [
      "C:\\Users\\Admin\\AppData\\Local\\Programs\\Python\\Python39\\lib\\site-packages\\seaborn\\distributions.py:2619: FutureWarning: `distplot` is a deprecated function and will be removed in a future version. Please adapt your code to use either `displot` (a figure-level function with similar flexibility) or `histplot` (an axes-level function for histograms).\n",
      "  warnings.warn(msg, FutureWarning)\n"
     ]
    },
    {
     "data": {
      "text/plain": [
       "Text(0.5, 1.0, 'Open Distribution after filling missing values with median')"
      ]
     },
     "execution_count": 192,
     "metadata": {},
     "output_type": "execute_result"
    },
    {
     "data": {
      "image/png": "[encoded data removed]",
      "text/plain": [
       "<Figure size 432x288 with 1 Axes>"
      ]
     },
     "metadata": {},
     "output_type": "display_data"
    }
   ],
   "source": [
    "# Median\n",
    "df_open[\"Open_median\"] = df_open[\"Open\"].replace(0,df_open[\"Open\"].median())\n",
    "sns.distplot(df_open['Open_median'], color ='blue').set_title(\"Open Distribution after filling missing values with median\")"
   ]
  },
  {
   "cell_type": "code",
   "execution_count": 193,
   "metadata": {},
   "outputs": [
    {
     "name": "stderr",
     "output_type": "stream",
     "text": [
      "C:\\Users\\Admin\\AppData\\Local\\Programs\\Python\\Python39\\lib\\site-packages\\seaborn\\distributions.py:2619: FutureWarning: `distplot` is a deprecated function and will be removed in a future version. Please adapt your code to use either `displot` (a figure-level function with similar flexibility) or `histplot` (an axes-level function for histograms).\n",
      "  warnings.warn(msg, FutureWarning)\n"
     ]
    },
    {
     "data": {
      "text/plain": [
       "Text(0.5, 1.0, 'Open Distribution after filling missing values with mode')"
      ]
     },
     "execution_count": 193,
     "metadata": {},
     "output_type": "execute_result"
    },
    {
     "data": {
      "image/png": "[encoded data removed]",
      "text/plain": [
       "<Figure size 432x288 with 1 Axes>"
      ]
     },
     "metadata": {},
     "output_type": "display_data"
    }
   ],
   "source": [
    "# Mode\n",
    "df_open[\"Open_mode\"] = df_open[\"Open\"].replace(0,df_open[\"Open\"].mode()[0])\n",
    "sns.distplot(df_open['Open_mode'], color ='blue').set_title(\"Open Distribution after filling missing values with mode\")"
   ]
  },
  {
   "cell_type": "markdown",
   "metadata": {},
   "source": [
    "As we can clearly see from above graphs that,\n",
    "Graph with missing values and after applying mode method in order to fill missing values seems to\n",
    "be same."
   ]
  },
  {
   "cell_type": "code",
   "execution_count": 194,
   "metadata": {},
   "outputs": [],
   "source": [
    "df[\"Open\"] = df_open[\"Open_mode\"]"
   ]
  },
  {
   "cell_type": "code",
   "execution_count": 195,
   "metadata": {},
   "outputs": [],
   "source": [
    "\n",
    "# Let's apply log to Open\n",
    "df['Open'] = df['Open'].apply(lambda value: np.log(value )if value > 0 else value)"
   ]
  },
  {
   "cell_type": "code",
   "execution_count": 196,
   "metadata": {},
   "outputs": [
    {
     "data": {
      "image/png": "[encoded data removed]",
      "text/plain": [
       "<Figure size 432x288 with 1 Axes>"
      ]
     },
     "metadata": {},
     "output_type": "display_data"
    }
   ],
   "source": [
    "qq_plot(\n",
    "    column_name='Open',\n",
    "    dataframe_name=df\n",
    ")"
   ]
  },
  {
   "cell_type": "markdown",
   "metadata": {},
   "source": [
    "Let's remove outlier from this column"
   ]
  },
  {
   "cell_type": "code",
   "execution_count": 197,
   "metadata": {},
   "outputs": [
    {
     "data": {
      "image/png": "[encoded data removed]",
      "text/plain": [
       "<Figure size 288x576 with 1 Axes>"
      ]
     },
     "metadata": {},
     "output_type": "display_data"
    }
   ],
   "source": [
    "outlier_box_plot(\n",
    "    column_name='Open',\n",
    "    df_name=df\n",
    ")"
   ]
  },
  {
   "cell_type": "code",
   "execution_count": 198,
   "metadata": {},
   "outputs": [
    {
     "name": "stdout",
     "output_type": "stream",
     "text": [
      "The IQR is 2.4693200895512444\n",
      "The lower bound value is 1.4934389034947495\n",
      "The upper bound value is 11.370719261699726\n",
      "Total number of outliers are 14\n"
     ]
    }
   ],
   "source": [
    "outlier_detection_iqr(\n",
    "    df=df,\n",
    "    column='Open'\n",
    ")"
   ]
  },
  {
   "cell_type": "code",
   "execution_count": 199,
   "metadata": {},
   "outputs": [],
   "source": [
    "df = remove_rows_having_outlier(\n",
    "    column_name='Open',\n",
    "    df_name=df,\n",
    "    lower_limit=lower,\n",
    "    upper_limit=upper,\n",
    ")"
   ]
  },
  {
   "cell_type": "code",
   "execution_count": 200,
   "metadata": {},
   "outputs": [
    {
     "data": {
      "image/png": "[encoded data removed]",
      "text/plain": [
       "<Figure size 288x576 with 1 Axes>"
      ]
     },
     "metadata": {},
     "output_type": "display_data"
    }
   ],
   "source": [
    "outlier_box_plot(\n",
    "    column_name='Open',\n",
    "    df_name=df\n",
    ")"
   ]
  },
  {
   "cell_type": "code",
   "execution_count": 201,
   "metadata": {},
   "outputs": [
    {
     "data": {
      "image/png": "[encoded data removed]",
      "text/plain": [
       "<Figure size 432x288 with 1 Axes>"
      ]
     },
     "metadata": {},
     "output_type": "display_data"
    }
   ],
   "source": [
    "qq_plot(\n",
    "    column_name='Open',\n",
    "    dataframe_name=df\n",
    ")"
   ]
  },
  {
   "cell_type": "markdown",
   "metadata": {},
   "source": [
    "#### 3,4) High, Low"
   ]
  },
  {
   "cell_type": "code",
   "execution_count": 202,
   "metadata": {},
   "outputs": [
    {
     "data": {
      "text/plain": [
       "Index(['Price', 'Open', 'High', 'Low', 'Vol.', 'Change %', 'Day', 'Month',\n",
       "       'Year'],\n",
       "      dtype='object')"
      ]
     },
     "execution_count": 202,
     "metadata": {},
     "output_type": "execute_result"
    }
   ],
   "source": [
    "df.columns"
   ]
  },
  {
   "cell_type": "code",
   "execution_count": 203,
   "metadata": {},
   "outputs": [
    {
     "data": {
      "text/html": [
       "<div>\n",
       "<style scoped>\n",
       "    .dataframe tbody tr th:only-of-type {\n",
       "        vertical-align: middle;\n",
       "    }\n",
       "\n",
       "    .dataframe tbody tr th {\n",
       "        vertical-align: top;\n",
       "    }\n",
       "\n",
       "    .dataframe thead th {\n",
       "        text-align: right;\n",
       "    }\n",
       "</style>\n",
       "<table border=\"1\" class=\"dataframe\">\n",
       "  <thead>\n",
       "    <tr style=\"text-align: right;\">\n",
       "      <th></th>\n",
       "      <th>Price</th>\n",
       "      <th>Open</th>\n",
       "      <th>High</th>\n",
       "      <th>Low</th>\n",
       "      <th>Vol.</th>\n",
       "      <th>Change %</th>\n",
       "      <th>Day</th>\n",
       "      <th>Month</th>\n",
       "      <th>Year</th>\n",
       "    </tr>\n",
       "  </thead>\n",
       "  <tbody>\n",
       "    <tr>\n",
       "      <th>2</th>\n",
       "      <td>7.982522</td>\n",
       "      <td>7.962437</td>\n",
       "      <td>NaN</td>\n",
       "      <td>2834.13</td>\n",
       "      <td>477.24K</td>\n",
       "      <td>2.06%</td>\n",
       "      <td>14.0</td>\n",
       "      <td>2.0</td>\n",
       "      <td>2022.0</td>\n",
       "    </tr>\n",
       "    <tr>\n",
       "      <th>83</th>\n",
       "      <td>8.416334</td>\n",
       "      <td>8.359540</td>\n",
       "      <td>NaN</td>\n",
       "      <td>4248.90</td>\n",
       "      <td>578.65K</td>\n",
       "      <td>5.77%</td>\n",
       "      <td>25.0</td>\n",
       "      <td>11.0</td>\n",
       "      <td>2021.0</td>\n",
       "    </tr>\n",
       "    <tr>\n",
       "      <th>204</th>\n",
       "      <td>7.740760</td>\n",
       "      <td>7.709864</td>\n",
       "      <td>NaN</td>\n",
       "      <td>2152.92</td>\n",
       "      <td>1.25M</td>\n",
       "      <td>3.17%</td>\n",
       "      <td>27.0</td>\n",
       "      <td>7.0</td>\n",
       "      <td>2021.0</td>\n",
       "    </tr>\n",
       "    <tr>\n",
       "      <th>260</th>\n",
       "      <td>7.876134</td>\n",
       "      <td>7.903943</td>\n",
       "      <td>NaN</td>\n",
       "      <td>2529.73</td>\n",
       "      <td>2.45M</td>\n",
       "      <td>-2.76%</td>\n",
       "      <td>1.0</td>\n",
       "      <td>6.0</td>\n",
       "      <td>2021.0</td>\n",
       "    </tr>\n",
       "    <tr>\n",
       "      <th>680</th>\n",
       "      <td>5.104186</td>\n",
       "      <td>5.142073</td>\n",
       "      <td>NaN</td>\n",
       "      <td>162.75</td>\n",
       "      <td>35.79M</td>\n",
       "      <td>-3.71%</td>\n",
       "      <td>7.0</td>\n",
       "      <td>4.0</td>\n",
       "      <td>2020.0</td>\n",
       "    </tr>\n",
       "    <tr>\n",
       "      <th>762</th>\n",
       "      <td>5.102059</td>\n",
       "      <td>5.114635</td>\n",
       "      <td>NaN</td>\n",
       "      <td>159.08</td>\n",
       "      <td>16.24M</td>\n",
       "      <td>-1.26%</td>\n",
       "      <td>16.0</td>\n",
       "      <td>1.0</td>\n",
       "      <td>2020.0</td>\n",
       "    </tr>\n",
       "    <tr>\n",
       "      <th>923</th>\n",
       "      <td>5.394355</td>\n",
       "      <td>5.414677</td>\n",
       "      <td>NaN</td>\n",
       "      <td>215.57</td>\n",
       "      <td>7.54M</td>\n",
       "      <td>-2.00%</td>\n",
       "      <td>8.0</td>\n",
       "      <td>8.0</td>\n",
       "      <td>2019.0</td>\n",
       "    </tr>\n",
       "    <tr>\n",
       "      <th>1056</th>\n",
       "      <td>4.928340</td>\n",
       "      <td>4.938996</td>\n",
       "      <td>NaN</td>\n",
       "      <td>137.68</td>\n",
       "      <td>9.52M</td>\n",
       "      <td>-1.08%</td>\n",
       "      <td>28.0</td>\n",
       "      <td>3.0</td>\n",
       "      <td>2019.0</td>\n",
       "    </tr>\n",
       "    <tr>\n",
       "      <th>1126</th>\n",
       "      <td>4.804267</td>\n",
       "      <td>4.801641</td>\n",
       "      <td>NaN</td>\n",
       "      <td>117.51</td>\n",
       "      <td>3.61M</td>\n",
       "      <td>0.25%</td>\n",
       "      <td>17.0</td>\n",
       "      <td>1.0</td>\n",
       "      <td>2019.0</td>\n",
       "    </tr>\n",
       "  </tbody>\n",
       "</table>\n",
       "</div>"
      ],
      "text/plain": [
       "         Price      Open High      Low     Vol. Change %   Day  Month    Year\n",
       "2     7.982522  7.962437  NaN  2834.13  477.24K    2.06%  14.0    2.0  2022.0\n",
       "83    8.416334  8.359540  NaN  4248.90  578.65K    5.77%  25.0   11.0  2021.0\n",
       "204   7.740760  7.709864  NaN  2152.92    1.25M    3.17%  27.0    7.0  2021.0\n",
       "260   7.876134  7.903943  NaN  2529.73    2.45M   -2.76%   1.0    6.0  2021.0\n",
       "680   5.104186  5.142073  NaN   162.75   35.79M   -3.71%   7.0    4.0  2020.0\n",
       "762   5.102059  5.114635  NaN   159.08   16.24M   -1.26%  16.0    1.0  2020.0\n",
       "923   5.394355  5.414677  NaN   215.57    7.54M   -2.00%   8.0    8.0  2019.0\n",
       "1056  4.928340  4.938996  NaN   137.68    9.52M   -1.08%  28.0    3.0  2019.0\n",
       "1126  4.804267  4.801641  NaN   117.51    3.61M    0.25%  17.0    1.0  2019.0"
      ]
     },
     "execution_count": 203,
     "metadata": {},
     "output_type": "execute_result"
    }
   ],
   "source": [
    "# All rows of dataset having missing values in High column.\n",
    "missing_rows(\n",
    "    column_name=\"High\",\n",
    "    dataframe_name=df\n",
    ")"
   ]
  },
  {
   "cell_type": "code",
   "execution_count": 204,
   "metadata": {},
   "outputs": [
    {
     "data": {
      "text/html": [
       "<div>\n",
       "<style scoped>\n",
       "    .dataframe tbody tr th:only-of-type {\n",
       "        vertical-align: middle;\n",
       "    }\n",
       "\n",
       "    .dataframe tbody tr th {\n",
       "        vertical-align: top;\n",
       "    }\n",
       "\n",
       "    .dataframe thead th {\n",
       "        text-align: right;\n",
       "    }\n",
       "</style>\n",
       "<table border=\"1\" class=\"dataframe\">\n",
       "  <thead>\n",
       "    <tr style=\"text-align: right;\">\n",
       "      <th></th>\n",
       "      <th>Price</th>\n",
       "      <th>Open</th>\n",
       "      <th>High</th>\n",
       "      <th>Low</th>\n",
       "      <th>Vol.</th>\n",
       "      <th>Change %</th>\n",
       "      <th>Day</th>\n",
       "      <th>Month</th>\n",
       "      <th>Year</th>\n",
       "    </tr>\n",
       "  </thead>\n",
       "  <tbody>\n",
       "    <tr>\n",
       "      <th>194</th>\n",
       "      <td>7.968815</td>\n",
       "      <td>7.947053</td>\n",
       "      <td>2946.62</td>\n",
       "      <td>NaN</td>\n",
       "      <td>1.06M</td>\n",
       "      <td>2.20%</td>\n",
       "      <td>6.0</td>\n",
       "      <td>8.0</td>\n",
       "      <td>2021.0</td>\n",
       "    </tr>\n",
       "    <tr>\n",
       "      <th>499</th>\n",
       "      <td>5.867261</td>\n",
       "      <td>5.865589</td>\n",
       "      <td>354.86</td>\n",
       "      <td>NaN</td>\n",
       "      <td>4.96M</td>\n",
       "      <td>NaN</td>\n",
       "      <td>5.0</td>\n",
       "      <td>10.0</td>\n",
       "      <td>2020.0</td>\n",
       "    </tr>\n",
       "    <tr>\n",
       "      <th>690</th>\n",
       "      <td>4.875426</td>\n",
       "      <td>4.880830</td>\n",
       "      <td>132.68</td>\n",
       "      <td>NaN</td>\n",
       "      <td>21.03M</td>\n",
       "      <td>-0.54%</td>\n",
       "      <td>28.0</td>\n",
       "      <td>3.0</td>\n",
       "      <td>2020.0</td>\n",
       "    </tr>\n",
       "  </tbody>\n",
       "</table>\n",
       "</div>"
      ],
      "text/plain": [
       "        Price      Open     High  Low    Vol. Change %   Day  Month    Year\n",
       "194  7.968815  7.947053  2946.62  NaN   1.06M    2.20%   6.0    8.0  2021.0\n",
       "499  5.867261  5.865589   354.86  NaN   4.96M      NaN   5.0   10.0  2020.0\n",
       "690  4.875426  4.880830   132.68  NaN  21.03M   -0.54%  28.0    3.0  2020.0"
      ]
     },
     "execution_count": 204,
     "metadata": {},
     "output_type": "execute_result"
    }
   ],
   "source": [
    "# All rows of dataset having missing values in Low column.\n",
    "missing_rows(\n",
    "    column_name=\"Low\",\n",
    "    dataframe_name=df\n",
    ")"
   ]
  },
  {
   "cell_type": "code",
   "execution_count": 205,
   "metadata": {},
   "outputs": [],
   "source": [
    "df[\"High\"] = df[\"High\"].astype(float).fillna(0.0)\n",
    "df[\"Low\"] = df[\"Low\"].astype(float).fillna(0.0)"
   ]
  },
  {
   "cell_type": "code",
   "execution_count": 206,
   "metadata": {},
   "outputs": [
    {
     "name": "stderr",
     "output_type": "stream",
     "text": [
      "C:\\Users\\Admin\\AppData\\Local\\Programs\\Python\\Python39\\lib\\site-packages\\seaborn\\distributions.py:2619: FutureWarning: `distplot` is a deprecated function and will be removed in a future version. Please adapt your code to use either `displot` (a figure-level function with similar flexibility) or `histplot` (an axes-level function for histograms).\n",
      "  warnings.warn(msg, FutureWarning)\n",
      "C:\\Users\\Admin\\AppData\\Local\\Programs\\Python\\Python39\\lib\\site-packages\\seaborn\\distributions.py:2619: FutureWarning: `distplot` is a deprecated function and will be removed in a future version. Please adapt your code to use either `displot` (a figure-level function with similar flexibility) or `histplot` (an axes-level function for histograms).\n",
      "  warnings.warn(msg, FutureWarning)\n"
     ]
    },
    {
     "data": {
      "text/plain": [
       "Text(0.5, 1.0, 'High, Low Distribution before filling missing values')"
      ]
     },
     "execution_count": 206,
     "metadata": {},
     "output_type": "execute_result"
    },
    {
     "data": {
      "image/png": "[encoded data removed]",
      "text/plain": [
       "<Figure size 432x288 with 1 Axes>"
      ]
     },
     "metadata": {},
     "output_type": "display_data"
    }
   ],
   "source": [
    "sns.distplot(df['High'], color ='blue')\n",
    "sns.distplot(df['Low'], color ='green').set_title(\"High, Low Distribution before filling missing values\")"
   ]
  },
  {
   "cell_type": "markdown",
   "metadata": {},
   "source": [
    "Let's apply mean method here"
   ]
  },
  {
   "cell_type": "code",
   "execution_count": 207,
   "metadata": {},
   "outputs": [
    {
     "name": "stderr",
     "output_type": "stream",
     "text": [
      "C:\\Users\\Admin\\AppData\\Local\\Programs\\Python\\Python39\\lib\\site-packages\\seaborn\\distributions.py:2619: FutureWarning: `distplot` is a deprecated function and will be removed in a future version. Please adapt your code to use either `displot` (a figure-level function with similar flexibility) or `histplot` (an axes-level function for histograms).\n",
      "  warnings.warn(msg, FutureWarning)\n",
      "C:\\Users\\Admin\\AppData\\Local\\Programs\\Python\\Python39\\lib\\site-packages\\seaborn\\distributions.py:2619: FutureWarning: `distplot` is a deprecated function and will be removed in a future version. Please adapt your code to use either `displot` (a figure-level function with similar flexibility) or `histplot` (an axes-level function for histograms).\n",
      "  warnings.warn(msg, FutureWarning)\n"
     ]
    },
    {
     "data": {
      "text/plain": [
       "Text(0.5, 1.0, 'High, Low Distribution after filling missing values with mean')"
      ]
     },
     "execution_count": 207,
     "metadata": {},
     "output_type": "execute_result"
    },
    {
     "data": {
      "image/png": "[encoded data removed]",
      "text/plain": [
       "<Figure size 432x288 with 1 Axes>"
      ]
     },
     "metadata": {},
     "output_type": "display_data"
    }
   ],
   "source": [
    "# Mean\n",
    "df[\"High\"] = df[\"High\"].replace(0,df[\"High\"].mean())\n",
    "sns.distplot(df['High'], color ='blue')\n",
    "\n",
    "# Mean\n",
    "df[\"Low\"] = df[\"Low\"].replace(0,df[\"Low\"].mean())\n",
    "sns.distplot(df['Low'], color ='green').set_title(\"High, Low Distribution after filling missing values with mean\")"
   ]
  },
  {
   "cell_type": "code",
   "execution_count": 208,
   "metadata": {},
   "outputs": [],
   "source": [
    "\n",
    "# Let's apply log to High and Low columns\n",
    "df['High'] = df['High'].apply(lambda value: np.log(value )if value > 0 else value)\n",
    "df['Low'] = df['Low'].apply(lambda value: np.log(value )if value > 0 else value)"
   ]
  },
  {
   "cell_type": "code",
   "execution_count": 209,
   "metadata": {},
   "outputs": [
    {
     "data": {
      "image/png": "[encoded data removed]",
      "text/plain": [
       "<Figure size 432x288 with 1 Axes>"
      ]
     },
     "metadata": {},
     "output_type": "display_data"
    },
    {
     "data": {
      "image/png": "[encoded data removed]",
      "text/plain": [
       "<Figure size 432x288 with 1 Axes>"
      ]
     },
     "metadata": {},
     "output_type": "display_data"
    }
   ],
   "source": [
    "qq_plot(\n",
    "    column_name='High',\n",
    "    dataframe_name=df\n",
    ")\n",
    "\n",
    "qq_plot(\n",
    "    column_name='Low',\n",
    "    dataframe_name=df\n",
    ")"
   ]
  },
  {
   "cell_type": "code",
   "execution_count": 210,
   "metadata": {},
   "outputs": [],
   "source": [
    "# Round all values to two decimal points.\n",
    "# df = df.round(2)"
   ]
  },
  {
   "cell_type": "markdown",
   "metadata": {},
   "source": [
    "Let's analyze, is there any outlier present inside High, and Low columns."
   ]
  },
  {
   "cell_type": "code",
   "execution_count": 211,
   "metadata": {},
   "outputs": [
    {
     "data": {
      "image/png": "[encoded data removed]",
      "text/plain": [
       "<Figure size 288x576 with 1 Axes>"
      ]
     },
     "metadata": {},
     "output_type": "display_data"
    },
    {
     "data": {
      "image/png": "[encoded data removed]",
      "text/plain": [
       "<Figure size 288x576 with 1 Axes>"
      ]
     },
     "metadata": {},
     "output_type": "display_data"
    }
   ],
   "source": [
    "outlier_box_plot(\n",
    "    column_name='High',\n",
    "    df_name=df\n",
    ")\n",
    "outlier_box_plot(\n",
    "    column_name='Low',\n",
    "    df_name=df\n",
    ")\n",
    "\n",
    "# As shown in below graph, no outlier present inside bothe of these columns."
   ]
  },
  {
   "cell_type": "markdown",
   "metadata": {},
   "source": [
    "#### 5) Vol"
   ]
  },
  {
   "cell_type": "code",
   "execution_count": 212,
   "metadata": {},
   "outputs": [
    {
     "data": {
      "text/plain": [
       "Index(['Price', 'Open', 'High', 'Low', 'Vol.', 'Change %', 'Day', 'Month',\n",
       "       'Year'],\n",
       "      dtype='object')"
      ]
     },
     "execution_count": 212,
     "metadata": {},
     "output_type": "execute_result"
    }
   ],
   "source": [
    "df.columns"
   ]
  },
  {
   "cell_type": "code",
   "execution_count": 213,
   "metadata": {},
   "outputs": [
    {
     "data": {
      "text/html": [
       "<div>\n",
       "<style scoped>\n",
       "    .dataframe tbody tr th:only-of-type {\n",
       "        vertical-align: middle;\n",
       "    }\n",
       "\n",
       "    .dataframe tbody tr th {\n",
       "        vertical-align: top;\n",
       "    }\n",
       "\n",
       "    .dataframe thead th {\n",
       "        text-align: right;\n",
       "    }\n",
       "</style>\n",
       "<table border=\"1\" class=\"dataframe\">\n",
       "  <thead>\n",
       "    <tr style=\"text-align: right;\">\n",
       "      <th></th>\n",
       "      <th>Price</th>\n",
       "      <th>Open</th>\n",
       "      <th>High</th>\n",
       "      <th>Low</th>\n",
       "      <th>Vol.</th>\n",
       "      <th>Change %</th>\n",
       "      <th>Day</th>\n",
       "      <th>Month</th>\n",
       "      <th>Year</th>\n",
       "    </tr>\n",
       "  </thead>\n",
       "  <tbody>\n",
       "    <tr>\n",
       "      <th>8</th>\n",
       "      <td>8.044267</td>\n",
       "      <td>8.051867</td>\n",
       "      <td>8.079884</td>\n",
       "      <td>8.016219</td>\n",
       "      <td>NaN</td>\n",
       "      <td>-0.77%</td>\n",
       "      <td>8.0</td>\n",
       "      <td>2.0</td>\n",
       "      <td>2022.0</td>\n",
       "    </tr>\n",
       "    <tr>\n",
       "      <th>124</th>\n",
       "      <td>8.260208</td>\n",
       "      <td>8.240211</td>\n",
       "      <td>8.269990</td>\n",
       "      <td>8.225559</td>\n",
       "      <td>NaN</td>\n",
       "      <td>2.02%</td>\n",
       "      <td>15.0</td>\n",
       "      <td>10.0</td>\n",
       "      <td>2021.0</td>\n",
       "    </tr>\n",
       "    <tr>\n",
       "      <th>309</th>\n",
       "      <td>7.740634</td>\n",
       "      <td>7.667416</td>\n",
       "      <td>7.747368</td>\n",
       "      <td>7.666920</td>\n",
       "      <td>NaN</td>\n",
       "      <td>7.58%</td>\n",
       "      <td>13.0</td>\n",
       "      <td>4.0</td>\n",
       "      <td>2021.0</td>\n",
       "    </tr>\n",
       "    <tr>\n",
       "      <th>512</th>\n",
       "      <td>5.840729</td>\n",
       "      <td>5.832820</td>\n",
       "      <td>5.846988</td>\n",
       "      <td>5.817557</td>\n",
       "      <td>NaN</td>\n",
       "      <td>0.80%</td>\n",
       "      <td>22.0</td>\n",
       "      <td>9.0</td>\n",
       "      <td>2020.0</td>\n",
       "    </tr>\n",
       "    <tr>\n",
       "      <th>677</th>\n",
       "      <td>5.061709</td>\n",
       "      <td>5.133855</td>\n",
       "      <td>5.136386</td>\n",
       "      <td>5.027296</td>\n",
       "      <td>NaN</td>\n",
       "      <td>-6.97%</td>\n",
       "      <td>10.0</td>\n",
       "      <td>4.0</td>\n",
       "      <td>2020.0</td>\n",
       "    </tr>\n",
       "  </tbody>\n",
       "</table>\n",
       "</div>"
      ],
      "text/plain": [
       "        Price      Open      High       Low Vol. Change %   Day  Month    Year\n",
       "8    8.044267  8.051867  8.079884  8.016219  NaN   -0.77%   8.0    2.0  2022.0\n",
       "124  8.260208  8.240211  8.269990  8.225559  NaN    2.02%  15.0   10.0  2021.0\n",
       "309  7.740634  7.667416  7.747368  7.666920  NaN    7.58%  13.0    4.0  2021.0\n",
       "512  5.840729  5.832820  5.846988  5.817557  NaN    0.80%  22.0    9.0  2020.0\n",
       "677  5.061709  5.133855  5.136386  5.027296  NaN   -6.97%  10.0    4.0  2020.0"
      ]
     },
     "execution_count": 213,
     "metadata": {},
     "output_type": "execute_result"
    }
   ],
   "source": [
    "missing_rows(\n",
    "    column_name=\"Vol.\",\n",
    "    dataframe_name=df,\n",
    ")"
   ]
  },
  {
   "cell_type": "code",
   "execution_count": 214,
   "metadata": {},
   "outputs": [],
   "source": [
    "def calculate_volume(value):\n",
    "    value = str(value)\n",
    "    if('K' in value):\n",
    "        value = value.replace('K','')\n",
    "        return float(value)/1000\n",
    "    else:\n",
    "        value = value.replace('M','')\n",
    "        return float(value)"
   ]
  },
  {
   "cell_type": "code",
   "execution_count": 215,
   "metadata": {},
   "outputs": [],
   "source": [
    "df['Volume(In Million)'] = df['Vol.'].apply(lambda value : calculate_volume(value))"
   ]
  },
  {
   "cell_type": "code",
   "execution_count": 216,
   "metadata": {},
   "outputs": [],
   "source": [
    "# Let drop Vol. column as we have created new one.\n",
    "drop_columns_from_dataframe(\n",
    "    dataframe_name=df,\n",
    "    list_of_columns_name=['Vol.']\n",
    ")"
   ]
  },
  {
   "cell_type": "code",
   "execution_count": 217,
   "metadata": {},
   "outputs": [
    {
     "name": "stderr",
     "output_type": "stream",
     "text": [
      "C:\\Users\\Admin\\AppData\\Local\\Programs\\Python\\Python39\\lib\\site-packages\\seaborn\\distributions.py:2619: FutureWarning: `distplot` is a deprecated function and will be removed in a future version. Please adapt your code to use either `displot` (a figure-level function with similar flexibility) or `histplot` (an axes-level function for histograms).\n",
      "  warnings.warn(msg, FutureWarning)\n"
     ]
    },
    {
     "data": {
      "text/plain": [
       "Text(0.5, 1.0, 'Changes in price Distribution before filling missing values')"
      ]
     },
     "execution_count": 217,
     "metadata": {},
     "output_type": "execute_result"
    },
    {
     "data": {
      "image/png": "[encoded data removed]",
      "text/plain": [
       "<Figure size 432x288 with 1 Axes>"
      ]
     },
     "metadata": {},
     "output_type": "display_data"
    }
   ],
   "source": [
    "sns.distplot(df['Volume(In Million)'], color ='black').set_title(\"Changes in price Distribution before filling missing values\")"
   ]
  },
  {
   "cell_type": "code",
   "execution_count": 218,
   "metadata": {},
   "outputs": [],
   "source": [
    "df['Volume(In Million)'] = df['Volume(In Million)'].astype(float).fillna(0.0)"
   ]
  },
  {
   "cell_type": "code",
   "execution_count": 219,
   "metadata": {},
   "outputs": [
    {
     "name": "stderr",
     "output_type": "stream",
     "text": [
      "C:\\Users\\Admin\\AppData\\Local\\Programs\\Python\\Python39\\lib\\site-packages\\seaborn\\distributions.py:2619: FutureWarning: `distplot` is a deprecated function and will be removed in a future version. Please adapt your code to use either `displot` (a figure-level function with similar flexibility) or `histplot` (an axes-level function for histograms).\n",
      "  warnings.warn(msg, FutureWarning)\n"
     ]
    },
    {
     "data": {
      "text/plain": [
       "Text(0.5, 1.0, 'Volume(In Million) Distribution after filling missing values with mean')"
      ]
     },
     "execution_count": 219,
     "metadata": {},
     "output_type": "execute_result"
    },
    {
     "data": {
      "image/png": "[encoded data removed]",
      "text/plain": [
       "<Figure size 432x288 with 1 Axes>"
      ]
     },
     "metadata": {},
     "output_type": "display_data"
    }
   ],
   "source": [
    "# Mean\n",
    "df['Volume(In Million)'] = df['Volume(In Million)'].replace(0,df['Volume(In Million)'].mean())\n",
    "sns.distplot(df['Volume(In Million)'], color ='black').set_title(\"Volume(In Million) Distribution after filling missing values with mean\")"
   ]
  },
  {
   "cell_type": "code",
   "execution_count": 220,
   "metadata": {},
   "outputs": [],
   "source": [
    "# Let's apply log transformation here.\n",
    "df['Volume(In Million)'] = df['Volume(In Million)'].apply(lambda value: np.log(value )if value > 0 else value)"
   ]
  },
  {
   "cell_type": "code",
   "execution_count": 221,
   "metadata": {},
   "outputs": [
    {
     "name": "stderr",
     "output_type": "stream",
     "text": [
      "C:\\Users\\Admin\\AppData\\Local\\Programs\\Python\\Python39\\lib\\site-packages\\seaborn\\distributions.py:2619: FutureWarning: `distplot` is a deprecated function and will be removed in a future version. Please adapt your code to use either `displot` (a figure-level function with similar flexibility) or `histplot` (an axes-level function for histograms).\n",
      "  warnings.warn(msg, FutureWarning)\n"
     ]
    },
    {
     "data": {
      "text/plain": [
       "Text(0.5, 1.0, 'Volume(In Million) Distribution after filling missing values with mean')"
      ]
     },
     "execution_count": 221,
     "metadata": {},
     "output_type": "execute_result"
    },
    {
     "data": {
      "image/png": "[encoded data removed]",
      "text/plain": [
       "<Figure size 432x288 with 1 Axes>"
      ]
     },
     "metadata": {},
     "output_type": "display_data"
    }
   ],
   "source": [
    "sns.distplot(df['Volume(In Million)'], color ='black').set_title(\"Volume(In Million) Distribution after filling missing values with mean\")"
   ]
  },
  {
   "cell_type": "code",
   "execution_count": 222,
   "metadata": {},
   "outputs": [
    {
     "data": {
      "image/png": "[encoded data removed]",
      "text/plain": [
       "<Figure size 432x288 with 1 Axes>"
      ]
     },
     "metadata": {},
     "output_type": "display_data"
    }
   ],
   "source": [
    "qq_plot(\n",
    "    column_name='Volume(In Million)',\n",
    "    dataframe_name=df\n",
    ")"
   ]
  },
  {
   "cell_type": "markdown",
   "metadata": {},
   "source": [
    "Let's analyze, is there any outlier present inside Volume(In Million) column."
   ]
  },
  {
   "cell_type": "code",
   "execution_count": 223,
   "metadata": {},
   "outputs": [
    {
     "data": {
      "image/png": "[encoded data removed]",
      "text/plain": [
       "<Figure size 288x576 with 1 Axes>"
      ]
     },
     "metadata": {},
     "output_type": "display_data"
    }
   ],
   "source": [
    "outlier_box_plot(\n",
    "    column_name='Volume(In Million)',\n",
    "    df_name=df\n",
    ")"
   ]
  },
  {
   "cell_type": "code",
   "execution_count": 224,
   "metadata": {},
   "outputs": [],
   "source": [
    "# standard deviation method to remove outlier from the dataset.\n",
    "def outlier_detection_std(df, column):\n",
    "    global lower,upper\n",
    "    # calculate the mean and standard deviation of the data frame\n",
    "    data_mean, data_std = df[column].mean(), df[column].std()\n",
    "    # calculate the cutoff value\n",
    "    cut_off = data_std * 3\n",
    "    # calculate the lower and upper bound value\n",
    "    lower, upper = data_mean - cut_off, data_mean + cut_off\n",
    "    print('The lower bound value is', lower)\n",
    "    print('The upper bound value is', upper)\n",
    "    # Calculate the number of records below and above lower and above bound value respectively\n",
    "    df1 = df[df[column] > upper]\n",
    "    df2 = df[df[column] < lower]\n",
    "    return print('Total number of outliers are', df1.shape[0]+ df2.shape[0])\n"
   ]
  },
  {
   "cell_type": "code",
   "execution_count": 225,
   "metadata": {},
   "outputs": [
    {
     "name": "stdout",
     "output_type": "stream",
     "text": [
      "The lower bound value is -2.264804971498612\n",
      "The upper bound value is 5.311019823188825\n",
      "Total number of outliers are 3\n"
     ]
    }
   ],
   "source": [
    "outlier_detection_std(\n",
    "    df=df,\n",
    "    column='Volume(In Million)',\n",
    ")"
   ]
  },
  {
   "cell_type": "code",
   "execution_count": 226,
   "metadata": {},
   "outputs": [],
   "source": [
    "df = remove_rows_having_outlier(\n",
    "    column_name='Volume(In Million)',\n",
    "    df_name=df,\n",
    "    lower_limit=lower,\n",
    "    upper_limit=upper\n",
    ")"
   ]
  },
  {
   "cell_type": "code",
   "execution_count": 227,
   "metadata": {},
   "outputs": [
    {
     "data": {
      "image/png": "[encoded data removed]",
      "text/plain": [
       "<Figure size 432x288 with 1 Axes>"
      ]
     },
     "metadata": {},
     "output_type": "display_data"
    }
   ],
   "source": [
    "qq_plot(\n",
    "    column_name='Volume(In Million)',\n",
    "    dataframe_name=df\n",
    ")"
   ]
  },
  {
   "cell_type": "code",
   "execution_count": 228,
   "metadata": {},
   "outputs": [
    {
     "data": {
      "image/png": "[encoded data removed]",
      "text/plain": [
       "<Figure size 288x576 with 1 Axes>"
      ]
     },
     "metadata": {},
     "output_type": "display_data"
    }
   ],
   "source": [
    "outlier_box_plot(\n",
    "    column_name='Volume(In Million)',\n",
    "    df_name=df\n",
    ")"
   ]
  },
  {
   "cell_type": "markdown",
   "metadata": {},
   "source": [
    "#### 6) Change %"
   ]
  },
  {
   "cell_type": "code",
   "execution_count": 229,
   "metadata": {},
   "outputs": [
    {
     "data": {
      "text/html": [
       "<div>\n",
       "<style scoped>\n",
       "    .dataframe tbody tr th:only-of-type {\n",
       "        vertical-align: middle;\n",
       "    }\n",
       "\n",
       "    .dataframe tbody tr th {\n",
       "        vertical-align: top;\n",
       "    }\n",
       "\n",
       "    .dataframe thead th {\n",
       "        text-align: right;\n",
       "    }\n",
       "</style>\n",
       "<table border=\"1\" class=\"dataframe\">\n",
       "  <thead>\n",
       "    <tr style=\"text-align: right;\">\n",
       "      <th></th>\n",
       "      <th>Price</th>\n",
       "      <th>Open</th>\n",
       "      <th>High</th>\n",
       "      <th>Low</th>\n",
       "      <th>Change %</th>\n",
       "      <th>Day</th>\n",
       "      <th>Month</th>\n",
       "      <th>Year</th>\n",
       "      <th>Volume(In Million)</th>\n",
       "    </tr>\n",
       "  </thead>\n",
       "  <tbody>\n",
       "    <tr>\n",
       "      <th>14</th>\n",
       "      <td>7.893945</td>\n",
       "      <td>7.932778</td>\n",
       "      <td>7.940787</td>\n",
       "      <td>7.870193</td>\n",
       "      <td>NaN</td>\n",
       "      <td>2.0</td>\n",
       "      <td>2.0</td>\n",
       "      <td>2022.0</td>\n",
       "      <td>-0.506834</td>\n",
       "    </tr>\n",
       "    <tr>\n",
       "      <th>137</th>\n",
       "      <td>8.128281</td>\n",
       "      <td>8.104444</td>\n",
       "      <td>8.151319</td>\n",
       "      <td>8.091312</td>\n",
       "      <td>NaN</td>\n",
       "      <td>2.0</td>\n",
       "      <td>10.0</td>\n",
       "      <td>2021.0</td>\n",
       "      <td>-0.250836</td>\n",
       "    </tr>\n",
       "    <tr>\n",
       "      <th>213</th>\n",
       "      <td>7.545612</td>\n",
       "      <td>7.548561</td>\n",
       "      <td>7.595005</td>\n",
       "      <td>7.539878</td>\n",
       "      <td>NaN</td>\n",
       "      <td>18.0</td>\n",
       "      <td>7.0</td>\n",
       "      <td>2021.0</td>\n",
       "      <td>-0.186607</td>\n",
       "    </tr>\n",
       "    <tr>\n",
       "      <th>261</th>\n",
       "      <td>7.904139</td>\n",
       "      <td>7.777763</td>\n",
       "      <td>7.906171</td>\n",
       "      <td>7.731676</td>\n",
       "      <td>NaN</td>\n",
       "      <td>31.0</td>\n",
       "      <td>5.0</td>\n",
       "      <td>2021.0</td>\n",
       "      <td>1.040277</td>\n",
       "    </tr>\n",
       "    <tr>\n",
       "      <th>405</th>\n",
       "      <td>7.110165</td>\n",
       "      <td>7.097309</td>\n",
       "      <td>7.159922</td>\n",
       "      <td>7.050201</td>\n",
       "      <td>NaN</td>\n",
       "      <td>7.0</td>\n",
       "      <td>1.0</td>\n",
       "      <td>2021.0</td>\n",
       "      <td>0.996949</td>\n",
       "    </tr>\n",
       "    <tr>\n",
       "      <th>499</th>\n",
       "      <td>5.867261</td>\n",
       "      <td>5.865589</td>\n",
       "      <td>5.871723</td>\n",
       "      <td>7.026913</td>\n",
       "      <td>NaN</td>\n",
       "      <td>5.0</td>\n",
       "      <td>10.0</td>\n",
       "      <td>2020.0</td>\n",
       "      <td>1.601406</td>\n",
       "    </tr>\n",
       "    <tr>\n",
       "      <th>683</th>\n",
       "      <td>4.969883</td>\n",
       "      <td>4.949681</td>\n",
       "      <td>4.981618</td>\n",
       "      <td>4.937061</td>\n",
       "      <td>NaN</td>\n",
       "      <td>4.0</td>\n",
       "      <td>4.0</td>\n",
       "      <td>2020.0</td>\n",
       "      <td>2.983153</td>\n",
       "    </tr>\n",
       "    <tr>\n",
       "      <th>717</th>\n",
       "      <td>5.384449</td>\n",
       "      <td>5.382245</td>\n",
       "      <td>5.426886</td>\n",
       "      <td>5.361292</td>\n",
       "      <td>NaN</td>\n",
       "      <td>1.0</td>\n",
       "      <td>3.0</td>\n",
       "      <td>2020.0</td>\n",
       "      <td>2.843164</td>\n",
       "    </tr>\n",
       "  </tbody>\n",
       "</table>\n",
       "</div>"
      ],
      "text/plain": [
       "        Price      Open      High       Low Change %   Day  Month    Year  \\\n",
       "14   7.893945  7.932778  7.940787  7.870193      NaN   2.0    2.0  2022.0   \n",
       "137  8.128281  8.104444  8.151319  8.091312      NaN   2.0   10.0  2021.0   \n",
       "213  7.545612  7.548561  7.595005  7.539878      NaN  18.0    7.0  2021.0   \n",
       "261  7.904139  7.777763  7.906171  7.731676      NaN  31.0    5.0  2021.0   \n",
       "405  7.110165  7.097309  7.159922  7.050201      NaN   7.0    1.0  2021.0   \n",
       "499  5.867261  5.865589  5.871723  7.026913      NaN   5.0   10.0  2020.0   \n",
       "683  4.969883  4.949681  4.981618  4.937061      NaN   4.0    4.0  2020.0   \n",
       "717  5.384449  5.382245  5.426886  5.361292      NaN   1.0    3.0  2020.0   \n",
       "\n",
       "     Volume(In Million)  \n",
       "14            -0.506834  \n",
       "137           -0.250836  \n",
       "213           -0.186607  \n",
       "261            1.040277  \n",
       "405            0.996949  \n",
       "499            1.601406  \n",
       "683            2.983153  \n",
       "717            2.843164  "
      ]
     },
     "execution_count": 229,
     "metadata": {},
     "output_type": "execute_result"
    }
   ],
   "source": [
    "missing_rows(\n",
    "    column_name=\"Change %\",\n",
    "    dataframe_name=df,\n",
    ")"
   ]
  },
  {
   "cell_type": "code",
   "execution_count": 230,
   "metadata": {},
   "outputs": [],
   "source": [
    "df['Change %'] = df['Change %'].str.replace('%','')"
   ]
  },
  {
   "cell_type": "code",
   "execution_count": 231,
   "metadata": {},
   "outputs": [],
   "source": [
    "df['Change %'] = df['Change %'].astype(float).fillna(0.0)"
   ]
  },
  {
   "cell_type": "code",
   "execution_count": 232,
   "metadata": {},
   "outputs": [
    {
     "name": "stderr",
     "output_type": "stream",
     "text": [
      "C:\\Users\\Admin\\AppData\\Local\\Programs\\Python\\Python39\\lib\\site-packages\\seaborn\\distributions.py:2619: FutureWarning: `distplot` is a deprecated function and will be removed in a future version. Please adapt your code to use either `displot` (a figure-level function with similar flexibility) or `histplot` (an axes-level function for histograms).\n",
      "  warnings.warn(msg, FutureWarning)\n"
     ]
    },
    {
     "data": {
      "text/plain": [
       "Text(0.5, 1.0, 'Changes in price Distribution before filling missing values')"
      ]
     },
     "execution_count": 232,
     "metadata": {},
     "output_type": "execute_result"
    },
    {
     "data": {
      "image/png": "[encoded data removed]",
      "text/plain": [
       "<Figure size 432x288 with 1 Axes>"
      ]
     },
     "metadata": {},
     "output_type": "display_data"
    }
   ],
   "source": [
    "sns.distplot(df['Change %'], color ='maroon').set_title(\"Changes in price Distribution before filling missing values\")"
   ]
  },
  {
   "cell_type": "markdown",
   "metadata": {},
   "source": [
    "As we can clearly see from the above graph that, fluctuation of prices follow gaussian distribution so that we can fill missing\n",
    "values with mean."
   ]
  },
  {
   "cell_type": "code",
   "execution_count": 233,
   "metadata": {},
   "outputs": [
    {
     "name": "stderr",
     "output_type": "stream",
     "text": [
      "C:\\Users\\Admin\\AppData\\Local\\Programs\\Python\\Python39\\lib\\site-packages\\seaborn\\distributions.py:2619: FutureWarning: `distplot` is a deprecated function and will be removed in a future version. Please adapt your code to use either `displot` (a figure-level function with similar flexibility) or `histplot` (an axes-level function for histograms).\n",
      "  warnings.warn(msg, FutureWarning)\n"
     ]
    },
    {
     "data": {
      "text/plain": [
       "Text(0.5, 1.0, 'Changes in price Distribution after filling missing values with mean')"
      ]
     },
     "execution_count": 233,
     "metadata": {},
     "output_type": "execute_result"
    },
    {
     "data": {
      "image/png": "[encoded data removed]",
      "text/plain": [
       "<Figure size 432x288 with 1 Axes>"
      ]
     },
     "metadata": {},
     "output_type": "display_data"
    }
   ],
   "source": [
    "# Mean\n",
    "df['Change %'] = df['Change %'].replace(0,df['Change %'].mean())\n",
    "sns.distplot(df['Change %'], color ='maroon').set_title(\"Changes in price Distribution after filling missing values with mean\")"
   ]
  },
  {
   "cell_type": "markdown",
   "metadata": {},
   "source": [
    "Let's analyze, is there any outlier present inside Change % column."
   ]
  },
  {
   "cell_type": "code",
   "execution_count": 234,
   "metadata": {},
   "outputs": [
    {
     "data": {
      "image/png": "[encoded data removed]",
      "text/plain": [
       "<Figure size 432x288 with 1 Axes>"
      ]
     },
     "metadata": {},
     "output_type": "display_data"
    }
   ],
   "source": [
    "qq_plot(\n",
    "    column_name='Change %',\n",
    "    dataframe_name=df\n",
    ")"
   ]
  },
  {
   "cell_type": "code",
   "execution_count": 235,
   "metadata": {},
   "outputs": [
    {
     "data": {
      "image/png": "[encoded data removed]",
      "text/plain": [
       "<Figure size 288x576 with 1 Axes>"
      ]
     },
     "metadata": {},
     "output_type": "display_data"
    }
   ],
   "source": [
    "outlier_box_plot(\n",
    "    column_name='Change %',\n",
    "    df_name=df\n",
    ")"
   ]
  },
  {
   "cell_type": "code",
   "execution_count": 236,
   "metadata": {},
   "outputs": [
    {
     "name": "stdout",
     "output_type": "stream",
     "text": [
      "The lower bound value is -14.336191181589383\n",
      "The upper bound value is 15.26092647359672\n",
      "Total number of outliers are 14\n"
     ]
    }
   ],
   "source": [
    "outlier_detection_std(\n",
    "    column='Change %',\n",
    "    df=df\n",
    ")"
   ]
  },
  {
   "cell_type": "code",
   "execution_count": 237,
   "metadata": {},
   "outputs": [
    {
     "name": "stderr",
     "output_type": "stream",
     "text": [
      "C:\\Users\\Admin\\AppData\\Local\\Programs\\Python\\Python39\\lib\\site-packages\\seaborn\\distributions.py:2619: FutureWarning: `distplot` is a deprecated function and will be removed in a future version. Please adapt your code to use either `displot` (a figure-level function with similar flexibility) or `histplot` (an axes-level function for histograms).\n",
      "  warnings.warn(msg, FutureWarning)\n"
     ]
    },
    {
     "data": {
      "image/png": "[encoded data removed]",
      "text/plain": [
       "<Figure size 720x432 with 1 Axes>"
      ]
     },
     "metadata": {},
     "output_type": "display_data"
    }
   ],
   "source": [
    "outlier_distribution_graph(\n",
    "    col_name='Change %',\n",
    "    df_name=df\n",
    ")"
   ]
  },
  {
   "cell_type": "code",
   "execution_count": 238,
   "metadata": {},
   "outputs": [],
   "source": [
    "df = remove_rows_having_outlier(\n",
    "    column_name='Change %',\n",
    "    df_name=df,\n",
    "    lower_limit=lower,\n",
    "    upper_limit=upper\n",
    ")"
   ]
  },
  {
   "cell_type": "code",
   "execution_count": 239,
   "metadata": {},
   "outputs": [
    {
     "data": {
      "text/html": [
       "<div>\n",
       "<style scoped>\n",
       "    .dataframe tbody tr th:only-of-type {\n",
       "        vertical-align: middle;\n",
       "    }\n",
       "\n",
       "    .dataframe tbody tr th {\n",
       "        vertical-align: top;\n",
       "    }\n",
       "\n",
       "    .dataframe thead th {\n",
       "        text-align: right;\n",
       "    }\n",
       "</style>\n",
       "<table border=\"1\" class=\"dataframe\">\n",
       "  <thead>\n",
       "    <tr style=\"text-align: right;\">\n",
       "      <th></th>\n",
       "      <th>Price</th>\n",
       "      <th>Open</th>\n",
       "      <th>High</th>\n",
       "      <th>Low</th>\n",
       "      <th>Change %</th>\n",
       "      <th>Day</th>\n",
       "      <th>Month</th>\n",
       "      <th>Year</th>\n",
       "      <th>Volume(In Million)</th>\n",
       "    </tr>\n",
       "  </thead>\n",
       "  <tbody>\n",
       "  </tbody>\n",
       "</table>\n",
       "</div>"
      ],
      "text/plain": [
       "Empty DataFrame\n",
       "Columns: [Price, Open, High, Low, Change %, Day, Month, Year, Volume(In Million)]\n",
       "Index: []"
      ]
     },
     "execution_count": 239,
     "metadata": {},
     "output_type": "execute_result"
    }
   ],
   "source": [
    "missing_rows(\n",
    "    column_name=\"Day\",\n",
    "    dataframe_name=df\n",
    ")"
   ]
  },
  {
   "cell_type": "code",
   "execution_count": 240,
   "metadata": {},
   "outputs": [
    {
     "name": "stdout",
     "output_type": "stream",
     "text": [
      "<class 'pandas.core.frame.DataFrame'>\n",
      "Int64Index: 1068 entries, 0 to 1127\n",
      "Data columns (total 9 columns):\n",
      " #   Column              Non-Null Count  Dtype  \n",
      "---  ------              --------------  -----  \n",
      " 0   Price               1068 non-null   float64\n",
      " 1   Open                1068 non-null   float64\n",
      " 2   High                1068 non-null   float64\n",
      " 3   Low                 1068 non-null   float64\n",
      " 4   Change %            1068 non-null   float64\n",
      " 5   Day                 1068 non-null   float64\n",
      " 6   Month               1068 non-null   float64\n",
      " 7   Year                1068 non-null   float64\n",
      " 8   Volume(In Million)  1068 non-null   float64\n",
      "dtypes: float64(9)\n",
      "memory usage: 83.4 KB\n"
     ]
    }
   ],
   "source": [
    "df.info()"
   ]
  },
  {
   "cell_type": "markdown",
   "metadata": {},
   "source": [
    "Now data is clean, does not have missing values and outliers"
   ]
  },
  {
   "cell_type": "code",
   "execution_count": 241,
   "metadata": {},
   "outputs": [
    {
     "data": {
      "text/plain": [
       "(1068, 9)"
      ]
     },
     "execution_count": 241,
     "metadata": {},
     "output_type": "execute_result"
    }
   ],
   "source": [
    "df.shape"
   ]
  },
  {
   "cell_type": "code",
   "execution_count": 242,
   "metadata": {},
   "outputs": [
    {
     "data": {
      "text/html": [
       "<div>\n",
       "<style scoped>\n",
       "    .dataframe tbody tr th:only-of-type {\n",
       "        vertical-align: middle;\n",
       "    }\n",
       "\n",
       "    .dataframe tbody tr th {\n",
       "        vertical-align: top;\n",
       "    }\n",
       "\n",
       "    .dataframe thead th {\n",
       "        text-align: right;\n",
       "    }\n",
       "</style>\n",
       "<table border=\"1\" class=\"dataframe\">\n",
       "  <thead>\n",
       "    <tr style=\"text-align: right;\">\n",
       "      <th></th>\n",
       "      <th>Price</th>\n",
       "      <th>Open</th>\n",
       "      <th>High</th>\n",
       "      <th>Low</th>\n",
       "      <th>Change %</th>\n",
       "      <th>Day</th>\n",
       "      <th>Month</th>\n",
       "      <th>Year</th>\n",
       "      <th>Volume(In Million)</th>\n",
       "    </tr>\n",
       "  </thead>\n",
       "  <tbody>\n",
       "    <tr>\n",
       "      <th>0</th>\n",
       "      <td>8.029348</td>\n",
       "      <td>8.065366</td>\n",
       "      <td>8.065941</td>\n",
       "      <td>8.021558</td>\n",
       "      <td>-3.540000</td>\n",
       "      <td>16.0</td>\n",
       "      <td>2.0</td>\n",
       "      <td>2022.0</td>\n",
       "      <td>-0.911602</td>\n",
       "    </tr>\n",
       "    <tr>\n",
       "      <th>1</th>\n",
       "      <td>8.065350</td>\n",
       "      <td>7.982515</td>\n",
       "      <td>8.068773</td>\n",
       "      <td>7.976805</td>\n",
       "      <td>8.640000</td>\n",
       "      <td>15.0</td>\n",
       "      <td>2.0</td>\n",
       "      <td>2022.0</td>\n",
       "      <td>-0.616112</td>\n",
       "    </tr>\n",
       "    <tr>\n",
       "      <th>2</th>\n",
       "      <td>7.982522</td>\n",
       "      <td>7.962437</td>\n",
       "      <td>7.093713</td>\n",
       "      <td>7.949490</td>\n",
       "      <td>2.060000</td>\n",
       "      <td>14.0</td>\n",
       "      <td>2.0</td>\n",
       "      <td>2022.0</td>\n",
       "      <td>-0.739736</td>\n",
       "    </tr>\n",
       "    <tr>\n",
       "      <th>3</th>\n",
       "      <td>7.962154</td>\n",
       "      <td>7.978366</td>\n",
       "      <td>7.990557</td>\n",
       "      <td>7.950957</td>\n",
       "      <td>-1.610000</td>\n",
       "      <td>13.0</td>\n",
       "      <td>2.0</td>\n",
       "      <td>2022.0</td>\n",
       "      <td>-1.193627</td>\n",
       "    </tr>\n",
       "    <tr>\n",
       "      <th>5</th>\n",
       "      <td>7.981949</td>\n",
       "      <td>8.030019</td>\n",
       "      <td>8.050809</td>\n",
       "      <td>7.965754</td>\n",
       "      <td>-4.690000</td>\n",
       "      <td>11.0</td>\n",
       "      <td>2.0</td>\n",
       "      <td>2022.0</td>\n",
       "      <td>-0.497696</td>\n",
       "    </tr>\n",
       "    <tr>\n",
       "      <th>6</th>\n",
       "      <td>8.030029</td>\n",
       "      <td>8.084479</td>\n",
       "      <td>8.094793</td>\n",
       "      <td>8.025709</td>\n",
       "      <td>-5.300000</td>\n",
       "      <td>10.0</td>\n",
       "      <td>2.0</td>\n",
       "      <td>2022.0</td>\n",
       "      <td>-0.297679</td>\n",
       "    </tr>\n",
       "    <tr>\n",
       "      <th>7</th>\n",
       "      <td>8.084445</td>\n",
       "      <td>8.044277</td>\n",
       "      <td>8.091447</td>\n",
       "      <td>8.024846</td>\n",
       "      <td>4.100000</td>\n",
       "      <td>9.0</td>\n",
       "      <td>2.0</td>\n",
       "      <td>2022.0</td>\n",
       "      <td>-0.738521</td>\n",
       "    </tr>\n",
       "    <tr>\n",
       "      <th>8</th>\n",
       "      <td>8.044267</td>\n",
       "      <td>8.051867</td>\n",
       "      <td>8.079884</td>\n",
       "      <td>8.016219</td>\n",
       "      <td>-0.770000</td>\n",
       "      <td>8.0</td>\n",
       "      <td>2.0</td>\n",
       "      <td>2022.0</td>\n",
       "      <td>2.115166</td>\n",
       "    </tr>\n",
       "    <tr>\n",
       "      <th>9</th>\n",
       "      <td>8.052035</td>\n",
       "      <td>8.024957</td>\n",
       "      <td>8.066449</td>\n",
       "      <td>8.004896</td>\n",
       "      <td>2.750000</td>\n",
       "      <td>7.0</td>\n",
       "      <td>2.0</td>\n",
       "      <td>2022.0</td>\n",
       "      <td>-0.564895</td>\n",
       "    </tr>\n",
       "    <tr>\n",
       "      <th>10</th>\n",
       "      <td>8.024928</td>\n",
       "      <td>8.010940</td>\n",
       "      <td>8.030484</td>\n",
       "      <td>7.991985</td>\n",
       "      <td>1.410000</td>\n",
       "      <td>6.0</td>\n",
       "      <td>2.0</td>\n",
       "      <td>2022.0</td>\n",
       "      <td>-1.150179</td>\n",
       "    </tr>\n",
       "    <tr>\n",
       "      <th>11</th>\n",
       "      <td>8.010960</td>\n",
       "      <td>8.004613</td>\n",
       "      <td>8.025804</td>\n",
       "      <td>7.993995</td>\n",
       "      <td>0.630000</td>\n",
       "      <td>5.0</td>\n",
       "      <td>2.0</td>\n",
       "      <td>2022.0</td>\n",
       "      <td>-0.747350</td>\n",
       "    </tr>\n",
       "    <tr>\n",
       "      <th>13</th>\n",
       "      <td>7.898337</td>\n",
       "      <td>7.893818</td>\n",
       "      <td>7.909846</td>\n",
       "      <td>7.855467</td>\n",
       "      <td>0.440000</td>\n",
       "      <td>3.0</td>\n",
       "      <td>2.0</td>\n",
       "      <td>2022.0</td>\n",
       "      <td>-0.599165</td>\n",
       "    </tr>\n",
       "    <tr>\n",
       "      <th>14</th>\n",
       "      <td>7.893945</td>\n",
       "      <td>7.932778</td>\n",
       "      <td>7.940787</td>\n",
       "      <td>7.870193</td>\n",
       "      <td>0.458974</td>\n",
       "      <td>2.0</td>\n",
       "      <td>2.0</td>\n",
       "      <td>2022.0</td>\n",
       "      <td>-0.506834</td>\n",
       "    </tr>\n",
       "    <tr>\n",
       "      <th>15</th>\n",
       "      <td>7.932778</td>\n",
       "      <td>7.896114</td>\n",
       "      <td>7.940441</td>\n",
       "      <td>7.892198</td>\n",
       "      <td>3.730000</td>\n",
       "      <td>1.0</td>\n",
       "      <td>2.0</td>\n",
       "      <td>2022.0</td>\n",
       "      <td>-0.650586</td>\n",
       "    </tr>\n",
       "    <tr>\n",
       "      <th>16</th>\n",
       "      <td>7.896114</td>\n",
       "      <td>7.864308</td>\n",
       "      <td>7.902724</td>\n",
       "      <td>7.815550</td>\n",
       "      <td>3.230000</td>\n",
       "      <td>31.0</td>\n",
       "      <td>1.0</td>\n",
       "      <td>2022.0</td>\n",
       "      <td>-0.507946</td>\n",
       "    </tr>\n",
       "    <tr>\n",
       "      <th>17</th>\n",
       "      <td>7.864332</td>\n",
       "      <td>7.863313</td>\n",
       "      <td>7.877033</td>\n",
       "      <td>7.841489</td>\n",
       "      <td>0.110000</td>\n",
       "      <td>30.0</td>\n",
       "      <td>1.0</td>\n",
       "      <td>2022.0</td>\n",
       "      <td>-0.962754</td>\n",
       "    </tr>\n",
       "    <tr>\n",
       "      <th>18</th>\n",
       "      <td>7.863274</td>\n",
       "      <td>7.842259</td>\n",
       "      <td>7.875693</td>\n",
       "      <td>7.832070</td>\n",
       "      <td>2.120000</td>\n",
       "      <td>29.0</td>\n",
       "      <td>1.0</td>\n",
       "      <td>2022.0</td>\n",
       "      <td>-0.725299</td>\n",
       "    </tr>\n",
       "    <tr>\n",
       "      <th>19</th>\n",
       "      <td>7.842259</td>\n",
       "      <td>7.793447</td>\n",
       "      <td>7.846332</td>\n",
       "      <td>7.767488</td>\n",
       "      <td>5.000000</td>\n",
       "      <td>28.0</td>\n",
       "      <td>1.0</td>\n",
       "      <td>2022.0</td>\n",
       "      <td>-0.454918</td>\n",
       "    </tr>\n",
       "    <tr>\n",
       "      <th>20</th>\n",
       "      <td>7.793447</td>\n",
       "      <td>7.808831</td>\n",
       "      <td>7.830104</td>\n",
       "      <td>7.748158</td>\n",
       "      <td>-1.490000</td>\n",
       "      <td>27.0</td>\n",
       "      <td>1.0</td>\n",
       "      <td>2022.0</td>\n",
       "      <td>-0.255486</td>\n",
       "    </tr>\n",
       "    <tr>\n",
       "      <th>21</th>\n",
       "      <td>7.808490</td>\n",
       "      <td>7.807132</td>\n",
       "      <td>7.908137</td>\n",
       "      <td>7.785580</td>\n",
       "      <td>0.140000</td>\n",
       "      <td>26.0</td>\n",
       "      <td>1.0</td>\n",
       "      <td>2022.0</td>\n",
       "      <td>0.048790</td>\n",
       "    </tr>\n",
       "    <tr>\n",
       "      <th>22</th>\n",
       "      <td>7.807132</td>\n",
       "      <td>7.800167</td>\n",
       "      <td>7.825773</td>\n",
       "      <td>7.763174</td>\n",
       "      <td>0.700000</td>\n",
       "      <td>25.0</td>\n",
       "      <td>1.0</td>\n",
       "      <td>2022.0</td>\n",
       "      <td>-0.421549</td>\n",
       "    </tr>\n",
       "    <tr>\n",
       "      <th>24</th>\n",
       "      <td>7.840238</td>\n",
       "      <td>7.788427</td>\n",
       "      <td>7.842746</td>\n",
       "      <td>7.772268</td>\n",
       "      <td>5.320000</td>\n",
       "      <td>23.0</td>\n",
       "      <td>1.0</td>\n",
       "      <td>2022.0</td>\n",
       "      <td>-0.265490</td>\n",
       "    </tr>\n",
       "    <tr>\n",
       "      <th>25</th>\n",
       "      <td>7.788427</td>\n",
       "      <td>7.851922</td>\n",
       "      <td>7.871391</td>\n",
       "      <td>7.745782</td>\n",
       "      <td>-6.170000</td>\n",
       "      <td>22.0</td>\n",
       "      <td>1.0</td>\n",
       "      <td>2022.0</td>\n",
       "      <td>0.392042</td>\n",
       "    </tr>\n",
       "    <tr>\n",
       "      <th>27</th>\n",
       "      <td>8.007940</td>\n",
       "      <td>8.034138</td>\n",
       "      <td>8.092762</td>\n",
       "      <td>8.002758</td>\n",
       "      <td>-2.560000</td>\n",
       "      <td>20.0</td>\n",
       "      <td>1.0</td>\n",
       "      <td>2022.0</td>\n",
       "      <td>-0.731722</td>\n",
       "    </tr>\n",
       "    <tr>\n",
       "      <th>28</th>\n",
       "      <td>8.033869</td>\n",
       "      <td>8.058375</td>\n",
       "      <td>8.062631</td>\n",
       "      <td>8.022667</td>\n",
       "      <td>-2.420000</td>\n",
       "      <td>19.0</td>\n",
       "      <td>1.0</td>\n",
       "      <td>2022.0</td>\n",
       "      <td>-0.776942</td>\n",
       "    </tr>\n",
       "    <tr>\n",
       "      <th>29</th>\n",
       "      <td>8.058375</td>\n",
       "      <td>8.073849</td>\n",
       "      <td>8.084091</td>\n",
       "      <td>8.034138</td>\n",
       "      <td>-1.530000</td>\n",
       "      <td>18.0</td>\n",
       "      <td>1.0</td>\n",
       "      <td>2022.0</td>\n",
       "      <td>-0.918318</td>\n",
       "    </tr>\n",
       "    <tr>\n",
       "      <th>30</th>\n",
       "      <td>8.073824</td>\n",
       "      <td>8.115709</td>\n",
       "      <td>8.118639</td>\n",
       "      <td>8.052742</td>\n",
       "      <td>-4.100000</td>\n",
       "      <td>17.0</td>\n",
       "      <td>1.0</td>\n",
       "      <td>2022.0</td>\n",
       "      <td>-0.980083</td>\n",
       "    </tr>\n",
       "    <tr>\n",
       "      <th>31</th>\n",
       "      <td>8.115697</td>\n",
       "      <td>8.109676</td>\n",
       "      <td>8.128060</td>\n",
       "      <td>8.094513</td>\n",
       "      <td>0.570000</td>\n",
       "      <td>16.0</td>\n",
       "      <td>1.0</td>\n",
       "      <td>2022.0</td>\n",
       "      <td>-1.218477</td>\n",
       "    </tr>\n",
       "    <tr>\n",
       "      <th>33</th>\n",
       "      <td>8.104069</td>\n",
       "      <td>8.083930</td>\n",
       "      <td>8.114097</td>\n",
       "      <td>8.069546</td>\n",
       "      <td>2.160000</td>\n",
       "      <td>14.0</td>\n",
       "      <td>1.0</td>\n",
       "      <td>2022.0</td>\n",
       "      <td>-0.879043</td>\n",
       "    </tr>\n",
       "    <tr>\n",
       "      <th>34</th>\n",
       "      <td>8.082720</td>\n",
       "      <td>8.122926</td>\n",
       "      <td>8.133875</td>\n",
       "      <td>8.081775</td>\n",
       "      <td>-3.940000</td>\n",
       "      <td>13.0</td>\n",
       "      <td>1.0</td>\n",
       "      <td>2022.0</td>\n",
       "      <td>-0.770439</td>\n",
       "    </tr>\n",
       "    <tr>\n",
       "      <th>35</th>\n",
       "      <td>8.122932</td>\n",
       "      <td>8.082779</td>\n",
       "      <td>8.133526</td>\n",
       "      <td>8.073403</td>\n",
       "      <td>4.110000</td>\n",
       "      <td>12.0</td>\n",
       "      <td>1.0</td>\n",
       "      <td>2022.0</td>\n",
       "      <td>-0.633069</td>\n",
       "    </tr>\n",
       "    <tr>\n",
       "      <th>36</th>\n",
       "      <td>8.082677</td>\n",
       "      <td>8.034190</td>\n",
       "      <td>8.090335</td>\n",
       "      <td>8.024011</td>\n",
       "      <td>4.940000</td>\n",
       "      <td>11.0</td>\n",
       "      <td>1.0</td>\n",
       "      <td>2022.0</td>\n",
       "      <td>-0.682781</td>\n",
       "    </tr>\n",
       "    <tr>\n",
       "      <th>37</th>\n",
       "      <td>8.034446</td>\n",
       "      <td>8.055243</td>\n",
       "      <td>8.064624</td>\n",
       "      <td>7.983331</td>\n",
       "      <td>-2.060000</td>\n",
       "      <td>10.0</td>\n",
       "      <td>1.0</td>\n",
       "      <td>2022.0</td>\n",
       "      <td>-0.217683</td>\n",
       "    </tr>\n",
       "    <tr>\n",
       "      <th>38</th>\n",
       "      <td>8.055253</td>\n",
       "      <td>8.032649</td>\n",
       "      <td>8.074132</td>\n",
       "      <td>8.026324</td>\n",
       "      <td>2.280000</td>\n",
       "      <td>9.0</td>\n",
       "      <td>1.0</td>\n",
       "      <td>2022.0</td>\n",
       "      <td>-0.877383</td>\n",
       "    </tr>\n",
       "    <tr>\n",
       "      <th>39</th>\n",
       "      <td>8.032691</td>\n",
       "      <td>8.070325</td>\n",
       "      <td>8.084704</td>\n",
       "      <td>8.006954</td>\n",
       "      <td>-3.610000</td>\n",
       "      <td>8.0</td>\n",
       "      <td>1.0</td>\n",
       "      <td>2022.0</td>\n",
       "      <td>-0.569055</td>\n",
       "    </tr>\n",
       "    <tr>\n",
       "      <th>40</th>\n",
       "      <td>8.069439</td>\n",
       "      <td>8.133652</td>\n",
       "      <td>8.135423</td>\n",
       "      <td>8.031808</td>\n",
       "      <td>-6.230000</td>\n",
       "      <td>7.0</td>\n",
       "      <td>1.0</td>\n",
       "      <td>2022.0</td>\n",
       "      <td>-0.020968</td>\n",
       "    </tr>\n",
       "    <tr>\n",
       "      <th>41</th>\n",
       "      <td>8.133813</td>\n",
       "      <td>8.170794</td>\n",
       "      <td>8.174756</td>\n",
       "      <td>8.103537</td>\n",
       "      <td>-3.620000</td>\n",
       "      <td>6.0</td>\n",
       "      <td>1.0</td>\n",
       "      <td>2022.0</td>\n",
       "      <td>-0.353979</td>\n",
       "    </tr>\n",
       "    <tr>\n",
       "      <th>43</th>\n",
       "      <td>8.239995</td>\n",
       "      <td>8.233402</td>\n",
       "      <td>8.265925</td>\n",
       "      <td>8.220199</td>\n",
       "      <td>0.670000</td>\n",
       "      <td>4.0</td>\n",
       "      <td>1.0</td>\n",
       "      <td>2022.0</td>\n",
       "      <td>-0.877527</td>\n",
       "    </tr>\n",
       "    <tr>\n",
       "      <th>44</th>\n",
       "      <td>8.233301</td>\n",
       "      <td>8.250803</td>\n",
       "      <td>8.255699</td>\n",
       "      <td>8.211342</td>\n",
       "      <td>-1.730000</td>\n",
       "      <td>3.0</td>\n",
       "      <td>1.0</td>\n",
       "      <td>2022.0</td>\n",
       "      <td>-1.083202</td>\n",
       "    </tr>\n",
       "    <tr>\n",
       "      <th>45</th>\n",
       "      <td>8.250795</td>\n",
       "      <td>8.233681</td>\n",
       "      <td>8.256130</td>\n",
       "      <td>8.221030</td>\n",
       "      <td>1.730000</td>\n",
       "      <td>2.0</td>\n",
       "      <td>1.0</td>\n",
       "      <td>2022.0</td>\n",
       "      <td>-1.416547</td>\n",
       "    </tr>\n",
       "    <tr>\n",
       "      <th>46</th>\n",
       "      <td>8.233681</td>\n",
       "      <td>8.210040</td>\n",
       "      <td>8.236209</td>\n",
       "      <td>8.209512</td>\n",
       "      <td>2.390000</td>\n",
       "      <td>1.0</td>\n",
       "      <td>1.0</td>\n",
       "      <td>2022.0</td>\n",
       "      <td>-1.429035</td>\n",
       "    </tr>\n",
       "    <tr>\n",
       "      <th>47</th>\n",
       "      <td>8.210084</td>\n",
       "      <td>8.218620</td>\n",
       "      <td>8.245912</td>\n",
       "      <td>8.195262</td>\n",
       "      <td>-0.850000</td>\n",
       "      <td>31.0</td>\n",
       "      <td>12.0</td>\n",
       "      <td>2021.0</td>\n",
       "      <td>-0.902265</td>\n",
       "    </tr>\n",
       "    <tr>\n",
       "      <th>48</th>\n",
       "      <td>8.218671</td>\n",
       "      <td>8.196803</td>\n",
       "      <td>8.234281</td>\n",
       "      <td>8.185807</td>\n",
       "      <td>2.250000</td>\n",
       "      <td>30.0</td>\n",
       "      <td>12.0</td>\n",
       "      <td>2021.0</td>\n",
       "      <td>-1.033611</td>\n",
       "    </tr>\n",
       "    <tr>\n",
       "      <th>49</th>\n",
       "      <td>8.196418</td>\n",
       "      <td>8.240899</td>\n",
       "      <td>8.249567</td>\n",
       "      <td>8.190687</td>\n",
       "      <td>-4.320000</td>\n",
       "      <td>29.0</td>\n",
       "      <td>12.0</td>\n",
       "      <td>2021.0</td>\n",
       "      <td>-0.785197</td>\n",
       "    </tr>\n",
       "    <tr>\n",
       "      <th>50</th>\n",
       "      <td>8.240567</td>\n",
       "      <td>8.303222</td>\n",
       "      <td>8.303222</td>\n",
       "      <td>8.232403</td>\n",
       "      <td>-6.060000</td>\n",
       "      <td>28.0</td>\n",
       "      <td>12.0</td>\n",
       "      <td>2021.0</td>\n",
       "      <td>-0.640118</td>\n",
       "    </tr>\n",
       "    <tr>\n",
       "      <th>51</th>\n",
       "      <td>8.303069</td>\n",
       "      <td>8.309436</td>\n",
       "      <td>8.324875</td>\n",
       "      <td>8.302276</td>\n",
       "      <td>-0.620000</td>\n",
       "      <td>27.0</td>\n",
       "      <td>12.0</td>\n",
       "      <td>2021.0</td>\n",
       "      <td>-1.160530</td>\n",
       "    </tr>\n",
       "    <tr>\n",
       "      <th>52</th>\n",
       "      <td>8.309251</td>\n",
       "      <td>8.317126</td>\n",
       "      <td>8.319773</td>\n",
       "      <td>8.295394</td>\n",
       "      <td>-0.780000</td>\n",
       "      <td>26.0</td>\n",
       "      <td>12.0</td>\n",
       "      <td>2021.0</td>\n",
       "      <td>-1.260261</td>\n",
       "    </tr>\n",
       "    <tr>\n",
       "      <th>53</th>\n",
       "      <td>8.317068</td>\n",
       "      <td>8.304891</td>\n",
       "      <td>8.327492</td>\n",
       "      <td>8.300248</td>\n",
       "      <td>1.230000</td>\n",
       "      <td>25.0</td>\n",
       "      <td>12.0</td>\n",
       "      <td>2021.0</td>\n",
       "      <td>-1.175936</td>\n",
       "    </tr>\n",
       "    <tr>\n",
       "      <th>54</th>\n",
       "      <td>8.304839</td>\n",
       "      <td>8.321227</td>\n",
       "      <td>8.326945</td>\n",
       "      <td>8.300091</td>\n",
       "      <td>-1.620000</td>\n",
       "      <td>24.0</td>\n",
       "      <td>12.0</td>\n",
       "      <td>2021.0</td>\n",
       "      <td>-1.038882</td>\n",
       "    </tr>\n",
       "    <tr>\n",
       "      <th>55</th>\n",
       "      <td>8.321212</td>\n",
       "      <td>8.288929</td>\n",
       "      <td>8.330664</td>\n",
       "      <td>8.267677</td>\n",
       "      <td>3.280000</td>\n",
       "      <td>23.0</td>\n",
       "      <td>12.0</td>\n",
       "      <td>2021.0</td>\n",
       "      <td>-0.556555</td>\n",
       "    </tr>\n",
       "  </tbody>\n",
       "</table>\n",
       "</div>"
      ],
      "text/plain": [
       "       Price      Open      High       Low  Change %   Day  Month    Year  \\\n",
       "0   8.029348  8.065366  8.065941  8.021558 -3.540000  16.0    2.0  2022.0   \n",
       "1   8.065350  7.982515  8.068773  7.976805  8.640000  15.0    2.0  2022.0   \n",
       "2   7.982522  7.962437  7.093713  7.949490  2.060000  14.0    2.0  2022.0   \n",
       "3   7.962154  7.978366  7.990557  7.950957 -1.610000  13.0    2.0  2022.0   \n",
       "5   7.981949  8.030019  8.050809  7.965754 -4.690000  11.0    2.0  2022.0   \n",
       "6   8.030029  8.084479  8.094793  8.025709 -5.300000  10.0    2.0  2022.0   \n",
       "7   8.084445  8.044277  8.091447  8.024846  4.100000   9.0    2.0  2022.0   \n",
       "8   8.044267  8.051867  8.079884  8.016219 -0.770000   8.0    2.0  2022.0   \n",
       "9   8.052035  8.024957  8.066449  8.004896  2.750000   7.0    2.0  2022.0   \n",
       "10  8.024928  8.010940  8.030484  7.991985  1.410000   6.0    2.0  2022.0   \n",
       "11  8.010960  8.004613  8.025804  7.993995  0.630000   5.0    2.0  2022.0   \n",
       "13  7.898337  7.893818  7.909846  7.855467  0.440000   3.0    2.0  2022.0   \n",
       "14  7.893945  7.932778  7.940787  7.870193  0.458974   2.0    2.0  2022.0   \n",
       "15  7.932778  7.896114  7.940441  7.892198  3.730000   1.0    2.0  2022.0   \n",
       "16  7.896114  7.864308  7.902724  7.815550  3.230000  31.0    1.0  2022.0   \n",
       "17  7.864332  7.863313  7.877033  7.841489  0.110000  30.0    1.0  2022.0   \n",
       "18  7.863274  7.842259  7.875693  7.832070  2.120000  29.0    1.0  2022.0   \n",
       "19  7.842259  7.793447  7.846332  7.767488  5.000000  28.0    1.0  2022.0   \n",
       "20  7.793447  7.808831  7.830104  7.748158 -1.490000  27.0    1.0  2022.0   \n",
       "21  7.808490  7.807132  7.908137  7.785580  0.140000  26.0    1.0  2022.0   \n",
       "22  7.807132  7.800167  7.825773  7.763174  0.700000  25.0    1.0  2022.0   \n",
       "24  7.840238  7.788427  7.842746  7.772268  5.320000  23.0    1.0  2022.0   \n",
       "25  7.788427  7.851922  7.871391  7.745782 -6.170000  22.0    1.0  2022.0   \n",
       "27  8.007940  8.034138  8.092762  8.002758 -2.560000  20.0    1.0  2022.0   \n",
       "28  8.033869  8.058375  8.062631  8.022667 -2.420000  19.0    1.0  2022.0   \n",
       "29  8.058375  8.073849  8.084091  8.034138 -1.530000  18.0    1.0  2022.0   \n",
       "30  8.073824  8.115709  8.118639  8.052742 -4.100000  17.0    1.0  2022.0   \n",
       "31  8.115697  8.109676  8.128060  8.094513  0.570000  16.0    1.0  2022.0   \n",
       "33  8.104069  8.083930  8.114097  8.069546  2.160000  14.0    1.0  2022.0   \n",
       "34  8.082720  8.122926  8.133875  8.081775 -3.940000  13.0    1.0  2022.0   \n",
       "35  8.122932  8.082779  8.133526  8.073403  4.110000  12.0    1.0  2022.0   \n",
       "36  8.082677  8.034190  8.090335  8.024011  4.940000  11.0    1.0  2022.0   \n",
       "37  8.034446  8.055243  8.064624  7.983331 -2.060000  10.0    1.0  2022.0   \n",
       "38  8.055253  8.032649  8.074132  8.026324  2.280000   9.0    1.0  2022.0   \n",
       "39  8.032691  8.070325  8.084704  8.006954 -3.610000   8.0    1.0  2022.0   \n",
       "40  8.069439  8.133652  8.135423  8.031808 -6.230000   7.0    1.0  2022.0   \n",
       "41  8.133813  8.170794  8.174756  8.103537 -3.620000   6.0    1.0  2022.0   \n",
       "43  8.239995  8.233402  8.265925  8.220199  0.670000   4.0    1.0  2022.0   \n",
       "44  8.233301  8.250803  8.255699  8.211342 -1.730000   3.0    1.0  2022.0   \n",
       "45  8.250795  8.233681  8.256130  8.221030  1.730000   2.0    1.0  2022.0   \n",
       "46  8.233681  8.210040  8.236209  8.209512  2.390000   1.0    1.0  2022.0   \n",
       "47  8.210084  8.218620  8.245912  8.195262 -0.850000  31.0   12.0  2021.0   \n",
       "48  8.218671  8.196803  8.234281  8.185807  2.250000  30.0   12.0  2021.0   \n",
       "49  8.196418  8.240899  8.249567  8.190687 -4.320000  29.0   12.0  2021.0   \n",
       "50  8.240567  8.303222  8.303222  8.232403 -6.060000  28.0   12.0  2021.0   \n",
       "51  8.303069  8.309436  8.324875  8.302276 -0.620000  27.0   12.0  2021.0   \n",
       "52  8.309251  8.317126  8.319773  8.295394 -0.780000  26.0   12.0  2021.0   \n",
       "53  8.317068  8.304891  8.327492  8.300248  1.230000  25.0   12.0  2021.0   \n",
       "54  8.304839  8.321227  8.326945  8.300091 -1.620000  24.0   12.0  2021.0   \n",
       "55  8.321212  8.288929  8.330664  8.267677  3.280000  23.0   12.0  2021.0   \n",
       "\n",
       "    Volume(In Million)  \n",
       "0            -0.911602  \n",
       "1            -0.616112  \n",
       "2            -0.739736  \n",
       "3            -1.193627  \n",
       "5            -0.497696  \n",
       "6            -0.297679  \n",
       "7            -0.738521  \n",
       "8             2.115166  \n",
       "9            -0.564895  \n",
       "10           -1.150179  \n",
       "11           -0.747350  \n",
       "13           -0.599165  \n",
       "14           -0.506834  \n",
       "15           -0.650586  \n",
       "16           -0.507946  \n",
       "17           -0.962754  \n",
       "18           -0.725299  \n",
       "19           -0.454918  \n",
       "20           -0.255486  \n",
       "21            0.048790  \n",
       "22           -0.421549  \n",
       "24           -0.265490  \n",
       "25            0.392042  \n",
       "27           -0.731722  \n",
       "28           -0.776942  \n",
       "29           -0.918318  \n",
       "30           -0.980083  \n",
       "31           -1.218477  \n",
       "33           -0.879043  \n",
       "34           -0.770439  \n",
       "35           -0.633069  \n",
       "36           -0.682781  \n",
       "37           -0.217683  \n",
       "38           -0.877383  \n",
       "39           -0.569055  \n",
       "40           -0.020968  \n",
       "41           -0.353979  \n",
       "43           -0.877527  \n",
       "44           -1.083202  \n",
       "45           -1.416547  \n",
       "46           -1.429035  \n",
       "47           -0.902265  \n",
       "48           -1.033611  \n",
       "49           -0.785197  \n",
       "50           -0.640118  \n",
       "51           -1.160530  \n",
       "52           -1.260261  \n",
       "53           -1.175936  \n",
       "54           -1.038882  \n",
       "55           -0.556555  "
      ]
     },
     "execution_count": 242,
     "metadata": {},
     "output_type": "execute_result"
    }
   ],
   "source": [
    "df.head(50)"
   ]
  },
  {
   "cell_type": "code",
   "execution_count": 243,
   "metadata": {},
   "outputs": [],
   "source": [
    "# Let's save our newly cleaned dataframe into new csv file, so that we can do \n",
    "# feature engineering.\n",
    "df.to_csv('D:\\\\Assignement 1\\\\Feature Engineering\\\\cleaned_dataset.csv',index=False)"
   ]
  }
 ],
 "metadata": {
  "interpreter": {
   "hash": "dcacb0086e9a4f4eabd41c33bf4faac5ea0a3337ed3f5eff0680afa930572c04"
  },
  "kernelspec": {
   "display_name": "Python 3.9.6 64-bit",
   "language": "python",
   "name": "python3"
  },
  "language_info": {
   "codemirror_mode": {
    "name": "ipython",
    "version": 3
   },
   "file_extension": ".py",
   "mimetype": "text/x-python",
   "name": "python",
   "nbconvert_exporter": "python",
   "pygments_lexer": "ipython3",
   "version": "3.9.6"
  },
  "orig_nbformat": 4
 },
 "nbformat": 4,
 "nbformat_minor": 2
}
